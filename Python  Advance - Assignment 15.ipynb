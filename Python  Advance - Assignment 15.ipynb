{
 "cells": [
  {
   "cell_type": "code",
   "execution_count": 1,
   "id": "26e751eb",
   "metadata": {},
   "outputs": [
    {
     "name": "stdout",
     "output_type": "stream",
     "text": [
      "Ans-: There is new syntax := that assigns values to variables as part of a larger expression. \n",
      "      It is affectionately known as “the walrus operator” due to its resemblance to the eyes and\n",
      "      tusks of a walrus.\n"
     ]
    }
   ],
   "source": [
    "# 1.What are the new features added in Python 3.8 version?\n",
    "\n",
    "print('''Ans-: There is new syntax := that assigns values to variables as part of a larger expression. \n",
    "      It is affectionately known as “the walrus operator” due to its resemblance to the eyes and\n",
    "      tusks of a walrus.''')"
   ]
  },
  {
   "cell_type": "code",
   "execution_count": 2,
   "id": "b4f3296f",
   "metadata": {},
   "outputs": [
    {
     "name": "stdout",
     "output_type": "stream",
     "text": [
      "Ans-:  modifying or updating a piece of code or class or any module at the runtime. \n"
     ]
    }
   ],
   "source": [
    "# 2.What is monkey patching in Python?\n",
    "\n",
    "print('Ans-:  modifying or updating a piece of code or class or any module at the runtime. ')"
   ]
  },
  {
   "cell_type": "code",
   "execution_count": 3,
   "id": "6e819214",
   "metadata": {},
   "outputs": [
    {
     "name": "stdout",
     "output_type": "stream",
     "text": [
      "Ans-: In Shallow copy, a copy of the original object is stored and only the reference address is\n",
      "      finally copied. In Deep copy, the copy of the original object and the repetitive copies both are\n",
      "      stored.\n"
     ]
    }
   ],
   "source": [
    "# 3.What is the difference between a shallow copy and deep copy?\n",
    "\n",
    "print('''Ans-: In Shallow copy, a copy of the original object is stored and only the reference address is\n",
    "      finally copied. In Deep copy, the copy of the original object and the repetitive copies both are\n",
    "      stored.''')"
   ]
  },
  {
   "cell_type": "code",
   "execution_count": 4,
   "id": "481e4d15",
   "metadata": {},
   "outputs": [
    {
     "name": "stdout",
     "output_type": "stream",
     "text": [
      "Ans-: 79 characters\n"
     ]
    }
   ],
   "source": [
    "# 4.What is the maximum possible length of an identifier?\n",
    "\n",
    "print('Ans-: 79 characters')"
   ]
  },
  {
   "cell_type": "code",
   "execution_count": 5,
   "id": "77e87bb6",
   "metadata": {},
   "outputs": [
    {
     "name": "stdout",
     "output_type": "stream",
     "text": [
      "Ans-: A single-line specification for defining a generator in Python. \n"
     ]
    }
   ],
   "source": [
    "# 5.What is generator comprehension?\n",
    "\n",
    "print('Ans-: A single-line specification for defining a generator in Python. ')"
   ]
  },
  {
   "cell_type": "code",
   "execution_count": null,
   "id": "d7051628",
   "metadata": {},
   "outputs": [],
   "source": []
  }
 ],
 "metadata": {
  "kernelspec": {
   "display_name": "Python 3 (ipykernel)",
   "language": "python",
   "name": "python3"
  },
  "language_info": {
   "codemirror_mode": {
    "name": "ipython",
    "version": 3
   },
   "file_extension": ".py",
   "mimetype": "text/x-python",
   "name": "python",
   "nbconvert_exporter": "python",
   "pygments_lexer": "ipython3",
   "version": "3.10.6"
  }
 },
 "nbformat": 4,
 "nbformat_minor": 5
}
