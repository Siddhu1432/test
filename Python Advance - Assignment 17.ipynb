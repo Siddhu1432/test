{
 "cells": [
  {
   "cell_type": "code",
   "execution_count": 1,
   "id": "edf4f114",
   "metadata": {},
   "outputs": [
    {
     "name": "stdout",
     "output_type": "stream",
     "text": [
      "Ans-: The greedy match will try to match as many repetitions of the quantified\n",
      "      pattern as possible. The non-greedy match will try to match as few \n",
      "      repetitions of the quantified pattern as possible.\n"
     ]
    }
   ],
   "source": [
    "# Q1. Explain the difference between greedy and non-greedy syntax with visual terms in as few words as possible. What is the bare minimum effort required to transform a greedy pattern into a non-greedy one? What characters or characters can you introduce or change?\n",
    "\n",
    "print('''Ans-: The greedy match will try to match as many repetitions of the quantified\n",
    "      pattern as possible. The non-greedy match will try to match as few \n",
    "      repetitions of the quantified pattern as possible.''')\n",
    "\n"
   ]
  },
  {
   "cell_type": "code",
   "execution_count": 2,
   "id": "371fca15",
   "metadata": {},
   "outputs": [
    {
     "name": "stdout",
     "output_type": "stream",
     "text": [
      "Ans-: So the difference between the greedy and the non-greedy match is the\n",
      "      following: The greedy match will try to match as many repetitions of the \n",
      "      quantified pattern as possible. The non-greedy match will try to match as\n",
      "      few repetitions of the quantified pattern as possible.\n"
     ]
    }
   ],
   "source": [
    "# Q2. When exactly does greedy versus non-greedy make a difference?  What if you're looking for a non-greedy match but the only one available is greedy?\n",
    "\n",
    "print('''Ans-: So the difference between the greedy and the non-greedy match is the\n",
    "      following: The greedy match will try to match as many repetitions of the \n",
    "      quantified pattern as possible. The non-greedy match will try to match as\n",
    "      few repetitions of the quantified pattern as possible.''')\n",
    "\n"
   ]
  },
  {
   "cell_type": "code",
   "execution_count": 3,
   "id": "a63e8165",
   "metadata": {},
   "outputs": [
    {
     "name": "stdout",
     "output_type": "stream",
     "text": [
      "Ans-: A Regex object's search() method searches the string it is passed for any matches to the regex.\n",
      "      Match objects have a group() method that will return the actual matched text from the searched\n",
      "      string.\n"
     ]
    }
   ],
   "source": [
    "# Q3. In a simple match of a string, which looks only for one match and does not do any replacement, is the use of a nontagged group likely to make any practical difference?\n",
    "\n",
    "print('''Ans-: A Regex object's search() method searches the string it is passed for any matches to the regex.\n",
    "      Match objects have a group() method that will return the actual matched text from the searched\n",
    "      string.''')\n",
    "\n"
   ]
  },
  {
   "cell_type": "code",
   "execution_count": 4,
   "id": "b6dac107",
   "metadata": {},
   "outputs": [
    {
     "name": "stdout",
     "output_type": "stream",
     "text": [
      "Ans-: Regular expression matching is used to tag words.\n"
     ]
    }
   ],
   "source": [
    "# Q4. Describe a scenario in which using a nontagged category would have a significant impact on the program's outcomes.\n",
    "\n",
    "print('Ans-: Regular expression matching is used to tag words.')\n",
    "\n"
   ]
  },
  {
   "cell_type": "code",
   "execution_count": 5,
   "id": "68235044",
   "metadata": {},
   "outputs": [
    {
     "name": "stdout",
     "output_type": "stream",
     "text": [
      "Ans-: There are two types of lookaround assertions for regular expressions: lookahead and lookbehind.\n",
      "      In both cases, the assertion is a condition that must be satisfied to return a match to the expression.\n",
      "      A lookahead assertion has the form (?= test) and can appear anywhere in a regular expression.\n"
     ]
    }
   ],
   "source": [
    "# Q5. Unlike a normal regex pattern, a look-ahead condition does not consume the characters it examines. Describe a situation in which this could make a difference in the results of your programme.\n",
    "\n",
    "print('''Ans-: There are two types of lookaround assertions for regular expressions: lookahead and lookbehind.\n",
    "      In both cases, the assertion is a condition that must be satisfied to return a match to the expression.\n",
    "      A lookahead assertion has the form (?= test) and can appear anywhere in a regular expression.''')\n",
    "\n"
   ]
  },
  {
   "cell_type": "code",
   "execution_count": 6,
   "id": "f7c0732a",
   "metadata": {},
   "outputs": [
    {
     "name": "stdout",
     "output_type": "stream",
     "text": [
      "Ans-: Positive lookahead: (?= «pattern») matches if pattern matches what comes after the current location\n",
      "      in the input string. Negative lookahead: (?! «pattern») matches if pattern does not match what comes after\n",
      "      the current location in the input string.\n"
     ]
    }
   ],
   "source": [
    "# Q6. In standard expressions, what is the difference between positive look-ahead and negative look-ahead?\n",
    "\n",
    "print('''Ans-: Positive lookahead: (?= «pattern») matches if pattern matches what comes after the current location\n",
    "      in the input string. Negative lookahead: (?! «pattern») matches if pattern does not match what comes after\n",
    "      the current location in the input string.''')\n",
    "\n"
   ]
  },
  {
   "cell_type": "code",
   "execution_count": 7,
   "id": "ec7d2a6e",
   "metadata": {},
   "outputs": [
    {
     "name": "stdout",
     "output_type": "stream",
     "text": [
      "Ans-: The advantage to named groups is that it adds readability and understandability to the code,\n",
      "      so that you can easily see what part of a regular expression match is being referenced\n"
     ]
    }
   ],
   "source": [
    "# Q7. What is the benefit of referring to groups by name rather than by number in a standard expression?\n",
    "\n",
    "print('''Ans-: The advantage to named groups is that it adds readability and understandability to the code,\n",
    "      so that you can easily see what part of a regular expression match is being referenced''')\n",
    "\n"
   ]
  },
  {
   "cell_type": "code",
   "execution_count": 8,
   "id": "0d2fdd06",
   "metadata": {},
   "outputs": [
    {
     "name": "stdout",
     "output_type": "stream",
     "text": [
      "yes\n"
     ]
    }
   ],
   "source": [
    "# Q8. Can you identify repeated items within a target string using named groups, as in \"The cow jumped over the moon\"?\n",
    "\n",
    "a = 'The cow jumped over the moon'\n",
    "if 'moon' in a:\n",
    "    print('yes')\n",
    "else:\n",
    "    ('no')\n",
    "        \n"
   ]
  },
  {
   "cell_type": "code",
   "execution_count": 9,
   "id": "c8294c61",
   "metadata": {},
   "outputs": [
    {
     "name": "stdout",
     "output_type": "stream",
     "text": [
      "['123456789', '987654321']\n"
     ]
    }
   ],
   "source": [
    "# Q9. When parsing a string, what is at least one thing that the Scanner interface does for you that the re.findall feature does not?\n",
    "\n",
    "import re  \n",
    "    \n",
    "string = \"\"\"Hello my Number is 123456789 and  \n",
    "             my friend's number is 987654321\"\"\"\n",
    "    \n",
    "regex = '\\d+'             \n",
    "    \n",
    "match = re.findall(regex, string)  \n",
    "print(match) \n",
    "\n"
   ]
  },
  {
   "cell_type": "code",
   "execution_count": 10,
   "id": "8858ab8c",
   "metadata": {},
   "outputs": [
    {
     "name": "stdout",
     "output_type": "stream",
     "text": [
      "Ans-: A Scanner breaks its input into tokens using a delimiter pattern, which by default matches\n",
      "      whitespace. The resulting tokens may then be converted into values of different types using the\n",
      "      various next methods.\n"
     ]
    }
   ],
   "source": [
    "# Q10. Does a scanner object have to be named scanner?\n",
    "\n",
    "print('''Ans-: A Scanner breaks its input into tokens using a delimiter pattern, which by default matches\n",
    "      whitespace. The resulting tokens may then be converted into values of different types using the\n",
    "      various next methods.''')"
   ]
  },
  {
   "cell_type": "code",
   "execution_count": null,
   "id": "1d7c0da4",
   "metadata": {},
   "outputs": [],
   "source": []
  }
 ],
 "metadata": {
  "kernelspec": {
   "display_name": "Python 3 (ipykernel)",
   "language": "python",
   "name": "python3"
  },
  "language_info": {
   "codemirror_mode": {
    "name": "ipython",
    "version": 3
   },
   "file_extension": ".py",
   "mimetype": "text/x-python",
   "name": "python",
   "nbconvert_exporter": "python",
   "pygments_lexer": "ipython3",
   "version": "3.10.6"
  }
 },
 "nbformat": 4,
 "nbformat_minor": 5
}
