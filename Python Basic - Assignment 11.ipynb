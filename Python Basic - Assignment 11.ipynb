{
 "cells": [
  {
   "cell_type": "code",
   "execution_count": 1,
   "id": "68fe7d8d",
   "metadata": {},
   "outputs": [
    {
     "name": "stdout",
     "output_type": "stream",
     "text": [
      "Ans-: spam = -5\n",
      "      assert spam >=10 \n"
     ]
    }
   ],
   "source": [
    "# 1. Create an assert statement that throws an AssertionError if the variable spam is a negative integer.\n",
    "\n",
    "print('''Ans-: spam = -5\n",
    "      assert spam >=10 ''')"
   ]
  },
  {
   "cell_type": "code",
   "execution_count": 2,
   "id": "4cf1b4e1",
   "metadata": {},
   "outputs": [
    {
     "name": "stdout",
     "output_type": "stream",
     "text": [
      "Ans-: assert(eggs.lower() != bacon.lower(), 'The eggs and \n",
      "      bacon variables are the same!') or assert(eggs.upper()\n",
      "      != bacon.upper(),'The eggs and bacon variables are the\n",
      "      same!')\n"
     ]
    }
   ],
   "source": [
    "# 2. Write an assert statement that triggers an AssertionError if the variables eggs and bacon contain strings that are the same as each other, even if their cases are different (that is, 'hello' and 'hello' are considered the same, and 'goodbye' and 'GOODbye' are also considered the same).\n",
    "\n",
    "print('''Ans-: assert(eggs.lower() != bacon.lower(), 'The eggs and \n",
    "      bacon variables are the same!') or assert(eggs.upper()\n",
    "      != bacon.upper(),'The eggs and bacon variables are the\n",
    "      same!')''')\n"
   ]
  },
  {
   "cell_type": "code",
   "execution_count": 3,
   "id": "ccb5e528",
   "metadata": {},
   "outputs": [
    {
     "name": "stdout",
     "output_type": "stream",
     "text": [
      "Ans-: assert False, 'This assertion always triggers.'  \n"
     ]
    }
   ],
   "source": [
    "# 3. Create an assert statement that throws an AssertionError every time.\n",
    "\n",
    "print(\"Ans-: assert False, 'This assertion always triggers.'  \")"
   ]
  },
  {
   "cell_type": "code",
   "execution_count": 4,
   "id": "1095dd01",
   "metadata": {},
   "outputs": [
    {
     "name": "stdout",
     "output_type": "stream",
     "text": [
      " Ans-: To be able to call logging.debug(), you must have these\n",
      "       two lines at the start of your program:\n",
      "       import logging logging.\n",
      "       basicConfig(level=logging.DEBUG, \n",
      "       format=' %(asctime)s - %(levelname)s - %(message)s'  \n",
      "        \n"
     ]
    }
   ],
   "source": [
    "# 4. What are the two lines that must be present in your software in order to call logging.debug()?\n",
    "\n",
    "print(''' Ans-: To be able to call logging.debug(), you must have these\n",
    "       two lines at the start of your program:\n",
    "       import logging logging.\n",
    "       basicConfig(level=logging.DEBUG, \n",
    "       format=' %(asctime)s - %(levelname)s - %(message)s'  \n",
    "        ''')\n",
    "\n",
    "\n"
   ]
  },
  {
   "cell_type": "code",
   "execution_count": 5,
   "id": "43b7f1cf",
   "metadata": {},
   "outputs": [
    {
     "name": "stdout",
     "output_type": "stream",
     "text": [
      "Ans-: import logging logging.basicConfig\n",
      "      (filename='programLog.txt',\n",
      "      level=logging.DEBUG,\n",
      "      format=' %(asctime)s - %(levelname)s - %(message)s')\n"
     ]
    }
   ],
   "source": [
    "# 5. What are the two lines that your program must have in order to have logging.debug() send a logging message to a file named programLog.txt?\n",
    "\n",
    "print('''Ans-: import logging logging.basicConfig\n",
    "      (filename='programLog.txt',\n",
    "      level=logging.DEBUG,\n",
    "      format=' %(asctime)s - %(levelname)s - %(message)s')''')\n",
    "\n"
   ]
  },
  {
   "cell_type": "code",
   "execution_count": 6,
   "id": "3a99b6d9",
   "metadata": {},
   "outputs": [
    {
     "name": "stdout",
     "output_type": "stream",
     "text": [
      "Ans-: DEBUG, INFO, WARNING, ERROR, and CRITICAL\n"
     ]
    }
   ],
   "source": [
    "# 6. What are the five levels of logging?\n",
    "\n",
    "print(\"Ans-: DEBUG, INFO, WARNING, ERROR, and CRITICAL\")"
   ]
  },
  {
   "cell_type": "code",
   "execution_count": 7,
   "id": "486381dd",
   "metadata": {},
   "outputs": [
    {
     "name": "stdout",
     "output_type": "stream",
     "text": [
      "Ans-: logging.disable(logging.CRITICAL) \n"
     ]
    }
   ],
   "source": [
    "# 7. What line of code would you add to your software to disable all logging messages?\n",
    "\n",
    "print(\"Ans-: logging.disable(logging.CRITICAL) \")"
   ]
  },
  {
   "cell_type": "code",
   "execution_count": 8,
   "id": "c7c83ce9",
   "metadata": {},
   "outputs": [
    {
     "name": "stdout",
     "output_type": "stream",
     "text": [
      "Ans-: You can disable logging messages without removing the\n",
      "      logging function calls. You can selectively disable\n",
      "      lower-level logging messages. You can create logging\n",
      "      messages. Logging messages provides a timestamp.\n"
     ]
    }
   ],
   "source": [
    "# 8.Why is using logging messages better than using print() to display the same message?\n",
    "\n",
    "print('''Ans-: You can disable logging messages without removing the\n",
    "      logging function calls. You can selectively disable\n",
    "      lower-level logging messages. You can create logging\n",
    "      messages. Logging messages provides a timestamp.''')"
   ]
  },
  {
   "cell_type": "code",
   "execution_count": 9,
   "id": "5976aff7",
   "metadata": {},
   "outputs": [
    {
     "name": "stdout",
     "output_type": "stream",
     "text": [
      "Ans-: The Step button will move the debugger into a function \n",
      "      call. The Over button will quickly execute the function\n",
      "      call without stepping into it. The Out button will \n",
      "      quickly execute the rest of the code until it steps\n",
      "      out of the function it currently is in.\n"
     ]
    }
   ],
   "source": [
    "# 9. What are the differences between the Step Over, Step In, and Step Out buttons in the debugger?\n",
    "\n",
    "print('''Ans-: The Step button will move the debugger into a function \n",
    "      call. The Over button will quickly execute the function\n",
    "      call without stepping into it. The Out button will \n",
    "      quickly execute the rest of the code until it steps\n",
    "      out of the function it currently is in.''')"
   ]
  },
  {
   "cell_type": "code",
   "execution_count": 10,
   "id": "6ba4f206",
   "metadata": {},
   "outputs": [
    {
     "name": "stdout",
     "output_type": "stream",
     "text": [
      "Ans-: After you click Go, the debugger will stop when it has\n",
      "      reached the end of the program or a line with a \n",
      "      breakpoint.\n"
     ]
    }
   ],
   "source": [
    "# 10.After you click Continue, when will the debugger stop ?\n",
    "\n",
    "print('''Ans-: After you click Go, the debugger will stop when it has\n",
    "      reached the end of the program or a line with a \n",
    "      breakpoint.''')"
   ]
  },
  {
   "cell_type": "code",
   "execution_count": 11,
   "id": "554d8cef",
   "metadata": {},
   "outputs": [
    {
     "name": "stdout",
     "output_type": "stream",
     "text": [
      "Ans-: A breakpoint is a setting on a line of code that causes\n",
      "      the debugger to pause when the program execution reaches\n",
      "      the line.\n"
     ]
    }
   ],
   "source": [
    "# 11. What is the concept of a breakpoint?\n",
    "\n",
    "print('''Ans-: A breakpoint is a setting on a line of code that causes\n",
    "      the debugger to pause when the program execution reaches\n",
    "      the line.''')"
   ]
  },
  {
   "cell_type": "code",
   "execution_count": null,
   "id": "99459c7c",
   "metadata": {},
   "outputs": [],
   "source": []
  }
 ],
 "metadata": {
  "kernelspec": {
   "display_name": "Python 3 (ipykernel)",
   "language": "python",
   "name": "python3"
  },
  "language_info": {
   "codemirror_mode": {
    "name": "ipython",
    "version": 3
   },
   "file_extension": ".py",
   "mimetype": "text/x-python",
   "name": "python",
   "nbconvert_exporter": "python",
   "pygments_lexer": "ipython3",
   "version": "3.10.6"
  }
 },
 "nbformat": 4,
 "nbformat_minor": 5
}
