{
 "cells": [
  {
   "cell_type": "code",
   "execution_count": 1,
   "id": "937f6d88",
   "metadata": {},
   "outputs": [
    {
     "name": "stdout",
     "output_type": "stream",
     "text": [
      "Ans -: \n",
      "                True and False are two type of the Boolean data type. \n",
      "                first word is capital, T and F and rest of the words in \n",
      "                lowercase.\n"
     ]
    }
   ],
   "source": [
    "# 1.What are the two values of the Boolean data type? How do you write them?\n",
    "\n",
    "print('''Ans -: \n",
    "                True and False are two type of the Boolean data type. \n",
    "                first word is capital, T and F and rest of the words in \n",
    "                lowercase.''')\n",
    "\n",
    "\n",
    "         \n",
    "         "
   ]
  },
  {
   "cell_type": "code",
   "execution_count": 2,
   "id": "211bc80d",
   "metadata": {},
   "outputs": [
    {
     "name": "stdout",
     "output_type": "stream",
     "text": [
      "Ans -: 'and', 'or' and 'not' are the three Boolean operators.\n"
     ]
    }
   ],
   "source": [
    "# 2. What are the three different types of Boolean operators?\n",
    "\n",
    "print(\"Ans -: 'and', 'or' and 'not' are the three Boolean operators.\")"
   ]
  },
  {
   "cell_type": "code",
   "execution_count": 3,
   "id": "679979de",
   "metadata": {},
   "outputs": [
    {
     "name": "stdout",
     "output_type": "stream",
     "text": [
      " Ans -: \n",
      "                 True and True is True\n",
      "                 True and False is False\n",
      "                 False and True is False\n",
      "                 False and False is False\n",
      "                 True or True is True \n",
      "                 True or False is True\n",
      "                 False or True is True\n",
      "                 False or False is False\n",
      "                 not True is False\n",
      "                 not False is True\n"
     ]
    }
   ],
   "source": [
    "# 3. Make a list of each Boolean operator's truth tables (i.e. every possible combination of Boolean values for the operator and what it evaluate ).\n",
    "\n",
    "print(''' Ans -: \n",
    "                 True and True is True\n",
    "                 True and False is False\n",
    "                 False and True is False\n",
    "                 False and False is False\n",
    "                 True or True is True \n",
    "                 True or False is True\n",
    "                 False or True is True\n",
    "                 False or False is False\n",
    "                 not True is False\n",
    "                 not False is True''')\n"
   ]
  },
  {
   "cell_type": "code",
   "execution_count": 4,
   "id": "71b3dcef",
   "metadata": {},
   "outputs": [
    {
     "name": "stdout",
     "output_type": "stream",
     "text": [
      "False\n",
      "False\n",
      "True\n",
      "False\n",
      "False\n",
      "True\n"
     ]
    }
   ],
   "source": [
    "# 4. What are the values of the following expressions?\n",
    "\n",
    "print((5 > 4) and (3 == 5))\n",
    "\n",
    "print(not (5 > 4))\n",
    "\n",
    "print((5 > 4) or (3 == 5))\n",
    "\n",
    "print (not ((5 > 4) or (3 == 5)))\n",
    "\n",
    "print((True and True) and (True == False))\n",
    "\n",
    "print((not False) or (not True))\n",
    "\n"
   ]
  },
  {
   "cell_type": "code",
   "execution_count": 5,
   "id": "bd005702",
   "metadata": {},
   "outputs": [
    {
     "name": "stdout",
     "output_type": "stream",
     "text": [
      " Ans -: '==', '>', '<', '!=', '>=' and '<=' \n"
     ]
    }
   ],
   "source": [
    "# 5. What are the six comparison operators?\n",
    "\n",
    "print(\" Ans -: '==', '>', '<', '!=', '>=' and '<=' \")\n"
   ]
  },
  {
   "cell_type": "code",
   "execution_count": 6,
   "id": "97e25b9e",
   "metadata": {},
   "outputs": [
    {
     "name": "stdout",
     "output_type": "stream",
     "text": [
      " Ans -: \n",
      "                == is the equal to operator that compares two values and \n",
      "                evaluates to a boolean, while = is the assignment operators \n",
      "                that stores a value in a variable.\n",
      "                \n",
      "                A condition is an expression used in a flowccontrol statement\n",
      "                that evaluatecto a Boolean value.\n"
     ]
    }
   ],
   "source": [
    "# 6. How do you tell the difference between the equal to and assignment operators?Describe a condition and when you would use one.\n",
    "\n",
    "print(''' Ans -: \n",
    "                == is the equal to operator that compares two values and \n",
    "                evaluates to a boolean, while = is the assignment operators \n",
    "                that stores a value in a variable.\n",
    "                \n",
    "                A condition is an expression used in a flowccontrol statement\n",
    "                that evaluatecto a Boolean value.''')"
   ]
  },
  {
   "cell_type": "code",
   "execution_count": 7,
   "id": "690fec7b",
   "metadata": {},
   "outputs": [
    {
     "name": "stdout",
     "output_type": "stream",
     "text": [
      "6\n",
      "bacon\n"
     ]
    }
   ],
   "source": [
    "# 7. Identify the three blocks in this code: \n",
    "\n",
    "# spam = 0\n",
    "# if spam == 10:\n",
    "# print('eggs')\n",
    "# if spam > 5:\n",
    "# print('bacon')\n",
    "# else:\n",
    "# print('ham')\n",
    "# print('spam')\n",
    "# print('spam')\n",
    "\n",
    "\n",
    "spam = input()\n",
    "\n",
    "if spam == ('10'):\n",
    "    print('eggs')\n",
    "elif spam > ('5'):\n",
    "    print('bacon')\n",
    "else:\n",
    "    print('ham')\n",
    "    print('spam')\n",
    "\n"
   ]
  },
  {
   "cell_type": "code",
   "execution_count": 8,
   "id": "388fa4cc",
   "metadata": {},
   "outputs": [
    {
     "name": "stdout",
     "output_type": "stream",
     "text": [
      "3\n",
      "Greetings!\n"
     ]
    }
   ],
   "source": [
    "# 8. Write code that prints Hello if 1 is stored in spam, prints Howdy if 2 is stored in spam, and prints Greetings! if anything else is stored in spam\n",
    "\n",
    "spam = input()\n",
    "\n",
    "if spam == 1:\n",
    "     print('Hello')\n",
    "elif spam == 2:\n",
    "     print('Howdy')\n",
    "else:\n",
    "     print('Greetings!')\n",
    "        \n",
    "\n"
   ]
  },
  {
   "cell_type": "code",
   "execution_count": 9,
   "id": "7313eb18",
   "metadata": {},
   "outputs": [
    {
     "data": {
      "text/plain": [
       "\"Ans -: Press 'Ctrl + C' to stop program stuck in an infinite loop.\""
      ]
     },
     "execution_count": 9,
     "metadata": {},
     "output_type": "execute_result"
    }
   ],
   "source": [
    "# 9.If your programme is stuck in an endless loop, what keys you’ll press?\n",
    "\n",
    "(\"Ans -: Press 'Ctrl + C' to stop program stuck in an infinite loop.\")"
   ]
  },
  {
   "cell_type": "code",
   "execution_count": 10,
   "id": "a227f35f",
   "metadata": {},
   "outputs": [
    {
     "name": "stdout",
     "output_type": "stream",
     "text": [
      "Ans -:\n",
      " Break - The break statement will move the exicutation \n",
      "         outside and just after a loop.\n",
      "                \n",
      " Continue - The continue statement will move the \n",
      "            exicution to the start of the loop. \n"
     ]
    }
   ],
   "source": [
    "# 10. How can you tell the difference between break and continue?\n",
    "\n",
    "print('''Ans -:\n",
    " Break - The break statement will move the exicutation \n",
    "         outside and just after a loop.\n",
    "                \n",
    " Continue - The continue statement will move the \n",
    "            exicution to the start of the loop. ''')"
   ]
  },
  {
   "cell_type": "code",
   "execution_count": 11,
   "id": "6ae71058",
   "metadata": {},
   "outputs": [
    {
     "name": "stdout",
     "output_type": "stream",
     "text": [
      " Ans-:\n",
      "\n",
      "They all do the same thing.\n",
      "\n",
      "The range(10)) call the range 0 up to 10.\n",
      "\n",
      "The range(0,10) explicitly tells the loop to start at 0.\n",
      "\n",
      "The range(0,10,1) explicitly tells the loop to incrrease \n",
      "the variable on each iteration.\n"
     ]
    }
   ],
   "source": [
    "# 11. In a for loop, what is the difference between range(10), range(0, 10), and range(0, 10, 1)?\n",
    "\n",
    "print(''' Ans-:\n",
    "\n",
    "They all do the same thing.\n",
    "\n",
    "The range(10)) call the range 0 up to 10.\n",
    "\n",
    "The range(0,10) explicitly tells the loop to start at 0.\n",
    "\n",
    "The range(0,10,1) explicitly tells the loop to incrrease \n",
    "the variable on each iteration.''')"
   ]
  },
  {
   "cell_type": "code",
   "execution_count": 12,
   "id": "2d11619b",
   "metadata": {},
   "outputs": [
    {
     "name": "stdout",
     "output_type": "stream",
     "text": [
      "0\n",
      "1\n",
      "2\n",
      "3\n",
      "4\n",
      "5\n",
      "6\n",
      "7\n",
      "8\n",
      "9\n"
     ]
    }
   ],
   "source": [
    "for s in range(10):\n",
    "      print(s)\n"
   ]
  },
  {
   "cell_type": "code",
   "execution_count": 13,
   "id": "94908564",
   "metadata": {},
   "outputs": [
    {
     "name": "stdout",
     "output_type": "stream",
     "text": [
      "0\n",
      "1\n",
      "2\n",
      "3\n",
      "4\n",
      "5\n",
      "6\n",
      "7\n",
      "8\n",
      "9\n"
     ]
    }
   ],
   "source": [
    "for s in range(0,10):\n",
    "      print(s)"
   ]
  },
  {
   "cell_type": "code",
   "execution_count": 14,
   "id": "673c5f60",
   "metadata": {},
   "outputs": [
    {
     "name": "stdout",
     "output_type": "stream",
     "text": [
      "0\n",
      "1\n",
      "2\n",
      "3\n",
      "4\n",
      "5\n",
      "6\n",
      "7\n",
      "8\n",
      "9\n"
     ]
    }
   ],
   "source": [
    "for s in range(0,10,1):\n",
    "      print(s)"
   ]
  },
  {
   "cell_type": "code",
   "execution_count": 15,
   "id": "d51abfeb",
   "metadata": {},
   "outputs": [
    {
     "name": "stdout",
     "output_type": "stream",
     "text": [
      "1\n",
      "2\n",
      "3\n",
      "4\n",
      "5\n",
      "6\n",
      "7\n",
      "8\n",
      "9\n",
      "10\n"
     ]
    }
   ],
   "source": [
    "# 12. Write a short program that prints the numbers 1 to 10 using a for loop. Then write an equivalent program that prints the numbers 1 to 10 using a while loop.\n",
    "\n",
    "for i in range(1,11): \n",
    "    print(i)\n",
    "    \n",
    "    "
   ]
  },
  {
   "cell_type": "code",
   "execution_count": 16,
   "id": "40139181",
   "metadata": {},
   "outputs": [
    {
     "name": "stdout",
     "output_type": "stream",
     "text": [
      "1\n",
      "2\n",
      "3\n",
      "4\n",
      "5\n",
      "6\n",
      "7\n",
      "8\n",
      "9\n",
      "10\n"
     ]
    }
   ],
   "source": [
    "i = 1\n",
    "while i <= 10:\n",
    "    print(i)\n",
    "    i+=1\n",
    "    "
   ]
  },
  {
   "cell_type": "code",
   "execution_count": 17,
   "id": "805c4066",
   "metadata": {},
   "outputs": [
    {
     "name": "stdout",
     "output_type": "stream",
     "text": [
      "Ans -: The function can be called with 'spam.bacon()'. \n"
     ]
    }
   ],
   "source": [
    "# 13. If you had a function named bacon() inside a module named spam, how would you call it after importing spam?\n",
    "\n",
    "print(\"Ans -: The function can be called with 'spam.bacon()'. \")"
   ]
  },
  {
   "cell_type": "code",
   "execution_count": null,
   "id": "a0944c34",
   "metadata": {},
   "outputs": [],
   "source": []
  }
 ],
 "metadata": {
  "kernelspec": {
   "display_name": "Python 3 (ipykernel)",
   "language": "python",
   "name": "python3"
  },
  "language_info": {
   "codemirror_mode": {
    "name": "ipython",
    "version": 3
   },
   "file_extension": ".py",
   "mimetype": "text/x-python",
   "name": "python",
   "nbconvert_exporter": "python",
   "pygments_lexer": "ipython3",
   "version": "3.10.6"
  }
 },
 "nbformat": 4,
 "nbformat_minor": 5
}
