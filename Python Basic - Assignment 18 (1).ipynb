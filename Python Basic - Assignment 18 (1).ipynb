{
 "cells": [
  {
   "cell_type": "code",
   "execution_count": 1,
   "id": "8706daff",
   "metadata": {},
   "outputs": [
    {
     "name": "stdout",
     "output_type": "stream",
     "text": [
      "Ans-:        1)from google.colab import files\n",
      "               uploaded = files.upload()\n",
      "     \n",
      "      result:  Upload widget is only available when the cell has been executed in the current browser session.\n",
      "               Please rerun this cell to enable. Saving zoo.py to zoo.py\n",
      "\n",
      "             2)import zoo\n",
      "               from importlib import reload\n",
      "               reload(zoo)\n",
      "               zoo.hours()\n",
      "     \n",
      "      result:  Open 9-5 daily\n",
      "\n"
     ]
    }
   ],
   "source": [
    "# 1. Create a zoo.py file first. Define the hours() function, which prints the string 'Open 9-5 daily'. Then, use the interactive interpreter to import the zoo module and call its hours() function.\n",
    "\n",
    "print('''Ans-:        1)from google.colab import files\n",
    "               uploaded = files.upload()\n",
    "     \n",
    "      result:  Upload widget is only available when the cell has been executed in the current browser session.\n",
    "               Please rerun this cell to enable. Saving zoo.py to zoo.py\n",
    "\n",
    "             2)import zoo\n",
    "               from importlib import reload\n",
    "               reload(zoo)\n",
    "               zoo.hours()\n",
    "     \n",
    "      result:  Open 9-5 daily\n",
    "''')"
   ]
  },
  {
   "cell_type": "code",
   "execution_count": 2,
   "id": "738fde88",
   "metadata": {},
   "outputs": [
    {
     "name": "stdout",
     "output_type": "stream",
     "text": [
      "Ans-:\n",
      "              import zoo as menagerie\n",
      "              menagerie.hours()\n",
      "     \n",
      "      result: Open 9-5 daily\n",
      "\n"
     ]
    }
   ],
   "source": [
    "# 2. In the interactive interpreter, import the zoo module as menagerie and call its hours() function.\n",
    "\n",
    "print('''Ans-:\n",
    "              import zoo as menagerie\n",
    "              menagerie.hours()\n",
    "     \n",
    "      result: Open 9-5 daily\n",
    "''')"
   ]
  },
  {
   "cell_type": "code",
   "execution_count": 3,
   "id": "60456550",
   "metadata": {},
   "outputs": [
    {
     "name": "stdout",
     "output_type": "stream",
     "text": [
      "Ans-: \n",
      "              from zoo import hours \n",
      "              hours()\n",
      "     \n",
      "      result: Open 9-5 daily\n",
      "\n"
     ]
    }
   ],
   "source": [
    "# 3. Using the interpreter, explicitly import and call the hours() function from zoo.\n",
    "\n",
    "print('''Ans-: \n",
    "              from zoo import hours \n",
    "              hours()\n",
    "     \n",
    "      result: Open 9-5 daily\n",
    "''')"
   ]
  },
  {
   "cell_type": "code",
   "execution_count": 4,
   "id": "2d759105",
   "metadata": {},
   "outputs": [
    {
     "name": "stdout",
     "output_type": "stream",
     "text": [
      "Ans-: \n",
      "              from zoo import hours as info\n",
      "              info()\n",
      "     \n",
      "      result: Open 9-5 daily\n",
      "\n"
     ]
    }
   ],
   "source": [
    "# 4. Import the hours() function as info and call it.\n",
    "\n",
    "print('''Ans-: \n",
    "              from zoo import hours as info\n",
    "              info()\n",
    "     \n",
    "      result: Open 9-5 daily\n",
    "''')"
   ]
  },
  {
   "cell_type": "code",
   "execution_count": 5,
   "id": "8cc908c4",
   "metadata": {},
   "outputs": [
    {
     "data": {
      "text/plain": [
       "{'a': 1, 'b': 2, 'c': 3}"
      ]
     },
     "execution_count": 5,
     "metadata": {},
     "output_type": "execute_result"
    }
   ],
   "source": [
    "# 5. Create a plain dictionary with the key-value pairs 'a': 1, 'b': 2, and 'c': 3, and print it out.\n",
    "\n",
    "plain = {'a': 1, 'b': 2, 'c': 3}\n",
    "plain\n"
   ]
  },
  {
   "cell_type": "code",
   "execution_count": 6,
   "id": "7ec7009c",
   "metadata": {},
   "outputs": [
    {
     "data": {
      "text/plain": [
       "OrderedDict([('a', 1), ('b', 2), ('c', 3)])"
      ]
     },
     "execution_count": 6,
     "metadata": {},
     "output_type": "execute_result"
    }
   ],
   "source": [
    "# 6.Make an OrderedDict called fancy from the same pairs listed in 5 and print it. Did it print in the same order as plain?\n",
    "\n",
    "# Yes\n",
    "from collections import OrderedDict\n",
    "fancy = OrderedDict([('a', 1), ('b', 2), ('c', 3)])\n",
    "fancy\n",
    " "
   ]
  },
  {
   "cell_type": "code",
   "execution_count": 7,
   "id": "d1bb75c8",
   "metadata": {},
   "outputs": [
    {
     "data": {
      "text/plain": [
       "['something for a']"
      ]
     },
     "execution_count": 7,
     "metadata": {},
     "output_type": "execute_result"
    }
   ],
   "source": [
    "# 7. Make a default dictionary called dict_of_lists and pass it the argument list. Make the list dict_of_lists['a'] and append the value 'something for a' to it in one assignment. Print dict_of_lists['a'].\n",
    "\n",
    "from collections import defaultdict\n",
    "dict_of_lists = defaultdict(list)\n",
    "dict_of_lists['a'].append('something for a')\n",
    "dict_of_lists['a']\n",
    "    "
   ]
  },
  {
   "cell_type": "code",
   "execution_count": null,
   "id": "ea77284e",
   "metadata": {},
   "outputs": [],
   "source": []
  }
 ],
 "metadata": {
  "kernelspec": {
   "display_name": "Python 3 (ipykernel)",
   "language": "python",
   "name": "python3"
  },
  "language_info": {
   "codemirror_mode": {
    "name": "ipython",
    "version": 3
   },
   "file_extension": ".py",
   "mimetype": "text/x-python",
   "name": "python",
   "nbconvert_exporter": "python",
   "pygments_lexer": "ipython3",
   "version": "3.10.6"
  }
 },
 "nbformat": 4,
 "nbformat_minor": 5
}
