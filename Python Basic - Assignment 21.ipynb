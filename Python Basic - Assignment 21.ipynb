{
 "cells": [
  {
   "cell_type": "code",
   "execution_count": 1,
   "id": "c27ee98e",
   "metadata": {},
   "outputs": [
    {
     "name": "stdout",
     "output_type": "stream",
     "text": [
      "Ans-:\n",
      "import datetime\n",
      "  \n",
      "filename = datetime.datetime.now()\n",
      "  \n",
      "def create_file():\n",
      "    with open(filename.strftime(\"%d %B %Y\")+\".txt\", \"w\") as file:\n",
      "        file.write(\"\")\n",
      "  \n",
      "\n",
      "create_file()\n",
      "\n"
     ]
    }
   ],
   "source": [
    "# 1. Add the current date to the text file today.txt as a string.\n",
    "print('''Ans-:\n",
    "import datetime\n",
    "  \n",
    "filename = datetime.datetime.now()\n",
    "  \n",
    "def create_file():\n",
    "    with open(filename.strftime(\"%d %B %Y\")+\".txt\", \"w\") as file:\n",
    "        file.write(\"\")\n",
    "  \n",
    "\n",
    "create_file()\n",
    "''')"
   ]
  },
  {
   "cell_type": "code",
   "execution_count": 2,
   "id": "87d6a629",
   "metadata": {},
   "outputs": [
    {
     "data": {
      "text/plain": [
       "'my name is siddhu'"
      ]
     },
     "execution_count": 2,
     "metadata": {},
     "output_type": "execute_result"
    }
   ],
   "source": [
    "# 2. Read the text file today.txt into the string today_string\n",
    "\n",
    "f1 = open('today.txt','w')\n",
    "f1.write(\"my name is siddhu\")\n",
    "f1.close()\n",
    "\n",
    "f1 = open('today.txt','r')\n",
    "f1.read()"
   ]
  },
  {
   "cell_type": "code",
   "execution_count": 3,
   "id": "b30120fd",
   "metadata": {},
   "outputs": [
    {
     "name": "stdout",
     "output_type": "stream",
     "text": [
      "The type of the date is now <class 'datetime.datetime'>\n",
      "The date is 2023-01-05 01:55:19\n"
     ]
    }
   ],
   "source": [
    "#3. Parse the date from today_string.\n",
    "\n",
    "from datetime import datetime\n",
    "\n",
    "date_time_str = '05/01/23 01:55:19'\n",
    "\n",
    "date_time_obj = datetime.strptime(date_time_str, '%d/%m/%y %H:%M:%S')\n",
    "\n",
    "\n",
    "print (\"The type of the date is now\",  type(date_time_obj))\n",
    "print (\"The date is\", date_time_obj)"
   ]
  },
  {
   "cell_type": "code",
   "execution_count": 4,
   "id": "b9716698",
   "metadata": {},
   "outputs": [
    {
     "name": "stdout",
     "output_type": "stream",
     "text": [
      "19 January 2023.txt\n",
      "books.csv\n",
      "books.db\n",
      "Data Analysis Project.ipynb\n",
      "data science wiki.txt\n",
      "date.txt\n",
      "Demo 1.ipynb\n",
      "Demo 2.ipynb\n",
      "error.txt\n",
      "file_class.log\n",
      "friends.csv\n",
      "Function (staric, decoretor, lambda, map, filter).ipynb\n",
      "ko.txt\n",
      "lov.py\n",
      "Matplotlib Tutorial.ipynb\n",
      "mydict.py\n",
      "my_module.py\n",
      "NTUSER.DAT\n",
      "ntuser.dat.LOG1\n",
      "ntuser.dat.LOG2\n",
      "NTUSER.DAT{6d5ce839-40ac-11ec-b22a-a8934a613410}.TxR.0.regtrans-ms\n",
      "NTUSER.DAT{6d5ce839-40ac-11ec-b22a-a8934a613410}.TxR.1.regtrans-ms\n",
      "NTUSER.DAT{6d5ce839-40ac-11ec-b22a-a8934a613410}.TxR.2.regtrans-ms\n",
      "NTUSER.DAT{6d5ce839-40ac-11ec-b22a-a8934a613410}.TxR.blf\n",
      "NTUSER.DAT{6d5ce83a-40ac-11ec-b22a-a8934a613410}.TM.blf\n",
      "NTUSER.DAT{6d5ce83a-40ac-11ec-b22a-a8934a613410}.TMContainer00000000000000000001.regtrans-ms\n",
      "NTUSER.DAT{6d5ce83a-40ac-11ec-b22a-a8934a613410}.TMContainer00000000000000000002.regtrans-ms\n",
      "ntuser.ini\n",
      "Pandas Tutorial.ipynb\n",
      "Practice 2.ipynb\n",
      "Practice.ipynb\n",
      "Practices some before topics (revise).ipynb\n",
      "programLog.txt\n",
      "Python  Advance - Assignment 15.ipynb\n",
      "Python  Advance - Assignment 16.ipynb\n",
      "Python Advance - Assignment 1.ipynb\n",
      "Python Advance - Assignment 10.ipynb\n",
      "Python Advance - Assignment 11.ipynb\n",
      "Python Advance - Assignment 12.ipynb\n",
      "Python Advance - Assignment 13.ipynb\n",
      "Python Advance - Assignment 14.ipynb\n",
      "Python Advance - Assignment 17.ipynb\n",
      "Python Advance - Assignment 18.ipynb\n",
      "Python Advance - Assignment 19.ipynb\n",
      "Python Advance - Assignment 2.ipynb\n",
      "Python Advance - Assignment 20.ipynb\n",
      "Python Advance - Assignment 21.ipynb\n",
      "Python Advance - Assignment 22.ipynb\n",
      "Python Advance - Assignment 23.ipynb\n",
      "Python Advance - Assignment 24.ipynb\n",
      "Python Advance - Assignment 3.ipynb\n",
      "Python Advance - Assignment 4.ipynb\n",
      "Python Advance - Assignment 5.ipynb\n",
      "Python Advance - Assignment 6.ipynb\n",
      "Python Advance - Assignment 7.ipynb\n",
      "Python Advance - Assignment 8.ipynb\n",
      "Python Advance - Assignment 9.ipynb\n",
      "Python Basic  - Assignment 21.ipynb\n",
      "Python Basic  - Programming 12.ipynb\n",
      "Python Basic - Assignment 1.ipynb\n",
      "Python Basic - Assignment 10.ipynb\n",
      "Python Basic - Assignment 11.ipynb\n",
      "Python Basic - Assignment 12.ipynb\n",
      "Python Basic - Assignment 13.ipynb\n",
      "Python Basic - Assignment 14.ipynb\n",
      "Python Basic - Assignment 15.ipynb\n",
      "Python Basic - Assignment 16.ipynb\n",
      "Python Basic - Assignment 17.ipynb\n",
      "Python Basic - Assignment 18.ipynb\n",
      "Python Basic - Assignment 19.ipynb\n",
      "Python Basic - Assignment 2.ipynb\n",
      "Python Basic - Assignment 20.ipynb\n",
      "Python Basic - Assignment 21.ipynb\n",
      "Python Basic - Assignment 22 .ipynb\n",
      "Python Basic - Assignment 23.ipynb\n",
      "Python Basic - Assignment 24.ipynb\n",
      "Python Basic - Assignment 25.ipynb\n",
      "Python Basic - Assignment 3.ipynb\n",
      "Python Basic - Assignment 4.ipynb\n",
      "Python Basic - Assignment 5.ipynb\n",
      "Python Basic - Assignment 6.ipynb\n",
      "Python Basic - Assignment 7.ipynb\n",
      "Python Basic - Assignment 8.ipynb\n",
      "Python Basic - Assignment 9.ipynb\n",
      "Python Basic - Programming 10.ipynb\n",
      "Python Basic - Programming 11.ipynb\n",
      "Python Basic - Programming 13.ipynb\n",
      "Python Basic - Programming 2.ipynb\n",
      "Python Basic - Programming 3.ipynb\n",
      "Python Basic - Programming 4.ipynb\n",
      "Python Basic - Programming 5.ipynb\n",
      "Python Basic - Programming 6.ipynb\n",
      "Python Basic - Programming 7.ipynb\n",
      "Python Basic - Programming 8 .ipynb\n",
      "Python Basic - Programming 9.ipynb\n",
      "Python for Data Science Tutorial.ipynb\n",
      "Python Programming - Assignment 1.ipynb\n",
      "Seaborn Tutorial.ipynb\n",
      "sid.log\n",
      "sidd123.py\n",
      "ss.py\n",
      "ssgg.txt\n",
      "test.log\n",
      "test.txt\n",
      "test1.log\n",
      "test1.py\n",
      "test2.log\n",
      "test2.py\n",
      "test3.log\n",
      "today.txt\n",
      "try.txt\n",
      "Untitled.ipynb\n",
      "Untitled1.ipynb\n",
      "Untitled2.ipynb\n",
      "Untitled3.ipynb\n",
      "Untitled4.ipynb\n",
      "Untitled5.ipynb\n",
      "Untitled6.ipynb\n",
      "Untitled7.ipynb\n",
      "Untitled9.ipynb\n",
      "vir.py\n"
     ]
    }
   ],
   "source": [
    "# 4. List the files in your current directory\n",
    "\n",
    "import os\n",
    "files = [f for f in os.listdir('.') if os.path.isfile(f)]\n",
    "for f in files:\n",
    "    print(f)"
   ]
  },
  {
   "cell_type": "code",
   "execution_count": 5,
   "id": "09714479",
   "metadata": {},
   "outputs": [
    {
     "name": "stdout",
     "output_type": "stream",
     "text": [
      "Files and directories in ' C:\\Users\\siddh ' :\n",
      "['.ipynb_checkpoints', '.ipython', '.jupyter', '.matplotlib', '19 January 2023.txt', 'anaconda3', 'AppData', 'Application Data', 'books.csv', 'books.db', 'Contacts', 'Cookies', 'Data Analysis Project.ipynb', 'data science wiki.txt', 'date.txt', 'Demo 1.ipynb', 'Demo 2.ipynb', 'Documents', 'Downloads', 'error.txt', 'Favorites', 'file_class.log', 'friends.csv', 'Function (staric, decoretor, lambda, map, filter).ipynb', 'IntelGraphicsProfiles', 'ko.txt', 'Links', 'Local Settings', 'lov.py', 'Matplot Pogram', 'Matplotlib Tutorial.ipynb', 'Music', 'My Documents', 'mydict.py', 'my_module.py', 'NetHood', 'NTUSER.DAT', 'ntuser.dat.LOG1', 'ntuser.dat.LOG2', 'NTUSER.DAT{6d5ce839-40ac-11ec-b22a-a8934a613410}.TxR.0.regtrans-ms', 'NTUSER.DAT{6d5ce839-40ac-11ec-b22a-a8934a613410}.TxR.1.regtrans-ms', 'NTUSER.DAT{6d5ce839-40ac-11ec-b22a-a8934a613410}.TxR.2.regtrans-ms', 'NTUSER.DAT{6d5ce839-40ac-11ec-b22a-a8934a613410}.TxR.blf', 'NTUSER.DAT{6d5ce83a-40ac-11ec-b22a-a8934a613410}.TM.blf', 'NTUSER.DAT{6d5ce83a-40ac-11ec-b22a-a8934a613410}.TMContainer00000000000000000001.regtrans-ms', 'NTUSER.DAT{6d5ce83a-40ac-11ec-b22a-a8934a613410}.TMContainer00000000000000000002.regtrans-ms', 'ntuser.ini', 'OneDrive', 'Pandas Tutorial.ipynb', 'Pictures', 'Practice 2.ipynb', 'Practice.ipynb', 'Practices some before topics (revise).ipynb', 'PrintHood', 'programLog.txt', 'Python  Advance - Assignment 15.ipynb', 'Python  Advance - Assignment 16.ipynb', 'Python Advance - Assignment 1.ipynb', 'Python Advance - Assignment 10.ipynb', 'Python Advance - Assignment 11.ipynb', 'Python Advance - Assignment 12.ipynb', 'Python Advance - Assignment 13.ipynb', 'Python Advance - Assignment 14.ipynb', 'Python Advance - Assignment 17.ipynb', 'Python Advance - Assignment 18.ipynb', 'Python Advance - Assignment 19.ipynb', 'Python Advance - Assignment 2.ipynb', 'Python Advance - Assignment 20.ipynb', 'Python Advance - Assignment 21.ipynb', 'Python Advance - Assignment 22.ipynb', 'Python Advance - Assignment 23.ipynb', 'Python Advance - Assignment 24.ipynb', 'Python Advance - Assignment 3.ipynb', 'Python Advance - Assignment 4.ipynb', 'Python Advance - Assignment 5.ipynb', 'Python Advance - Assignment 6.ipynb', 'Python Advance - Assignment 7.ipynb', 'Python Advance - Assignment 8.ipynb', 'Python Advance - Assignment 9.ipynb', 'Python Basic  - Assignment 21.ipynb', 'Python Basic  - Programming 12.ipynb', 'Python Basic - Assignment 1.ipynb', 'Python Basic - Assignment 10.ipynb', 'Python Basic - Assignment 11.ipynb', 'Python Basic - Assignment 12.ipynb', 'Python Basic - Assignment 13.ipynb', 'Python Basic - Assignment 14.ipynb', 'Python Basic - Assignment 15.ipynb', 'Python Basic - Assignment 16.ipynb', 'Python Basic - Assignment 17.ipynb', 'Python Basic - Assignment 18.ipynb', 'Python Basic - Assignment 19.ipynb', 'Python Basic - Assignment 2.ipynb', 'Python Basic - Assignment 20.ipynb', 'Python Basic - Assignment 21.ipynb', 'Python Basic - Assignment 22 .ipynb', 'Python Basic - Assignment 23.ipynb', 'Python Basic - Assignment 24.ipynb', 'Python Basic - Assignment 25.ipynb', 'Python Basic - Assignment 3.ipynb', 'Python Basic - Assignment 4.ipynb', 'Python Basic - Assignment 5.ipynb', 'Python Basic - Assignment 6.ipynb', 'Python Basic - Assignment 7.ipynb', 'Python Basic - Assignment 8.ipynb', 'Python Basic - Assignment 9.ipynb', 'Python Basic - Programming 10.ipynb', 'Python Basic - Programming 11.ipynb', 'Python Basic - Programming 13.ipynb', 'Python Basic - Programming 2.ipynb', 'Python Basic - Programming 3.ipynb', 'Python Basic - Programming 4.ipynb', 'Python Basic - Programming 5.ipynb', 'Python Basic - Programming 6.ipynb', 'Python Basic - Programming 7.ipynb', 'Python Basic - Programming 8 .ipynb', 'Python Basic - Programming 9.ipynb', 'Python for Data Science Tutorial.ipynb', 'Python Programming - Assignment 1.ipynb', 'Recent', 'Saved Games', 'ScStore', 'Seaborn Tutorial.ipynb', 'Searches', 'SendTo', 'sid.log', 'sidd123.py', 'ss.py', 'ssgg.txt', 'Start Menu', 'Templates', 'test.log', 'test.txt', 'test1.log', 'test1.py', 'test2.log', 'test2.py', 'test3.log', 'today.txt', 'try.txt', 'Untitled Folder', 'Untitled Folder 1', 'Untitled.ipynb', 'Untitled1.ipynb', 'Untitled2.ipynb', 'Untitled3.ipynb', 'Untitled4.ipynb', 'Untitled5.ipynb', 'Untitled6.ipynb', 'Untitled7.ipynb', 'Untitled9.ipynb', 'Videos', 'vir.py', '__pycache__']\n"
     ]
    }
   ],
   "source": [
    "# 5. Create a list of all of the files in your parent directory (minimum five files should be available).\n",
    "\n",
    "import os\n",
    "path = 'C:\\\\Users\\\\siddh'\n",
    "\n",
    "dir_list = os.listdir(path)\n",
    " \n",
    "print(\"Files and directories in '\", path, \"' :\")\n",
    " \n",
    "print(dir_list)"
   ]
  },
  {
   "cell_type": "code",
   "execution_count": 6,
   "id": "31467839",
   "metadata": {},
   "outputs": [
    {
     "name": "stdout",
     "output_type": "stream",
     "text": [
      "Ans-:def sleepy_man():\n",
      "    print('Starting to sleep')\n",
      "    time.sleep(1)\n",
      "    print('Done sleeping')\n",
      "\n",
      "   tic = time.time()\n",
      "   p1 =  multiprocessing.Process(target= sleepy_man)\n",
      "   p2 =  multiprocessing.Process(target= sleepy_man)\n",
      "   p1.start()\n",
      "   p2.start()\n",
      "   toc = time.time()\n",
      "\n",
      "   print('Done in {:.4f} seconds'.format(toc-tic))\n"
     ]
    }
   ],
   "source": [
    "# 6. Use multiprocessing to create three separate processes. Make each one wait a random number of seconds between one and five, print the current time, and then exit.\n",
    "\n",
    "print('''Ans-:def sleepy_man():\n",
    "    print('Starting to sleep')\n",
    "    time.sleep(1)\n",
    "    print('Done sleeping')\n",
    "\n",
    "   tic = time.time()\n",
    "   p1 =  multiprocessing.Process(target= sleepy_man)\n",
    "   p2 =  multiprocessing.Process(target= sleepy_man)\n",
    "   p1.start()\n",
    "   p2.start()\n",
    "   toc = time.time()\n",
    "\n",
    "   print('Done in {:.4f} seconds'.format(toc-tic))''')"
   ]
  },
  {
   "cell_type": "code",
   "execution_count": 7,
   "id": "e02b4ad3",
   "metadata": {},
   "outputs": [
    {
     "name": "stdout",
     "output_type": "stream",
     "text": [
      "Ans-: Creating Date Objects:\n",
      "      To create a date, we can use the datetime() class (constructor) of the datetime module. The datetime() class\n",
      "      requires three parameters to create a date: year, month, day.\n"
     ]
    }
   ],
   "source": [
    "# 7. Create a date object of your day of birth.\n",
    "\n",
    "print('''Ans-: Creating Date Objects:\n",
    "      To create a date, we can use the datetime() class (constructor) of the datetime module. The datetime() class\n",
    "      requires three parameters to create a date: year, month, day.''')"
   ]
  },
  {
   "cell_type": "code",
   "execution_count": 8,
   "id": "38328397",
   "metadata": {},
   "outputs": [
    {
     "name": "stdout",
     "output_type": "stream",
     "text": [
      "Monday\n"
     ]
    }
   ],
   "source": [
    "# 8. What day of the week was your day of birth?\n",
    "\n",
    "import datetime\n",
    "import calendar\n",
    " \n",
    "def findDay(birth_date):\n",
    "    born = datetime.datetime.strptime(birth_date, '%d %m %Y').weekday()\n",
    "    return (calendar.day_name[born])\n",
    " \n",
    "\n",
    "birth_date = '30 01 2023'\n",
    "print(findDay(birth_date))"
   ]
  },
  {
   "cell_type": "code",
   "execution_count": 9,
   "id": "28905f71",
   "metadata": {},
   "outputs": [
    {
     "name": "stdout",
     "output_type": "stream",
     "text": [
      "Ans-: 27 years, 4 months, and 25 days\n"
     ]
    }
   ],
   "source": [
    "# 9. When will you be (or when were you) 10,000 days old?\n",
    "\n",
    "print('Ans-: 27 years, 4 months, and 25 days')"
   ]
  },
  {
   "cell_type": "code",
   "execution_count": null,
   "id": "5a8b0e99",
   "metadata": {},
   "outputs": [],
   "source": []
  }
 ],
 "metadata": {
  "kernelspec": {
   "display_name": "Python 3 (ipykernel)",
   "language": "python",
   "name": "python3"
  },
  "language_info": {
   "codemirror_mode": {
    "name": "ipython",
    "version": 3
   },
   "file_extension": ".py",
   "mimetype": "text/x-python",
   "name": "python",
   "nbconvert_exporter": "python",
   "pygments_lexer": "ipython3",
   "version": "3.10.6"
  }
 },
 "nbformat": 4,
 "nbformat_minor": 5
}
