{
 "cells": [
  {
   "cell_type": "code",
   "execution_count": 1,
   "id": "868f570e",
   "metadata": {},
   "outputs": [
    {
     "name": "stdout",
     "output_type": "stream",
     "text": [
      "Enter input in km: 5\n",
      "convert km into miles: 5000 miles\n"
     ]
    }
   ],
   "source": [
    "# 1.Write a Python program to convert kilometers to miles?\n",
    "\n",
    "a = int(input('Enter input in km: '))\n",
    "b = a * 1000\n",
    "print(f'convert km into miles: {b} miles')"
   ]
  },
  {
   "cell_type": "code",
   "execution_count": 2,
   "id": "d21a80eb",
   "metadata": {},
   "outputs": [
    {
     "name": "stdout",
     "output_type": "stream",
     "text": [
      "Enter input in celsius: 10\n",
      "convert celcius into fahrenheit: 50.0\n"
     ]
    }
   ],
   "source": [
    "# 2.Write a Python program to convert Celsius to Fahrenheit?\n",
    "\n",
    "c = int(input('Enter input in celsius: '))\n",
    "print(f'convert celcius into fahrenheit: {c*1.8+32}')\n"
   ]
  },
  {
   "cell_type": "code",
   "execution_count": 3,
   "id": "266ab212",
   "metadata": {},
   "outputs": [
    {
     "name": "stdout",
     "output_type": "stream",
     "text": [
      "   December 2022\n",
      "Mo Tu We Th Fr Sa Su\n",
      "          1  2  3  4\n",
      " 5  6  7  8  9 10 11\n",
      "12 13 14 15 16 17 18\n",
      "19 20 21 22 23 24 25\n",
      "26 27 28 29 30 31\n",
      "\n"
     ]
    }
   ],
   "source": [
    "# 3.Write a Python program to display calendar?\n",
    "\n",
    "import calendar\n",
    "\n",
    "year = 2022\n",
    "month = 12\n",
    "\n",
    "print(calendar.month(2022,12))"
   ]
  },
  {
   "cell_type": "code",
   "execution_count": 4,
   "id": "9299ac6d",
   "metadata": {},
   "outputs": [
    {
     "name": "stdout",
     "output_type": "stream",
     "text": [
      "1\n",
      "4\n",
      "5\n",
      "(-2-1j) and (-2+1j)\n"
     ]
    }
   ],
   "source": [
    "# 4.Write a Python program to solve quadratic equation?\n",
    "\n",
    "import cmath\n",
    "\n",
    "a = int(input())\n",
    "b = int(input())\n",
    "c = int(input())\n",
    "\n",
    "d = (b**2)-(4*a*c)\n",
    "\n",
    "sol1 = (-b-cmath.sqrt(d))/(2*a)\n",
    "sol2 = (-b+cmath.sqrt(d))/(2*a)\n",
    "\n",
    "print(f'{sol1} and {sol2}')"
   ]
  },
  {
   "cell_type": "code",
   "execution_count": 5,
   "id": "95145929",
   "metadata": {},
   "outputs": [
    {
     "name": "stdout",
     "output_type": "stream",
     "text": [
      "10\n",
      "50\n",
      "Before: 10 and 50\n",
      "After: 50 and 10\n"
     ]
    }
   ],
   "source": [
    "# 5.Write a Python program to swap two variables without temp variable?\n",
    "\n",
    "a = int(input())\n",
    "b = int(input())\n",
    "print(f'Before: {a} and {b}')\n",
    "\n",
    "a,b = b,a\n",
    "print(f'After: {a} and {b}')"
   ]
  },
  {
   "cell_type": "code",
   "execution_count": null,
   "id": "2bc73d25",
   "metadata": {},
   "outputs": [],
   "source": []
  }
 ],
 "metadata": {
  "kernelspec": {
   "display_name": "Python 3 (ipykernel)",
   "language": "python",
   "name": "python3"
  },
  "language_info": {
   "codemirror_mode": {
    "name": "ipython",
    "version": 3
   },
   "file_extension": ".py",
   "mimetype": "text/x-python",
   "name": "python",
   "nbconvert_exporter": "python",
   "pygments_lexer": "ipython3",
   "version": "3.10.6"
  }
 },
 "nbformat": 4,
 "nbformat_minor": 5
}
