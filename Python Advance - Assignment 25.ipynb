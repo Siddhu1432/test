{
 "cells": [
  {
   "cell_type": "code",
   "execution_count": 1,
   "id": "5499dc8a",
   "metadata": {},
   "outputs": [
    {
     "name": "stdout",
     "output_type": "stream",
     "text": [
      "Ans-: Pandas consume more memory compared to NumPy\n"
     ]
    }
   ],
   "source": [
    "# Q1. What is the distinction between a numpy array and a pandas data frame? Is there a way to convert between the two if there is?\n",
    "\n",
    "print('Ans-: Pandas consume more memory compared to NumPy')\n",
    "\n"
   ]
  },
  {
   "cell_type": "code",
   "execution_count": 2,
   "id": "9824fd76",
   "metadata": {},
   "outputs": [
    {
     "name": "stdout",
     "output_type": "stream",
     "text": [
      "Ans-: making up-to-the-minute prices available to investors around the country. \n"
     ]
    }
   ],
   "source": [
    "# Q2. What can go wrong when an user enters in a stock-ticker symbol, and how do you handle it?\n",
    "\n",
    "print('Ans-: making up-to-the-minute prices available to investors around the country. ')\n",
    "\n"
   ]
  },
  {
   "cell_type": "code",
   "execution_count": 3,
   "id": "e7516112",
   "metadata": {},
   "outputs": [
    {
     "name": "stdout",
     "output_type": "stream",
     "text": [
      "Ans-: line chart, bar chart, point and figure chart and candlestick chart.\n"
     ]
    }
   ],
   "source": [
    "# Q3. Identify some of the plotting techniques that are used to produce a stock-market chart.\n",
    "\n",
    "print('Ans-: line chart, bar chart, point and figure chart and candlestick chart.')\n",
    "\n"
   ]
  },
  {
   "cell_type": "code",
   "execution_count": 4,
   "id": "b1085f15",
   "metadata": {},
   "outputs": [
    {
     "name": "stdout",
     "output_type": "stream",
     "text": [
      "Ans-: The legend displays information about the points that are currently hovered over or, if none are hovered\n",
      "      over, about the last points shown on the plot.\n"
     ]
    }
   ],
   "source": [
    "# Q4. Why is it essential to print a legend on a stock market chart?\n",
    "\n",
    "print('''Ans-: The legend displays information about the points that are currently hovered over or, if none are hovered\n",
    "      over, about the last points shown on the plot.''')\n",
    "\n"
   ]
  },
  {
   "cell_type": "code",
   "execution_count": 5,
   "id": "d2045ace",
   "metadata": {},
   "outputs": [
    {
     "name": "stdout",
     "output_type": "stream",
     "text": [
      "Ans-: There are two main ways to reduce DataFrame memory size in Pandas without necessarily compromising the information\n",
      "      contained within the DataFrame:\n",
      "      1.Use smaller numeric types.\n",
      "      2.Convert object columns to categorical columns.\n",
      "\n"
     ]
    }
   ],
   "source": [
    "# Q5. What is the best way to limit the length of a pandas data frame to less than a year?\n",
    "\n",
    "print('''Ans-: There are two main ways to reduce DataFrame memory size in Pandas without necessarily compromising the information\n",
    "      contained within the DataFrame:\n",
    "      1.Use smaller numeric types.\n",
    "      2.Convert object columns to categorical columns.\n",
    "''')\n",
    "\n"
   ]
  },
  {
   "cell_type": "code",
   "execution_count": 6,
   "id": "007876da",
   "metadata": {},
   "outputs": [
    {
     "name": "stdout",
     "output_type": "stream",
     "text": [
      "Ans-: the average price over the past 180 days (or 36 weeks). \n"
     ]
    }
   ],
   "source": [
    "# Q6. What is the definition of a 180-day moving average?\n",
    "\n",
    "print('''Ans-: the average price over the past 180 days (or 36 weeks). ''')\n",
    "\n"
   ]
  },
  {
   "cell_type": "code",
   "execution_count": 7,
   "id": "b506af38",
   "metadata": {},
   "outputs": [
    {
     "name": "stdout",
     "output_type": "stream",
     "text": [
      "Ans-: A Belgium company sells its products to a large retailer in Belgium, who in turn sells the products all over\n",
      "      Europe and Asia\n"
     ]
    }
   ],
   "source": [
    "# Q7. Did the chapter's final example use \"indirect\" importing? If so, how exactly do you do it?\n",
    "\n",
    "print('''Ans-: A Belgium company sells its products to a large retailer in Belgium, who in turn sells the products all over\n",
    "      Europe and Asia''')"
   ]
  },
  {
   "cell_type": "code",
   "execution_count": null,
   "id": "478a4f97",
   "metadata": {},
   "outputs": [],
   "source": []
  }
 ],
 "metadata": {
  "kernelspec": {
   "display_name": "Python 3 (ipykernel)",
   "language": "python",
   "name": "python3"
  },
  "language_info": {
   "codemirror_mode": {
    "name": "ipython",
    "version": 3
   },
   "file_extension": ".py",
   "mimetype": "text/x-python",
   "name": "python",
   "nbconvert_exporter": "python",
   "pygments_lexer": "ipython3",
   "version": "3.10.6"
  }
 },
 "nbformat": 4,
 "nbformat_minor": 5
}
