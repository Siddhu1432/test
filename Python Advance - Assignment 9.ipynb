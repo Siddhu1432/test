{
 "cells": [
  {
   "cell_type": "code",
   "execution_count": 1,
   "id": "0493b8cf",
   "metadata": {},
   "outputs": [
    {
     "name": "stdout",
     "output_type": "stream",
     "text": [
      "Ans-: isupper() - Checks if all characters in the string are uppercase\n",
      "      join() - Returns a concatenated String\n",
      "      ljust() - Left aligns the string according to the width specified\n",
      "      lower() - Converts all uppercase characters in a string into lowercase\n"
     ]
    }
   ],
   "source": [
    "# Q1. In Python 3.X, what are the names and functions of string object types?\n",
    "\n",
    "print('''Ans-: isupper() - Checks if all characters in the string are uppercase\n",
    "      join() - Returns a concatenated String\n",
    "      ljust() - Left aligns the string according to the width specified\n",
    "      lower() - Converts all uppercase characters in a string into lowercase''')\n",
    "\n",
    " "
   ]
  },
  {
   "cell_type": "code",
   "execution_count": 2,
   "id": "5c818661",
   "metadata": {},
   "outputs": [
    {
     "name": "stdout",
     "output_type": "stream",
     "text": [
      "Ans-:  Using f-strings. By format() method. Using % operator.\n"
     ]
    }
   ],
   "source": [
    "# Q2. How do the string forms in Python 3.X vary in terms of operations?\n",
    "\n",
    "print('Ans-:  Using f-strings. By format() method. Using % operator.')\n",
    "\n"
   ]
  },
  {
   "cell_type": "code",
   "execution_count": 3,
   "id": "fde4993d",
   "metadata": {},
   "outputs": [
    {
     "name": "stdout",
     "output_type": "stream",
     "text": [
      "Ans-: adding a u character prefix before the string literal\n"
     ]
    }
   ],
   "source": [
    "# Q3. In 3.X, how do you put non-ASCII Unicode characters in a string?\n",
    "\n",
    "print('Ans-: adding a u character prefix before the string literal')\n",
    "\n"
   ]
  },
  {
   "cell_type": "code",
   "execution_count": 4,
   "id": "d85e5a33",
   "metadata": {},
   "outputs": [
    {
     "name": "stdout",
     "output_type": "stream",
     "text": [
      "Ans-: in text mode, the program writes data to file as text characters, and in binary mode, the program writes\n",
      "      data to files as 0/1 bits.\n"
     ]
    }
   ],
   "source": [
    "# Q4. In Python 3.X, what are the key differences between text-mode and binary-mode files?\n",
    "\n",
    "print('''Ans-: in text mode, the program writes data to file as text characters, and in binary mode, the program writes\n",
    "      data to files as 0/1 bits.''')\n",
    "\n"
   ]
  },
  {
   "cell_type": "code",
   "execution_count": 5,
   "id": "52dee361",
   "metadata": {},
   "outputs": [
    {
     "name": "stdout",
     "output_type": "stream",
     "text": [
      "Ans-: You should either use normal open() and encode the unicode yourself, or (usually a better idea) use codecs.\n",
      "      open() and not encode the data yourself.\n"
     ]
    }
   ],
   "source": [
    "# Q5. How can you interpret a Unicode text file containing text encoded in a different encoding than your platform's default?\n",
    "\n",
    "print('''Ans-: You should either use normal open() and encode the unicode yourself, or (usually a better idea) use codecs.\n",
    "      open() and not encode the data yourself.''')\n",
    "\n"
   ]
  },
  {
   "cell_type": "code",
   "execution_count": 6,
   "id": "0add73c4",
   "metadata": {},
   "outputs": [
    {
     "name": "stdout",
     "output_type": "stream",
     "text": [
      "Ans-: Enter notepad_utf-16le as the new file name and select \"Unicode\" option in the Encoding field.\n"
     ]
    }
   ],
   "source": [
    "# Q6. What is the best way to make a Unicode text file in a particular encoding format?\n",
    "\n",
    "print('Ans-: Enter notepad_utf-16le as the new file name and select \"Unicode\" option in the Encoding field.')\n",
    "\n"
   ]
  },
  {
   "cell_type": "code",
   "execution_count": 7,
   "id": "33a2555e",
   "metadata": {},
   "outputs": [
    {
     "name": "stdout",
     "output_type": "stream",
     "text": [
      "Ans-: ASCII encodes symbols, digits, letters, etc., whereas Unicode encodes special texts from different languages,\n",
      "      letters, symbols, etc.\n"
     ]
    }
   ],
   "source": [
    "# Q7. What qualifies ASCII text as a form of Unicode text?\n",
    "\n",
    "print('''Ans-: ASCII encodes symbols, digits, letters, etc., whereas Unicode encodes special texts from different languages,\n",
    "      letters, symbols, etc.''')\n",
    "\n"
   ]
  },
  {
   "cell_type": "code",
   "execution_count": 8,
   "id": "aba17664",
   "metadata": {},
   "outputs": [
    {
     "name": "stdout",
     "output_type": "stream",
     "text": [
      "yes it is\n"
     ]
    }
   ],
   "source": [
    "# Q8. How much of an effect does the change in string types in Python 3.X have on your code?\n",
    "\n",
    "# using str type\n",
    "str = \"this is string example\"\n",
    "print (\"yes\", \"it is\")\n",
    "\n"
   ]
  },
  {
   "cell_type": "code",
   "execution_count": 9,
   "id": "2385f513",
   "metadata": {},
   "outputs": [
    {
     "name": "stdout",
     "output_type": "stream",
     "text": [
      "this is string example\n"
     ]
    }
   ],
   "source": [
    "# change str type into replace\n",
    "str = \"this is string example\"\n",
    "print (str.replace('yes', 'with replace'))\n",
    "\n"
   ]
  },
  {
   "cell_type": "code",
   "execution_count": null,
   "id": "eb946bd3",
   "metadata": {},
   "outputs": [],
   "source": []
  }
 ],
 "metadata": {
  "kernelspec": {
   "display_name": "Python 3 (ipykernel)",
   "language": "python",
   "name": "python3"
  },
  "language_info": {
   "codemirror_mode": {
    "name": "ipython",
    "version": 3
   },
   "file_extension": ".py",
   "mimetype": "text/x-python",
   "name": "python",
   "nbconvert_exporter": "python",
   "pygments_lexer": "ipython3",
   "version": "3.10.6"
  }
 },
 "nbformat": 4,
 "nbformat_minor": 5
}
