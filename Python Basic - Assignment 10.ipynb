{
 "cells": [
  {
   "cell_type": "code",
   "execution_count": 1,
   "id": "70ddc22c",
   "metadata": {},
   "outputs": [
    {
     "name": "stdout",
     "output_type": "stream",
     "text": [
      "Ans-: The shutil.copy() function will copy a single file, while \n",
      "      shutil.copytree() will copy an entire folder, along with all\n",
      "      its contents.\n"
     ]
    }
   ],
   "source": [
    "# 1. How do you distinguish between shutil.copy() and shutil.copytree()?\n",
    "\n",
    "print('''Ans-: The shutil.copy() function will copy a single file, while \n",
    "      shutil.copytree() will copy an entire folder, along with all\n",
    "      its contents.''')"
   ]
  },
  {
   "cell_type": "code",
   "execution_count": 2,
   "id": "77e413a9",
   "metadata": {},
   "outputs": [
    {
     "name": "stdout",
     "output_type": "stream",
     "text": [
      "Ans-: The shutil.move() function is used for renaming files, as well as\n",
      "      moving them. \n"
     ]
    }
   ],
   "source": [
    "# 2. What function is used to rename files?\n",
    "\n",
    "print('''Ans-: The shutil.move() function is used for renaming files, as well as\n",
    "      moving them. ''')\n"
   ]
  },
  {
   "cell_type": "code",
   "execution_count": 3,
   "id": "699d863a",
   "metadata": {},
   "outputs": [
    {
     "name": "stdout",
     "output_type": "stream",
     "text": [
      "Ans-: The send2trash functions will move a file or folder to the recycle bin,\n",
      "      while shutil functions will permanently delete files and folders.\n"
     ]
    }
   ],
   "source": [
    "# 3. What is the difference between the delete functions in the send2trash and shutil modules?\n",
    "\n",
    "print('''Ans-: The send2trash functions will move a file or folder to the recycle bin,\n",
    "      while shutil functions will permanently delete files and folders.''')"
   ]
  },
  {
   "cell_type": "code",
   "execution_count": 4,
   "id": "8210d29e",
   "metadata": {},
   "outputs": [
    {
     "name": "stdout",
     "output_type": "stream",
     "text": [
      "Ans-: The zipfile.ZipFile() function is equivalent to the open() function; the\n",
      "      first argument is the filename, and the second argument is the mode to \n",
      "      open the ZIP file in (read, write, or append).\n"
     ]
    }
   ],
   "source": [
    "# 4.ZipFile objects have a close() method just like File objects’ close() method. What ZipFile method is equivalent to File objects’ open() method?\n",
    "\n",
    "print('''Ans-: The zipfile.ZipFile() function is equivalent to the open() function; the\n",
    "      first argument is the filename, and the second argument is the mode to \n",
    "      open the ZIP file in (read, write, or append).''')"
   ]
  },
  {
   "cell_type": "code",
   "execution_count": 5,
   "id": "c2455136",
   "metadata": {},
   "outputs": [
    {
     "name": "stdout",
     "output_type": "stream",
     "text": [
      "Ans-: assert spam >= 10, 'The spam variable is less than 10.'  \n"
     ]
    }
   ],
   "source": [
    "# 5. Create a programme that searches a folder tree for files with a certain file extension (such as .pdf or .jpg). Copy these files from whatever location they are in to a new folder.\n",
    "\n",
    "print('''Ans-: assert spam >= 10, 'The spam variable is less than 10.'  ''')"
   ]
  },
  {
   "cell_type": "code",
   "execution_count": null,
   "id": "0a2c652a",
   "metadata": {},
   "outputs": [],
   "source": []
  }
 ],
 "metadata": {
  "kernelspec": {
   "display_name": "Python 3 (ipykernel)",
   "language": "python",
   "name": "python3"
  },
  "language_info": {
   "codemirror_mode": {
    "name": "ipython",
    "version": 3
   },
   "file_extension": ".py",
   "mimetype": "text/x-python",
   "name": "python",
   "nbconvert_exporter": "python",
   "pygments_lexer": "ipython3",
   "version": "3.10.6"
  }
 },
 "nbformat": 4,
 "nbformat_minor": 5
}
