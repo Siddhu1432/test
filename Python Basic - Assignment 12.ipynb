{
 "cells": [
  {
   "cell_type": "code",
   "execution_count": 1,
   "id": "d02806d7",
   "metadata": {},
   "outputs": [
    {
     "name": "stdout",
     "output_type": "stream",
     "text": [
      "Ans-: Read-binary ('rb') for PdfFileReader() and write-binary ('wb') for\n",
      "      PdfFileWriter()\n"
     ]
    }
   ],
   "source": [
    "# 1. In what modes should the PdfFileReader() and PdfFileWriter() File objects will be opened?\n",
    "\n",
    "print('''Ans-: Read-binary ('rb') for PdfFileReader() and write-binary ('wb') for\n",
    "      PdfFileWriter()''')"
   ]
  },
  {
   "cell_type": "code",
   "execution_count": 2,
   "id": "7091ff41",
   "metadata": {},
   "outputs": [
    {
     "name": "stdout",
     "output_type": "stream",
     "text": [
      "Ans-: Calling getPage(4) will return a Page object for About this Book,\n",
      "      since page 0 is the first page.\n"
     ]
    }
   ],
   "source": [
    "# 2. From a PdfFileReader object, how do you get a Page object for page 5?\n",
    "\n",
    "print('''Ans-: Calling getPage(4) will return a Page object for About this Book,\n",
    "      since page 0 is the first page.''')"
   ]
  },
  {
   "cell_type": "code",
   "execution_count": 3,
   "id": "d0807a1b",
   "metadata": {},
   "outputs": [
    {
     "name": "stdout",
     "output_type": "stream",
     "text": [
      "Ans-: The numPages variable stores an integer of the number of pages in\n",
      "      the PdfFileReader object.\n"
     ]
    }
   ],
   "source": [
    "# 3. What PdfFileReader variable stores the number of pages in the PDF document?\n",
    "\n",
    "print('''Ans-: The numPages variable stores an integer of the number of pages in\n",
    "      the PdfFileReader object.''')"
   ]
  },
  {
   "cell_type": "code",
   "execution_count": 4,
   "id": "01b4c1c1",
   "metadata": {},
   "outputs": [
    {
     "name": "stdout",
     "output_type": "stream",
     "text": [
      "Ans-: Call decrypt('swordfish') \n"
     ]
    }
   ],
   "source": [
    "# 4. If a PdfFileReader object’s PDF is encrypted with the password swordfish, what must you do before you can obtain Page objects from it?\n",
    "\n",
    "print(\"Ans-: Call decrypt('swordfish') \")"
   ]
  },
  {
   "cell_type": "code",
   "execution_count": 5,
   "id": "3a51bb48",
   "metadata": {},
   "outputs": [
    {
     "name": "stdout",
     "output_type": "stream",
     "text": [
      "Ans-: A page can be rotated clockwise, by 90 degrees, when displayed\n",
      "      or printed. The Page. GetRotation() method returns the Page. \n",
      "      Rotate enum specifying the current rotation.\n"
     ]
    }
   ],
   "source": [
    "# 5. What methods do you use to rotate a page?\n",
    "\n",
    "print('''Ans-: A page can be rotated clockwise, by 90 degrees, when displayed\n",
    "      or printed. The Page. GetRotation() method returns the Page. \n",
    "      Rotate enum specifying the current rotation.''')\n"
   ]
  },
  {
   "cell_type": "code",
   "execution_count": 6,
   "id": "e1008381",
   "metadata": {},
   "outputs": [
    {
     "name": "stdout",
     "output_type": "stream",
     "text": [
      "Ans-: A document contains multiple paragraphs. A paragraph begins on a\n",
      "      new line and contains multiple runs. Runs are contiguous groups\n",
      "      of characters within the a paragraph.\n"
     ]
    }
   ],
   "source": [
    "# 6. What is the difference between a Run object and a Paragraph object?\n",
    "\n",
    "print('''Ans-: A document contains multiple paragraphs. A paragraph begins on a\n",
    "      new line and contains multiple runs. Runs are contiguous groups\n",
    "      of characters within the a paragraph.''')"
   ]
  },
  {
   "cell_type": "code",
   "execution_count": 7,
   "id": "04f09795",
   "metadata": {},
   "outputs": [
    {
     "name": "stdout",
     "output_type": "stream",
     "text": [
      "Ans-: !pip install python-docx\n",
      "      import docx\n",
      "      doc = docx.Document('abc.docx')\n",
      "      doc.paragraphs\n"
     ]
    }
   ],
   "source": [
    "# 7. How do you obtain a list of Paragraph objects for a Document object that’s stored in a variable named doc?\n",
    "\n",
    "print('''Ans-: !pip install python-docx\n",
    "      import docx\n",
    "      doc = docx.Document('abc.docx')\n",
    "      doc.paragraphs''')"
   ]
  },
  {
   "cell_type": "code",
   "execution_count": 8,
   "id": "e3818c10",
   "metadata": {},
   "outputs": [
    {
     "name": "stdout",
     "output_type": "stream",
     "text": [
      "Ans-: A Run object has bold, underline,italic,strike and outline \n",
      "      variables\n"
     ]
    }
   ],
   "source": [
    "# 8. What type of object has bold, underline, italic, strike, and outline variables?\n",
    "\n",
    "print('''Ans-: A Run object has bold, underline,italic,strike and outline \n",
    "      variables''')"
   ]
  },
  {
   "cell_type": "code",
   "execution_count": 9,
   "id": "157d6be1",
   "metadata": {},
   "outputs": [
    {
     "name": "stdout",
     "output_type": "stream",
     "text": [
      "Ans-: True and False are specific bool values. Use default False when you\n",
      "      have a bool field and you want the default to be False. Don't use\n",
      "      False as a value for a non- bool field. None is used as a generic\n",
      "      placeholder when the value will be set later.\n"
     ]
    }
   ],
   "source": [
    "# 9. What is the difference between False, True, and None for the bold variable?\n",
    "\n",
    "print('''Ans-: True and False are specific bool values. Use default False when you\n",
    "      have a bool field and you want the default to be False. Don't use\n",
    "      False as a value for a non- bool field. None is used as a generic\n",
    "      placeholder when the value will be set later.''')"
   ]
  },
  {
   "cell_type": "code",
   "execution_count": 10,
   "id": "787ecfc7",
   "metadata": {},
   "outputs": [
    {
     "name": "stdout",
     "output_type": "stream",
     "text": [
      "Ans-: 1. Create an object of Document class.\n",
      "      2. Create an object of DocumentBuilder class.\n",
      "      3. Insert text into document using DocumentBuilder.write() method.\n",
      "      4. Save the Word document using Document.save() method.\n",
      "\n"
     ]
    }
   ],
   "source": [
    "# 10. How do you create a Document object for a new Word document?\n",
    "\n",
    "print('''Ans-: 1. Create an object of Document class.\n",
    "      2. Create an object of DocumentBuilder class.\n",
    "      3. Insert text into document using DocumentBuilder.write() method.\n",
    "      4. Save the Word document using Document.save() method.\n",
    "''')"
   ]
  },
  {
   "cell_type": "code",
   "execution_count": 11,
   "id": "f834ee3f",
   "metadata": {},
   "outputs": [
    {
     "name": "stdout",
     "output_type": "stream",
     "text": [
      "Ans-: doc.add_paragraph('Hello there!')\n"
     ]
    }
   ],
   "source": [
    "# 11. How do you add a paragraph with the text 'Hello, there!' to a Document object stored in a variable named doc?\n",
    "\n",
    "print(\"Ans-: doc.add_paragraph('Hello there!')\")"
   ]
  },
  {
   "cell_type": "code",
   "execution_count": 12,
   "id": "abf472ca",
   "metadata": {},
   "outputs": [
    {
     "name": "stdout",
     "output_type": "stream",
     "text": [
      "Ans-: integer from 0 to 4\n",
      "      The arguments to add_heading() are a string of the heading text and an\n",
      "      integer from 0 to 4. The integer 0 makes the heading the Title style,\n",
      "      which is used for the top of the document. Integers 1 to 4 are for\n",
      "      various heading levels, with 1 being the main heading and 4 the\n",
      "      lowest subheading.\n"
     ]
    }
   ],
   "source": [
    "# 12. What integers represent the levels of headings available in Word documents?\n",
    "\n",
    "print('''Ans-: integer from 0 to 4\n",
    "      The arguments to add_heading() are a string of the heading text and an\n",
    "      integer from 0 to 4. The integer 0 makes the heading the Title style,\n",
    "      which is used for the top of the document. Integers 1 to 4 are for\n",
    "      various heading levels, with 1 being the main heading and 4 the\n",
    "      lowest subheading.''')"
   ]
  },
  {
   "cell_type": "code",
   "execution_count": null,
   "id": "0461b971",
   "metadata": {},
   "outputs": [],
   "source": []
  }
 ],
 "metadata": {
  "kernelspec": {
   "display_name": "Python 3 (ipykernel)",
   "language": "python",
   "name": "python3"
  },
  "language_info": {
   "codemirror_mode": {
    "name": "ipython",
    "version": 3
   },
   "file_extension": ".py",
   "mimetype": "text/x-python",
   "name": "python",
   "nbconvert_exporter": "python",
   "pygments_lexer": "ipython3",
   "version": "3.10.6"
  }
 },
 "nbformat": 4,
 "nbformat_minor": 5
}
