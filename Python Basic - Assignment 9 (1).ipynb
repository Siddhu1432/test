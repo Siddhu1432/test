{
 "cells": [
  {
   "cell_type": "code",
   "execution_count": 1,
   "id": "874ed66a",
   "metadata": {},
   "outputs": [
    {
     "name": "stdout",
     "output_type": "stream",
     "text": [
      "Ans-: Relative paths are relative to the current working directory.\n"
     ]
    }
   ],
   "source": [
    "# 1. To what does a relative path refer?\n",
    "\n",
    "print(\"Ans-: Relative paths are relative to the current working directory.\")\n"
   ]
  },
  {
   "cell_type": "code",
   "execution_count": 2,
   "id": "8ee6673a",
   "metadata": {},
   "outputs": [
    {
     "name": "stdout",
     "output_type": "stream",
     "text": [
      "Ans-: Absolute paths start with the root folder, such as / or C:\\.\n"
     ]
    }
   ],
   "source": [
    "# 2. What does an absolute path start with your operating system?\n",
    "\n",
    "print(\"Ans-: Absolute paths start with the root folder, such as / or C:\\.\")\n"
   ]
  },
  {
   "cell_type": "code",
   "execution_count": 3,
   "id": "50b8de6b",
   "metadata": {},
   "outputs": [
    {
     "name": "stdout",
     "output_type": "stream",
     "text": [
      "Ans-: The os.getcwd() function returns the current working directory. \n",
      "      The os.chdir() function changes the current working directory.\n"
     ]
    }
   ],
   "source": [
    "# 3. What do the functions os.getcwd() and os.chdir() do?\n",
    "\n",
    "print('''Ans-: The os.getcwd() function returns the current working directory. \n",
    "      The os.chdir() function changes the current working directory.''')\n"
   ]
  },
  {
   "cell_type": "code",
   "execution_count": 4,
   "id": "a8e15519",
   "metadata": {},
   "outputs": [
    {
     "name": "stdout",
     "output_type": "stream",
     "text": [
      "Ans-: The . folder is the current folder, and .. is the parent folder.\n"
     ]
    }
   ],
   "source": [
    "# 4. What are the . and .. folders?\n",
    "\n",
    "print(\"Ans-: The . folder is the current folder, and .. is the parent folder.\")\n"
   ]
  },
  {
   "cell_type": "code",
   "execution_count": 5,
   "id": "6a205496",
   "metadata": {},
   "outputs": [
    {
     "name": "stdout",
     "output_type": "stream",
     "text": [
      "Ans-:  C:\\ bacon\\ eggs is the dir name, while spam.txt is the base name.\n"
     ]
    }
   ],
   "source": [
    "# 5. In C:\\bacC:\\bacon\\eggs is the dir name, while spam.txt is the base name.on\\eggs\\spam.txt, which part is the dir name, and which part is the base name?\n",
    "\n",
    "print(\"Ans-:  C:\\ bacon\\ eggs is the dir name, while spam.txt is the base name.\")"
   ]
  },
  {
   "cell_type": "code",
   "execution_count": 6,
   "id": "e5960ba4",
   "metadata": {},
   "outputs": [
    {
     "name": "stdout",
     "output_type": "stream",
     "text": [
      "Ans-: The string 'r' for read mode, 'w' for write mode, and 'a' for append mode\n"
     ]
    }
   ],
   "source": [
    "# 6. What are the three “mode” arguments that can be passed to the open() function?\n",
    "\n",
    "print(\"Ans-: The string 'r' for read mode, 'w' for write mode, and 'a' for append mode\")"
   ]
  },
  {
   "cell_type": "code",
   "execution_count": 7,
   "id": "f9ab576b",
   "metadata": {},
   "outputs": [
    {
     "name": "stdout",
     "output_type": "stream",
     "text": [
      "Ans-: An existing file opened in write mode is erased and completely \n",
      "      overwritten.\n"
     ]
    }
   ],
   "source": [
    "# 7. What happens if an existing file is opened in write mode?\n",
    "\n",
    "print('''Ans-: An existing file opened in write mode is erased and completely \n",
    "      overwritten.''')"
   ]
  },
  {
   "cell_type": "code",
   "execution_count": 8,
   "id": "6907bf72",
   "metadata": {},
   "outputs": [
    {
     "name": "stdout",
     "output_type": "stream",
     "text": [
      "Ans-: The read() method returns the file's entire contents as a single string\n",
      "      value. The readlines() method returns a list of strings, where each \n",
      "      string is a line from the file's contents. \n"
     ]
    }
   ],
   "source": [
    "# 8. How do you tell the difference between read() and readlines()?\n",
    "\n",
    "print('''Ans-: The read() method returns the file's entire contents as a single string\n",
    "      value. The readlines() method returns a list of strings, where each \n",
    "      string is a line from the file's contents. ''')"
   ]
  },
  {
   "cell_type": "code",
   "execution_count": 9,
   "id": "7e50061e",
   "metadata": {},
   "outputs": [
    {
     "name": "stdout",
     "output_type": "stream",
     "text": [
      "Ans-: A shelf value resembles a dictionary value; it has keys and values, along\n",
      "      with keys() and values() methods that work similarly to the dictionary \n",
      "      methods of the same names.\n"
     ]
    }
   ],
   "source": [
    "# 9. What data structure does a shelf value resemble?\n",
    "\n",
    "print('''Ans-: A shelf value resembles a dictionary value; it has keys and values, along\n",
    "      with keys() and values() methods that work similarly to the dictionary \n",
    "      methods of the same names.''')"
   ]
  },
  {
   "cell_type": "code",
   "execution_count": null,
   "id": "c6c10484",
   "metadata": {},
   "outputs": [],
   "source": []
  }
 ],
 "metadata": {
  "kernelspec": {
   "display_name": "Python 3 (ipykernel)",
   "language": "python",
   "name": "python3"
  },
  "language_info": {
   "codemirror_mode": {
    "name": "ipython",
    "version": 3
   },
   "file_extension": ".py",
   "mimetype": "text/x-python",
   "name": "python",
   "nbconvert_exporter": "python",
   "pygments_lexer": "ipython3",
   "version": "3.10.6"
  }
 },
 "nbformat": 4,
 "nbformat_minor": 5
}
