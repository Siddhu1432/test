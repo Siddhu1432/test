{
 "cells": [
  {
   "cell_type": "code",
   "execution_count": 1,
   "id": "b340887e",
   "metadata": {},
   "outputs": [
    {
     "name": "stdout",
     "output_type": "stream",
     "text": [
      "Ans-: __getattribute__ has a default implementation, but __getattr__ does not. \n"
     ]
    }
   ],
   "source": [
    "# Q1. What is the difference between __getattr__ and __getattribute__?\n",
    "\n",
    "print('Ans-: __getattribute__ has a default implementation, but __getattr__ does not. ')\n",
    "\n"
   ]
  },
  {
   "cell_type": "code",
   "execution_count": 2,
   "id": "03b9bdee",
   "metadata": {},
   "outputs": [
    {
     "name": "stdout",
     "output_type": "stream",
     "text": [
      "Ans-: descriptors are a low-level mechanism that lets you hook into an object's attributes being accessed.\n",
      "\n",
      "      Properties are a high-level application of this; that is, properties are implemented using descriptors.\n"
     ]
    }
   ],
   "source": [
    "# Q2. What is the difference between properties and descriptors?\n",
    "\n",
    "print('''Ans-: descriptors are a low-level mechanism that lets you hook into an object's attributes being accessed.\n",
    "\n",
    "      Properties are a high-level application of this; that is, properties are implemented using descriptors.''')\n",
    "\n"
   ]
  },
  {
   "cell_type": "code",
   "execution_count": 3,
   "id": "d3e84bab",
   "metadata": {},
   "outputs": [
    {
     "name": "stdout",
     "output_type": "stream",
     "text": [
      "Ans-: The first one is called unconditionally when an attribute is being retrieved from an instance while the\n",
      "      second is called only when the attribute was not found.\n"
     ]
    }
   ],
   "source": [
    "# Q3. What are the key differences in functionality between __getattr__ and __getattribute__, as well as properties and descriptors?\n",
    "\n",
    "print('''Ans-: The first one is called unconditionally when an attribute is being retrieved from an instance while the\n",
    "      second is called only when the attribute was not found.''')"
   ]
  },
  {
   "cell_type": "code",
   "execution_count": null,
   "id": "465586b4",
   "metadata": {},
   "outputs": [],
   "source": []
  }
 ],
 "metadata": {
  "kernelspec": {
   "display_name": "Python 3 (ipykernel)",
   "language": "python",
   "name": "python3"
  },
  "language_info": {
   "codemirror_mode": {
    "name": "ipython",
    "version": 3
   },
   "file_extension": ".py",
   "mimetype": "text/x-python",
   "name": "python",
   "nbconvert_exporter": "python",
   "pygments_lexer": "ipython3",
   "version": "3.10.6"
  }
 },
 "nbformat": 4,
 "nbformat_minor": 5
}
