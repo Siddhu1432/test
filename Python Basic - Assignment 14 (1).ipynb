{
 "cells": [
  {
   "cell_type": "code",
   "execution_count": 1,
   "id": "db5f8dbe",
   "metadata": {},
   "outputs": [
    {
     "name": "stdout",
     "output_type": "stream",
     "text": [
      "Ans-: RGBA(Red-Green-Blue-Alpha)\n",
      "      The RGB color model is extended in this specification to include\n",
      "      \" alpha \" to allow specification of the opacity of a color.\n"
     ]
    }
   ],
   "source": [
    "# 1. What does RGBA stand for?\n",
    "\n",
    "print('''Ans-: RGBA(Red-Green-Blue-Alpha)\n",
    "      The RGB color model is extended in this specification to include\n",
    "      \" alpha \" to allow specification of the opacity of a color.''')"
   ]
  },
  {
   "cell_type": "code",
   "execution_count": 2,
   "id": "2a583715",
   "metadata": {},
   "outputs": [
    {
     "name": "stdout",
     "output_type": "stream",
     "text": [
      "Ans-: 1.import the Image module from the Pillow library. from PIL import Image.\n",
      "      2.Open any image and get the RAGBAG values. img = Image.open('image.png')\n",
      "        rgba = img.convert(“RGBA”).\n",
      "      3.Change the color. Data will be an Imagin core object containing \n",
      "        thousands of tuples of RGBA values.\n",
      "      4.Store the changed image.\n",
      "\n"
     ]
    }
   ],
   "source": [
    "# 2. From the Pillow module, how do you get the RGBA value of any images?\n",
    "\n",
    "print('''Ans-: 1.import the Image module from the Pillow library. from PIL import Image.\n",
    "      2.Open any image and get the RAGBAG values. img = Image.open('image.png')\n",
    "        rgba = img.convert(“RGBA”).\n",
    "      3.Change the color. Data will be an Imagin core object containing \n",
    "        thousands of tuples of RGBA values.\n",
    "      4.Store the changed image.\n",
    "''')"
   ]
  },
  {
   "cell_type": "code",
   "execution_count": 3,
   "id": "58d95b60",
   "metadata": {},
   "outputs": [
    {
     "name": "stdout",
     "output_type": "stream",
     "text": [
      "Ans-: The box tuple submodule provides read-only access for the tuple\n",
      "      userdata type. \n",
      "      It allows, for a single tuple: selective retrieval of the field\n",
      "      contents, retrieval of information about size, iteration over\n",
      "      all the fields, and conversion to a Lua table.\n"
     ]
    }
   ],
   "source": [
    "# 3. What is a box tuple, and how does it work?\n",
    "\n",
    "print('''Ans-: The box tuple submodule provides read-only access for the tuple\n",
    "      userdata type. \n",
    "      It allows, for a single tuple: selective retrieval of the field\n",
    "      contents, retrieval of information about size, iteration over\n",
    "      all the fields, and conversion to a Lua table.''')"
   ]
  },
  {
   "cell_type": "code",
   "execution_count": 4,
   "id": "99d4e035",
   "metadata": {},
   "outputs": [],
   "source": [
    "# 4. Use your image and load in notebook then, How can you find out the width and height of an Image object?\n",
    "\n",
    "from PIL import Image\n",
    "  \n",
    "try:\n",
    "    im = open(r'C:\\Users\\siddh\\Downloads\\Parry image.png')\n",
    "    \n",
    "except Exception as e:\n",
    "    width,height = im.size\n",
    " \n",
    "    print(\"The height of the image is: \", height)\n",
    "    print(\"The width of the image is: \", width)\n"
   ]
  },
  {
   "cell_type": "code",
   "execution_count": 5,
   "id": "e0c77ebb",
   "metadata": {},
   "outputs": [
    {
     "name": "stdout",
     "output_type": "stream",
     "text": [
      "Ans-: \n",
      "       import numpy as np\n",
      "       import cv2 as cv\n",
      "       img = cv.imread('messi5.jpg')\n",
      " \n",
      "       px = img[100,100]\n",
      "       print( px )\n",
      "       blue = img[100,100,0]\n",
      "       print( blue )\n",
      "\n",
      "       img[100,100] = [255,255,255]\n",
      "       print( img[100,100] ) \n"
     ]
    }
   ],
   "source": [
    "# 5. What method would you call to get Image object for a 100×100 image, excluding the lower-left quarter of it?from cv2 import\n",
    "\n",
    "print('''Ans-: \n",
    "       import numpy as np\n",
    "       import cv2 as cv\n",
    "       img = cv.imread('messi5.jpg')\n",
    " \n",
    "       px = img[100,100]\n",
    "       print( px )\n",
    "       blue = img[100,100,0]\n",
    "       print( blue )\n",
    "\n",
    "       img[100,100] = [255,255,255]\n",
    "       print( img[100,100] ) ''')"
   ]
  },
  {
   "cell_type": "code",
   "execution_count": 6,
   "id": "4f39c830",
   "metadata": {},
   "outputs": [
    {
     "name": "stdout",
     "output_type": "stream",
     "text": [
      "Ans-: Imwrite() saves the image file to the specified path.\n",
      "      The first parameter is the path where you want to save the file, and the second parameter is\n",
      "      the image to be saved.\n"
     ]
    }
   ],
   "source": [
    "# 6. After making changes to an Image object, how could you save it as an image file?\n",
    "\n",
    "print('''Ans-: Imwrite() saves the image file to the specified path.\n",
    "      The first parameter is the path where you want to save the file, and the second parameter is\n",
    "      the image to be saved.''')"
   ]
  },
  {
   "cell_type": "code",
   "execution_count": 7,
   "id": "4a5af081",
   "metadata": {},
   "outputs": [
    {
     "name": "stdout",
     "output_type": "stream",
     "text": [
      "Ans-: The'ImageDraw' module provides simple 2D graphics support for Image Object. Generally,\n",
      "      we use this module to create new images, annotate or retouch existing images and to generate\n",
      "      graphics on the fly for web use. The graphics commands support the drawing of shapes and\n",
      "      annotation of text.\n"
     ]
    }
   ],
   "source": [
    "# 7. What module contains Pillow’s shape-drawing code?\n",
    "\n",
    "print('''Ans-: The'ImageDraw' module provides simple 2D graphics support for Image Object. Generally,\n",
    "      we use this module to create new images, annotate or retouch existing images and to generate\n",
    "      graphics on the fly for web use. The graphics commands support the drawing of shapes and\n",
    "      annotation of text.''')"
   ]
  },
  {
   "cell_type": "code",
   "execution_count": 8,
   "id": "fd93827f",
   "metadata": {},
   "outputs": [
    {
     "name": "stdout",
     "output_type": "stream",
     "text": [
      "Ans-: In this article, we will have a look at the ImageDraw module of this library. ImageDraw provides a variety of methods\n",
      "      to, as its name suggests, draw on images. With the help of this module, we can draw lines, circles, rectangles and, even\n",
      "      write and format text on an image.\n"
     ]
    }
   ],
   "source": [
    "# 8. Image objects do not have drawing methods. What kind of object does? How do you get this kind of object?\n",
    "\n",
    "print('''Ans-: In this article, we will have a look at the ImageDraw module of this library. ImageDraw provides a variety of methods\n",
    "      to, as its name suggests, draw on images. With the help of this module, we can draw lines, circles, rectangles and, even\n",
    "      write and format text on an image.''')"
   ]
  },
  {
   "cell_type": "code",
   "execution_count": null,
   "id": "fbbe9e93",
   "metadata": {},
   "outputs": [],
   "source": []
  }
 ],
 "metadata": {
  "kernelspec": {
   "display_name": "Python 3 (ipykernel)",
   "language": "python",
   "name": "python3"
  },
  "language_info": {
   "codemirror_mode": {
    "name": "ipython",
    "version": 3
   },
   "file_extension": ".py",
   "mimetype": "text/x-python",
   "name": "python",
   "nbconvert_exporter": "python",
   "pygments_lexer": "ipython3",
   "version": "3.10.6"
  }
 },
 "nbformat": 4,
 "nbformat_minor": 5
}
