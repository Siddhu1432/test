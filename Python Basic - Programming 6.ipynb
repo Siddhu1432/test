{
 "cells": [
  {
   "cell_type": "code",
   "execution_count": 1,
   "id": "034bbe2e",
   "metadata": {},
   "outputs": [],
   "source": [
    "# 1.Write a Python Program to Display Fibonacci Sequence Using Recursion?\n",
    "\n",
    "def feb(n):              \n",
    "    a = 1\n",
    "    b = 1\n",
    "    for i in range(n):  \n",
    "        yield a,i       \n",
    "        a,b = b, a+b    "
   ]
  },
  {
   "cell_type": "code",
   "execution_count": 2,
   "id": "3ede9a5a",
   "metadata": {},
   "outputs": [
    {
     "name": "stdout",
     "output_type": "stream",
     "text": [
      "(1, 0)\n",
      "(1, 1)\n",
      "(2, 2)\n",
      "(3, 3)\n",
      "(5, 4)\n",
      "(8, 5)\n",
      "(13, 6)\n",
      "(21, 7)\n",
      "(34, 8)\n",
      "(55, 9)\n"
     ]
    }
   ],
   "source": [
    "for i in feb(10):\n",
    "    print(i)"
   ]
  },
  {
   "cell_type": "code",
   "execution_count": 3,
   "id": "ade10d59",
   "metadata": {},
   "outputs": [
    {
     "name": "stdout",
     "output_type": "stream",
     "text": [
      "Enter number:5\n",
      "Factorial:\n",
      "120\n"
     ]
    }
   ],
   "source": [
    "# 2.Write a Python Program to Find Factorial of Number Using Recursion?\n",
    "\n",
    "def factorial(n):\n",
    "    if(n <= 1):\n",
    "        return 1\n",
    "    else:\n",
    "        return(n*factorial(n-1))\n",
    "n = int(input(\"Enter number:\"))\n",
    "print(\"Factorial:\")\n",
    "print(factorial(n))\n",
    "\n"
   ]
  },
  {
   "cell_type": "code",
   "execution_count": 4,
   "id": "93348ecb",
   "metadata": {},
   "outputs": [
    {
     "name": "stdout",
     "output_type": "stream",
     "text": [
      "Input your height in Feet: 5.3\n",
      "Input your weight in Kilogram: 85\n",
      "Your body mass index is:  3.03\n"
     ]
    }
   ],
   "source": [
    "# 3.Write a Python Program to calculate your Body Mass Index?\n",
    "\n",
    "height = float(input(\"Input your height in Feet: \"))\n",
    "weight = float(input(\"Input your weight in Kilogram: \"))\n",
    "print(\"Your body mass index is: \", round(weight / (height * height), 2))\n"
   ]
  },
  {
   "cell_type": "code",
   "execution_count": 5,
   "id": "a9abf49a",
   "metadata": {},
   "outputs": [
    {
     "name": "stdout",
     "output_type": "stream",
     "text": [
      "Natural logarithm of 12 is : 2.4849066497880004\n",
      "Logarithm base 5 of 12 is : 1.5439593106327716\n"
     ]
    }
   ],
   "source": [
    "# 4.Write a Python Program to calculate the natural logarithm of any number?\n",
    "\n",
    "import math\n",
    "\n",
    "print (\"Natural logarithm of 12 is : \", end=\"\")\n",
    "print (math.log(12))\n",
    " \n",
    "print (\"Logarithm base 5 of 12 is : \", end=\"\")\n",
    "print (math.log(12,5))"
   ]
  },
  {
   "cell_type": "code",
   "execution_count": 6,
   "id": "d3eb5f09",
   "metadata": {},
   "outputs": [
    {
     "name": "stdout",
     "output_type": "stream",
     "text": [
      "5\n",
      "1\n",
      "9\n",
      "36\n",
      "100\n",
      "225\n"
     ]
    }
   ],
   "source": [
    "# 5.Write a Python Program for cube sum of first n natural numbers?\n",
    "\n",
    "a = int(input())\n",
    "s = 0 \n",
    "for i in range(1,a+1):\n",
    "    s=s+(i**3)\n",
    "    print(s)"
   ]
  },
  {
   "cell_type": "code",
   "execution_count": null,
   "id": "88c796c4",
   "metadata": {},
   "outputs": [],
   "source": []
  }
 ],
 "metadata": {
  "kernelspec": {
   "display_name": "Python 3 (ipykernel)",
   "language": "python",
   "name": "python3"
  },
  "language_info": {
   "codemirror_mode": {
    "name": "ipython",
    "version": 3
   },
   "file_extension": ".py",
   "mimetype": "text/x-python",
   "name": "python",
   "nbconvert_exporter": "python",
   "pygments_lexer": "ipython3",
   "version": "3.10.6"
  }
 },
 "nbformat": 4,
 "nbformat_minor": 5
}
