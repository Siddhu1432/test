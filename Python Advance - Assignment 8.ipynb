{
 "cells": [
  {
   "cell_type": "code",
   "execution_count": 1,
   "id": "1ec59edc",
   "metadata": {},
   "outputs": [
    {
     "name": "stdout",
     "output_type": "stream",
     "text": [
      "Ans-: ArithmeticError and AttributeError\n"
     ]
    }
   ],
   "source": [
    "# Q1. What are the two latest user-defined exception constraints in Python 3.X?\n",
    "\n",
    "print('Ans-: ArithmeticError and AttributeError')\n",
    "\n"
   ]
  },
  {
   "cell_type": "code",
   "execution_count": 2,
   "id": "88450e9b",
   "metadata": {},
   "outputs": [
    {
     "name": "stdout",
     "output_type": "stream",
     "text": [
      "Ans-: The addition RAISING of the statements METHODS and FORM.\n"
     ]
    }
   ],
   "source": [
    "# Q2. How are class-based exceptions that have been raised matched to handlers?\n",
    "\n",
    "print('Ans-: The addition RAISING of the statements METHODS and FORM.')\n",
    "\n"
   ]
  },
  {
   "cell_type": "code",
   "execution_count": 3,
   "id": "573de140",
   "metadata": {},
   "outputs": [
    {
     "name": "stdout",
     "output_type": "stream",
     "text": [
      "Ans-: Python has two types of exceptions namely, Built-In Exceptions and User-Defined Exceptions.\n"
     ]
    }
   ],
   "source": [
    "# Q3. Describe two methods for attaching context information to exception artefacts.\n",
    "\n",
    "print('Ans-: Python has two types of exceptions namely, Built-In Exceptions and User-Defined Exceptions.')\n",
    "\n"
   ]
  },
  {
   "cell_type": "code",
   "execution_count": 4,
   "id": "db80f85e",
   "metadata": {},
   "outputs": [
    {
     "name": "stdout",
     "output_type": "stream",
     "text": [
      "division by zero\n"
     ]
    }
   ],
   "source": [
    "# Q4. Describe two methods for specifying the text of an exception object's error message.\n",
    "\n",
    "try:\n",
    "    5/0\n",
    "except Exception as e:\n",
    "    print(e)\n",
    "\n"
   ]
  },
  {
   "cell_type": "code",
   "execution_count": 5,
   "id": "8bc4be39",
   "metadata": {},
   "outputs": [
    {
     "name": "stdout",
     "output_type": "stream",
     "text": [
      "Please enter a number: kl\n",
      "it is a value error\n"
     ]
    }
   ],
   "source": [
    "\n",
    "while True:\n",
    "    try:\n",
    "        x = int(input(\"Please enter a number: \"))\n",
    "    except ValueError:\n",
    "        print(\"it is a value error\")\n",
    "        break"
   ]
  },
  {
   "cell_type": "code",
   "execution_count": 6,
   "id": "c2e6484b",
   "metadata": {},
   "outputs": [
    {
     "name": "stdout",
     "output_type": "stream",
     "text": [
      "Ans-: because a string is a sequence\n"
     ]
    }
   ],
   "source": [
    "# Q5. Why do you no longer use string-based exceptions?\n",
    "\n",
    "print('Ans-: because a string is a sequence')"
   ]
  },
  {
   "cell_type": "code",
   "execution_count": null,
   "id": "65db726a",
   "metadata": {},
   "outputs": [],
   "source": []
  }
 ],
 "metadata": {
  "kernelspec": {
   "display_name": "Python 3 (ipykernel)",
   "language": "python",
   "name": "python3"
  },
  "language_info": {
   "codemirror_mode": {
    "name": "ipython",
    "version": 3
   },
   "file_extension": ".py",
   "mimetype": "text/x-python",
   "name": "python",
   "nbconvert_exporter": "python",
   "pygments_lexer": "ipython3",
   "version": "3.10.6"
  }
 },
 "nbformat": 4,
 "nbformat_minor": 5
}
