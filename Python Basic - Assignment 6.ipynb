{
 "cells": [
  {
   "cell_type": "code",
   "execution_count": 1,
   "id": "c49fbf41",
   "metadata": {},
   "outputs": [
    {
     "name": "stdout",
     "output_type": "stream",
     "text": [
      "Ans-: Escape characters represent characters in string values that would\n",
      "      otherwise be difficult or impossible to type into code.\n",
      "      Use the escape character \\  \n"
     ]
    }
   ],
   "source": [
    "# 1. What are escape characters, and how do you use them?\n",
    "\n",
    "print('''Ans-: Escape characters represent characters in string values that would\n",
    "      otherwise be difficult or impossible to type into code.\n",
    "      Use the escape character \\  ''')\n",
    " "
   ]
  },
  {
   "cell_type": "code",
   "execution_count": 2,
   "id": "b9878596",
   "metadata": {},
   "outputs": [
    {
     "data": {
      "text/plain": [
       "' Ans-: \\n is a newline; \\t is a tab '"
      ]
     },
     "execution_count": 2,
     "metadata": {},
     "output_type": "execute_result"
    }
   ],
   "source": [
    "# 2. What do the escape characters n and t stand for?\n",
    "\n",
    "' Ans-: \\n is a newline; \\t is a tab ' "
   ]
  },
  {
   "cell_type": "code",
   "execution_count": 3,
   "id": "2739c082",
   "metadata": {},
   "outputs": [
    {
     "data": {
      "text/plain": [
       "' Ans-:  The \\\\ escape character will represent a backslash character.'"
      ]
     },
     "execution_count": 3,
     "metadata": {},
     "output_type": "execute_result"
    }
   ],
   "source": [
    "# 3. What is the way to include backslash characters in a string?\n",
    "\n",
    "' Ans-:  The \\\\ escape character will represent a backslash character.'\n"
   ]
  },
  {
   "cell_type": "code",
   "execution_count": 4,
   "id": "75f52776",
   "metadata": {},
   "outputs": [
    {
     "name": "stdout",
     "output_type": "stream",
     "text": [
      "Ans-: The single quote in Howl's is fine because you've used double quotes to\n",
      "      mark the beginning and end of the string.\n"
     ]
    }
   ],
   "source": [
    "# 4. The string \"Howl's Moving Castle\" is a correct value. Why isn't the single quote character in the word Howl's not escaped a problem?\n",
    "\n",
    "print('''Ans-: The single quote in Howl's is fine because you've used double quotes to\n",
    "      mark the beginning and end of the string.''' )"
   ]
  },
  {
   "cell_type": "code",
   "execution_count": 5,
   "id": "6581705d",
   "metadata": {},
   "outputs": [
    {
     "data": {
      "text/plain": [
       "'Ans-: Multiline strings allow you to use newlines in strings without the \\n escape character.'"
      ]
     },
     "execution_count": 5,
     "metadata": {},
     "output_type": "execute_result"
    }
   ],
   "source": [
    "# 5. How do you write a string of newlines if you don't want to use the n character?\n",
    "\n",
    "'''Ans-: Multiline strings allow you to use newlines in strings without the \\n escape character.'''"
   ]
  },
  {
   "cell_type": "code",
   "execution_count": 6,
   "id": "25deca75",
   "metadata": {},
   "outputs": [
    {
     "data": {
      "text/plain": [
       "'e'"
      ]
     },
     "execution_count": 6,
     "metadata": {},
     "output_type": "execute_result"
    }
   ],
   "source": [
    "# 6. What are the values of the given expressions?\n",
    "\n",
    "#'Hello world!'[1]\n",
    "\n",
    "#'Hello world!'[0:5]\n",
    "\n",
    "#'Hello world!'[:5]\n",
    "\n",
    "#'Hello world!'[3:]\n",
    "\n",
    "\n",
    "'Hello, world!'[1]\n",
    "\n"
   ]
  },
  {
   "cell_type": "code",
   "execution_count": 7,
   "id": "a1b2a65e",
   "metadata": {},
   "outputs": [
    {
     "data": {
      "text/plain": [
       "'Hello'"
      ]
     },
     "execution_count": 7,
     "metadata": {},
     "output_type": "execute_result"
    }
   ],
   "source": [
    "'Hello, world!'[0:5]"
   ]
  },
  {
   "cell_type": "code",
   "execution_count": 8,
   "id": "6a7ccdf6",
   "metadata": {},
   "outputs": [
    {
     "data": {
      "text/plain": [
       "'Hello'"
      ]
     },
     "execution_count": 8,
     "metadata": {},
     "output_type": "execute_result"
    }
   ],
   "source": [
    "'Hello, world!'[:5]\n"
   ]
  },
  {
   "cell_type": "code",
   "execution_count": 9,
   "id": "6f6a5168",
   "metadata": {},
   "outputs": [
    {
     "data": {
      "text/plain": [
       "'lo, world!'"
      ]
     },
     "execution_count": 9,
     "metadata": {},
     "output_type": "execute_result"
    }
   ],
   "source": [
    "'Hello, world!'[3:]\n"
   ]
  },
  {
   "cell_type": "code",
   "execution_count": 10,
   "id": "c47659f6",
   "metadata": {},
   "outputs": [
    {
     "data": {
      "text/plain": [
       "'HELLO'"
      ]
     },
     "execution_count": 10,
     "metadata": {},
     "output_type": "execute_result"
    }
   ],
   "source": [
    "# 7. What are the values of the following expressions?\n",
    "\n",
    "# 'Hello'.upper()\n",
    "# 'Hello'.upper().isupper()\n",
    "# 'Hello'.upper().lower()\n",
    "\n",
    "\n",
    "'Hello'.upper()\n"
   ]
  },
  {
   "cell_type": "code",
   "execution_count": 11,
   "id": "18db8861",
   "metadata": {},
   "outputs": [
    {
     "data": {
      "text/plain": [
       "True"
      ]
     },
     "execution_count": 11,
     "metadata": {},
     "output_type": "execute_result"
    }
   ],
   "source": [
    "'Hello'.upper().isupper()\n"
   ]
  },
  {
   "cell_type": "code",
   "execution_count": 12,
   "id": "20c0449d",
   "metadata": {},
   "outputs": [
    {
     "data": {
      "text/plain": [
       "'hello'"
      ]
     },
     "execution_count": 12,
     "metadata": {},
     "output_type": "execute_result"
    }
   ],
   "source": [
    "'Hello'.upper().lower()\n"
   ]
  },
  {
   "cell_type": "code",
   "execution_count": 13,
   "id": "95becfc5",
   "metadata": {},
   "outputs": [
    {
     "data": {
      "text/plain": [
       "'There-can-only-one.'"
      ]
     },
     "execution_count": 13,
     "metadata": {},
     "output_type": "execute_result"
    }
   ],
   "source": [
    "# 8. What are the values of the following expressions?\n",
    "\n",
    "# 'Remember, remember, the fifth of July.'.split()\n",
    "# '-'.join('There can only one.'.split())\n",
    "\n",
    "\n",
    "'Remember, remember, the fifth of July.'.split()\n",
    "'-'.join('There can only one.'.split())\n",
    "\n"
   ]
  },
  {
   "cell_type": "code",
   "execution_count": 14,
   "id": "086f1c07",
   "metadata": {},
   "outputs": [
    {
     "name": "stdout",
     "output_type": "stream",
     "text": [
      "Ans-: The rjust(), ljust(), and center() string methods, respectively\n"
     ]
    }
   ],
   "source": [
    "# 9. What are the methods for right-justifying, left-justifying, and centering a string?\n",
    "\n",
    "print(\"Ans-: The rjust(), ljust(), and center() string methods, respectively\")"
   ]
  },
  {
   "cell_type": "code",
   "execution_count": 15,
   "id": "81ab311e",
   "metadata": {},
   "outputs": [
    {
     "name": "stdout",
     "output_type": "stream",
     "text": [
      "Ans-: The lstrip() and rstrip() methods remove whitespace from the left and\n",
      "      right ends of a string, respectively.\n"
     ]
    }
   ],
   "source": [
    "# 10. What is the best way to remove whitespace characters from the start or end?\n",
    "\n",
    "print('''Ans-: The lstrip() and rstrip() methods remove whitespace from the left and\n",
    "      right ends of a string, respectively.''')\n"
   ]
  },
  {
   "cell_type": "code",
   "execution_count": null,
   "id": "9fb0b7f1",
   "metadata": {},
   "outputs": [],
   "source": []
  }
 ],
 "metadata": {
  "kernelspec": {
   "display_name": "Python 3 (ipykernel)",
   "language": "python",
   "name": "python3"
  },
  "language_info": {
   "codemirror_mode": {
    "name": "ipython",
    "version": 3
   },
   "file_extension": ".py",
   "mimetype": "text/x-python",
   "name": "python",
   "nbconvert_exporter": "python",
   "pygments_lexer": "ipython3",
   "version": "3.10.6"
  }
 },
 "nbformat": 4,
 "nbformat_minor": 5
}
