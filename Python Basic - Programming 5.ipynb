{
 "cells": [
  {
   "cell_type": "code",
   "execution_count": 1,
   "id": "8070e8b1",
   "metadata": {},
   "outputs": [
    {
     "name": "stdout",
     "output_type": "stream",
     "text": [
      "6\n",
      "12\n",
      "L.C.M : 12\n"
     ]
    }
   ],
   "source": [
    "# 1.Write a Python Program to Find LCM?\n",
    "a = int(input())\n",
    "b = int(input())\n",
    "if a > b:\n",
    "       greater = a\n",
    "else:\n",
    "       greater = b\n",
    "\n",
    "while(True):\n",
    "    if((greater % a == 0) and (greater % b == 0)):\n",
    "        lcm = greater\n",
    "        break\n",
    "    greater += 1\n",
    "print('L.C.M :',lcm)\n"
   ]
  },
  {
   "cell_type": "code",
   "execution_count": 2,
   "id": "cb2d0795",
   "metadata": {},
   "outputs": [
    {
     "name": "stdout",
     "output_type": "stream",
     "text": [
      "6\n",
      "12\n",
      "H.C.F : 6\n"
     ]
    }
   ],
   "source": [
    "# 2.Write a Python Program to Find HCF?\n",
    "\n",
    "a = int(input())\n",
    "b = int(input())\n",
    "if a > b:\n",
    "       smaller = a\n",
    "else:\n",
    "       smaller = b\n",
    "\n",
    "for i in range(1,smaller+1):\n",
    "    if((a % i == 0) and ( b % i == 0)):\n",
    "        hcf = i\n",
    "    \n",
    "\n",
    "print('H.C.F :',hcf)\n"
   ]
  },
  {
   "cell_type": "code",
   "execution_count": 3,
   "id": "c095604c",
   "metadata": {},
   "outputs": [
    {
     "name": "stdout",
     "output_type": "stream",
     "text": [
      "The decimal value of 225 is:\n",
      "0b11100001 in binary.\n",
      "0o341 in octal.\n",
      "0xe1 in hexadecimal.\n"
     ]
    }
   ],
   "source": [
    "# 3.Write a Python Program to Convert Decimal to Binary, Octal and Hexadecimal?\n",
    "\n",
    "dec = 225\n",
    "\n",
    "print(\"The decimal value of\", dec, \"is:\")\n",
    "print(bin(dec), \"in binary.\")\n",
    "print(oct(dec), \"in octal.\")\n",
    "print(hex(dec), \"in hexadecimal.\")\n"
   ]
  },
  {
   "cell_type": "code",
   "execution_count": 4,
   "id": "da85702c",
   "metadata": {},
   "outputs": [
    {
     "name": "stdout",
     "output_type": "stream",
     "text": [
      "The ASCII value of 'p' is 112\n"
     ]
    }
   ],
   "source": [
    "# 4.Write a Python Program To Find ASCII value of a character?\n",
    "\n",
    "c = 'p'\n",
    "print(\"The ASCII value of '\" + c + \"' is\", ord(c))\n"
   ]
  },
  {
   "cell_type": "code",
   "execution_count": 5,
   "id": "20764b55",
   "metadata": {},
   "outputs": [],
   "source": [
    "# 5.Write a Python Program to Make a Simple Calculator with 4 basic mathematical operations?\n",
    "\n",
    "def mul(a,b):\n",
    "    return a*b\n",
    "\n",
    "def add(a,b):\n",
    "    return a+b\n",
    "\n",
    "def div(a,b):\n",
    "    return a/b\n",
    "\n",
    "def sub(a,b):\n",
    "    return a-b"
   ]
  },
  {
   "cell_type": "code",
   "execution_count": 6,
   "id": "bcdd587a",
   "metadata": {},
   "outputs": [
    {
     "data": {
      "text/plain": [
       "18"
      ]
     },
     "execution_count": 6,
     "metadata": {},
     "output_type": "execute_result"
    }
   ],
   "source": [
    "mul(6,3)"
   ]
  },
  {
   "cell_type": "code",
   "execution_count": 7,
   "id": "d459645e",
   "metadata": {},
   "outputs": [
    {
     "data": {
      "text/plain": [
       "9"
      ]
     },
     "execution_count": 7,
     "metadata": {},
     "output_type": "execute_result"
    }
   ],
   "source": [
    "add(6,3)"
   ]
  },
  {
   "cell_type": "code",
   "execution_count": 8,
   "id": "2979bc3b",
   "metadata": {},
   "outputs": [
    {
     "data": {
      "text/plain": [
       "2.0"
      ]
     },
     "execution_count": 8,
     "metadata": {},
     "output_type": "execute_result"
    }
   ],
   "source": [
    "div(6,3)"
   ]
  },
  {
   "cell_type": "code",
   "execution_count": 9,
   "id": "210a2c61",
   "metadata": {},
   "outputs": [
    {
     "data": {
      "text/plain": [
       "3"
      ]
     },
     "execution_count": 9,
     "metadata": {},
     "output_type": "execute_result"
    }
   ],
   "source": [
    "sub(6,3)"
   ]
  },
  {
   "cell_type": "code",
   "execution_count": null,
   "id": "b1a833d8",
   "metadata": {},
   "outputs": [],
   "source": []
  }
 ],
 "metadata": {
  "kernelspec": {
   "display_name": "Python 3 (ipykernel)",
   "language": "python",
   "name": "python3"
  },
  "language_info": {
   "codemirror_mode": {
    "name": "ipython",
    "version": 3
   },
   "file_extension": ".py",
   "mimetype": "text/x-python",
   "name": "python",
   "nbconvert_exporter": "python",
   "pygments_lexer": "ipython3",
   "version": "3.10.6"
  }
 },
 "nbformat": 4,
 "nbformat_minor": 5
}
