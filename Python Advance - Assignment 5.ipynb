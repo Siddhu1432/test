{
 "cells": [
  {
   "cell_type": "code",
   "execution_count": 1,
   "id": "3d63aaf9",
   "metadata": {},
   "outputs": [
    {
     "name": "stdout",
     "output_type": "stream",
     "text": [
      "Ans-: When a class is derived from more than one base class \n"
     ]
    }
   ],
   "source": [
    "# Q1. What is the meaning of multiple inheritance?\n",
    "\n",
    "print('Ans-: When a class is derived from more than one base class ')\n",
    "\n"
   ]
  },
  {
   "cell_type": "code",
   "execution_count": 2,
   "id": "3d2c19bf",
   "metadata": {},
   "outputs": [
    {
     "name": "stdout",
     "output_type": "stream",
     "text": [
      "Ans-: Delegation is an object oriented technique, also called a design pattern.\n"
     ]
    }
   ],
   "source": [
    "# Q2. What is the concept of delegation?\n",
    "\n",
    "print('Ans-: Delegation is an object oriented technique, also called a design pattern.')\n",
    "\n"
   ]
  },
  {
   "cell_type": "code",
   "execution_count": 3,
   "id": "a1823957",
   "metadata": {},
   "outputs": [
    {
     "name": "stdout",
     "output_type": "stream",
     "text": [
      "Ans-: Composition is a concept that models a has a relationship \n"
     ]
    }
   ],
   "source": [
    "# Q3. What is the concept of composition?\n",
    "\n",
    "print('Ans-: Composition is a concept that models a has a relationship ')\n",
    "\n"
   ]
  },
  {
   "cell_type": "code",
   "execution_count": 4,
   "id": "b36def31",
   "metadata": {},
   "outputs": [
    {
     "name": "stdout",
     "output_type": "stream",
     "text": [
      "Ans-: A bound method is the one which is dependent on the instance of the class as the \n",
      "      first argument. \n"
     ]
    }
   ],
   "source": [
    "# Q4. What are bound methods and how do we use them?\n",
    "\n",
    "\n",
    "print('''Ans-: A bound method is the one which is dependent on the instance of the class as the \n",
    "      first argument. ''')\n",
    "\n",
    "\n"
   ]
  },
  {
   "cell_type": "code",
   "execution_count": 5,
   "id": "f24b26f3",
   "metadata": {},
   "outputs": [
    {
     "name": "stdout",
     "output_type": "stream",
     "text": [
      "<bound method A.func of <__main__.A object at 0x0000021BE20330A0>>\n"
     ]
    }
   ],
   "source": [
    "class A:\n",
    "  \n",
    "    def func(self, arg):\n",
    "        self.arg = arg\n",
    "        print(\"Value of arg = \", arg)\n",
    "  \n",
    "obj = A()  \n",
    "print(obj.func)\n",
    "\n"
   ]
  },
  {
   "cell_type": "code",
   "execution_count": 6,
   "id": "5d7493bd",
   "metadata": {},
   "outputs": [
    {
     "name": "stdout",
     "output_type": "stream",
     "text": [
      "Ans-: avoid potential name collisions in the instance\n"
     ]
    }
   ],
   "source": [
    "# Q5. What is the purpose of pseudoprivate attributes?\n",
    "\n",
    "print('Ans-: avoid potential name collisions in the instance')"
   ]
  },
  {
   "cell_type": "code",
   "execution_count": null,
   "id": "f78b3744",
   "metadata": {},
   "outputs": [],
   "source": []
  }
 ],
 "metadata": {
  "kernelspec": {
   "display_name": "Python 3 (ipykernel)",
   "language": "python",
   "name": "python3"
  },
  "language_info": {
   "codemirror_mode": {
    "name": "ipython",
    "version": 3
   },
   "file_extension": ".py",
   "mimetype": "text/x-python",
   "name": "python",
   "nbconvert_exporter": "python",
   "pygments_lexer": "ipython3",
   "version": "3.10.6"
  }
 },
 "nbformat": 4,
 "nbformat_minor": 5
}
