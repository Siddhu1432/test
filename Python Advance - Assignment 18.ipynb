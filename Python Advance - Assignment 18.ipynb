{
 "cells": [
  {
   "cell_type": "code",
   "execution_count": 1,
   "id": "ff896d16",
   "metadata": {},
   "outputs": [
    {
     "name": "stdout",
     "output_type": "stream",
     "text": [
      "Ans-: Text files are organized around lines, each of which ends with a newline \n",
      "      character.The source code files are themselves text files. A binary file\n",
      "      is the one in which data is stored in the file in the same way as it\n",
      "      is stored in the main memory for processing.\n"
     ]
    }
   ],
   "source": [
    "# Q1. Describe the differences between text and binary files in a single paragraph.\n",
    "\n",
    "print('''Ans-: Text files are organized around lines, each of which ends with a newline \n",
    "      character.The source code files are themselves text files. A binary file\n",
    "      is the one in which data is stored in the file in the same way as it\n",
    "      is stored in the main memory for processing.''')\n",
    "\n"
   ]
  },
  {
   "cell_type": "code",
   "execution_count": 2,
   "id": "2ce382a5",
   "metadata": {},
   "outputs": [
    {
     "name": "stdout",
     "output_type": "stream",
     "text": [
      "Ans-: Portable document format (PDF) A PDF file is a common file type in many work environments. ...\n",
      "      Word document (DOC and DOCX) ...\n",
      "      Hypertext markup language (HTML and HTM) ...\n",
      "      Microsoft excel spreadsheet file (XLS and XLSX) ...\n",
      "      Text file (TXT)\n",
      "\n",
      "      to store data more compactly.\n"
     ]
    }
   ],
   "source": [
    "# Q2. What are some scenarios where using text files will be the better option? When would you like to use binary files instead of text files?\n",
    "\n",
    "print('''Ans-: Portable document format (PDF) A PDF file is a common file type in many work environments. ...\n",
    "      Word document (DOC and DOCX) ...\n",
    "      Hypertext markup language (HTML and HTM) ...\n",
    "      Microsoft excel spreadsheet file (XLS and XLSX) ...\n",
    "      Text file (TXT)\n",
    "\n",
    "      to store data more compactly.''')\n",
    "\n"
   ]
  },
  {
   "cell_type": "code",
   "execution_count": 3,
   "id": "8041b94a",
   "metadata": {},
   "outputs": [
    {
     "name": "stdout",
     "output_type": "stream",
     "text": [
      "Ans-: Binary files also usually have faster read and write times than text files, because a binary \n",
      "      image of the record is stored directly from memory to disk (or vice versa). In a text file, everything\n",
      "      has to be converted back and forth to text, and this takes time.\n",
      "\n"
     ]
    }
   ],
   "source": [
    "# Q3. What are some of the issues with using binary operations to read and write a Python integer directly to disc?\n",
    "\n",
    "print('''Ans-: Binary files also usually have faster read and write times than text files, because a binary \n",
    "      image of the record is stored directly from memory to disk (or vice versa). In a text file, everything\n",
    "      has to be converted back and forth to text, and this takes time.\n",
    "''')\n",
    "\n"
   ]
  },
  {
   "cell_type": "code",
   "execution_count": 4,
   "id": "b78fb105",
   "metadata": {},
   "outputs": [
    {
     "name": "stdout",
     "output_type": "stream",
     "text": [
      "Ans-: The file will be closed as soon as you leave the block.\n"
     ]
    }
   ],
   "source": [
    "# Q4. Describe a benefit of using the with keyword instead of explicitly opening a file.\n",
    "\n",
    "print('''Ans-: The file will be closed as soon as you leave the block.''')\n",
    "\n"
   ]
  },
  {
   "cell_type": "code",
   "execution_count": 5,
   "id": "c4c2d856",
   "metadata": {},
   "outputs": [
    {
     "name": "stdout",
     "output_type": "stream",
     "text": [
      "Ans-: It appends a newline (“\n",
      "”) at the end of the line.\n"
     ]
    }
   ],
   "source": [
    "# Q5. Does Python have the trailing newline while reading a line of text? Does Python append a newline when you write a line of text?\n",
    "\n",
    "print('''Ans-: It appends a newline (“\\n”) at the end of the line.''')\n",
    "\n"
   ]
  },
  {
   "cell_type": "code",
   "execution_count": 6,
   "id": "35444ef1",
   "metadata": {},
   "outputs": [
    {
     "name": "stdout",
     "output_type": "stream",
     "text": [
      "Ans-: Random access files permit nonsequential, or random, access to a file's contents. To access a\n",
      "      file randomly, you open the file, seek a particular location, and read from or write to that file.\n"
     ]
    }
   ],
   "source": [
    "# Q6. What file operations enable for random-access operation?\n",
    "\n",
    "print('''Ans-: Random access files permit nonsequential, or random, access to a file's contents. To access a\n",
    "      file randomly, you open the file, seek a particular location, and read from or write to that file.''')\n",
    "\n",
    "\n"
   ]
  },
  {
   "cell_type": "code",
   "execution_count": 7,
   "id": "657d5029",
   "metadata": {},
   "outputs": [
    {
     "name": "stdout",
     "output_type": "stream",
     "text": [
      "Ans-: The struct module in Python is used to convert native Python data types such as strings and\n",
      "      numbers into a string of bytes and vice versa.\n"
     ]
    }
   ],
   "source": [
    "# Q7. When do you think you'll use the struct package the most?\n",
    "\n",
    "print('''Ans-: The struct module in Python is used to convert native Python data types such as strings and\n",
    "      numbers into a string of bytes and vice versa.''')\n",
    "\n"
   ]
  },
  {
   "cell_type": "code",
   "execution_count": 8,
   "id": "dcc1c1df",
   "metadata": {},
   "outputs": [
    {
     "name": "stdout",
     "output_type": "stream",
     "text": [
      "Ans-: In Python, you can use Pickle to serialize (deserialize) an object structure into (from) a\n",
      "      byte stream.\n"
     ]
    }
   ],
   "source": [
    "# Q8. When is pickling the best option?\n",
    "\n",
    "print('''Ans-: In Python, you can use Pickle to serialize (deserialize) an object structure into (from) a\n",
    "      byte stream.''')\n",
    "\n"
   ]
  },
  {
   "cell_type": "code",
   "execution_count": 9,
   "id": "3acc306f",
   "metadata": {},
   "outputs": [
    {
     "name": "stdout",
     "output_type": "stream",
     "text": [
      "Ans-: The development costs are spread across a large number of users, so you pay much less than\n",
      "      it would cost to build the same software from scratch\n"
     ]
    }
   ],
   "source": [
    "# Q9. When will it be best to use the shelve package?\n",
    "\n",
    "print('''Ans-: The development costs are spread across a large number of users, so you pay much less than\n",
    "      it would cost to build the same software from scratch''')\n",
    "\n"
   ]
  },
  {
   "cell_type": "code",
   "execution_count": 10,
   "id": "029f73ac",
   "metadata": {},
   "outputs": [
    {
     "name": "stdout",
     "output_type": "stream",
     "text": [
      "Ans-: Only string data type can be used as key \n"
     ]
    }
   ],
   "source": [
    "# Q10. What is a special restriction when using the shelve package, as opposed to using other data dictionaries?\n",
    "\n",
    "print('Ans-: Only string data type can be used as key ')"
   ]
  },
  {
   "cell_type": "code",
   "execution_count": null,
   "id": "899ac3cb",
   "metadata": {},
   "outputs": [],
   "source": []
  }
 ],
 "metadata": {
  "kernelspec": {
   "display_name": "Python 3 (ipykernel)",
   "language": "python",
   "name": "python3"
  },
  "language_info": {
   "codemirror_mode": {
    "name": "ipython",
    "version": 3
   },
   "file_extension": ".py",
   "mimetype": "text/x-python",
   "name": "python",
   "nbconvert_exporter": "python",
   "pygments_lexer": "ipython3",
   "version": "3.10.6"
  }
 },
 "nbformat": 4,
 "nbformat_minor": 5
}
