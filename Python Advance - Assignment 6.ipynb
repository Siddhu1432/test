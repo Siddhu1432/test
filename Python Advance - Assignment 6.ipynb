{
 "cells": [
  {
   "cell_type": "code",
   "execution_count": 1,
   "id": "6ca36ad6",
   "metadata": {},
   "outputs": [
    {
     "name": "stdout",
     "output_type": "stream",
     "text": [
      "Ans-: Python Exception Handling.\n",
      "      Python Try Except.\n",
      "      Errors and Exceptions in Python.\n",
      "      Built-in Exceptions in Python.\n"
     ]
    }
   ],
   "source": [
    "# Q1. Describe three applications for exception processing.\n",
    "\n",
    "print('''Ans-: Python Exception Handling.\n",
    "      Python Try Except.\n",
    "      Errors and Exceptions in Python.\n",
    "      Built-in Exceptions in Python.''')\n",
    "\n"
   ]
  },
  {
   "cell_type": "code",
   "execution_count": 2,
   "id": "8d832ba1",
   "metadata": {},
   "outputs": [
    {
     "name": "stdout",
     "output_type": "stream",
     "text": [
      "Ans-: The program terminates abruptly and the code past the line that caused the exception will not\n",
      "      get executed.\n"
     ]
    }
   ],
   "source": [
    "# Q2. What happens if you don't do something extra to treat an exception?\n",
    "\n",
    "print('''Ans-: The program terminates abruptly and the code past the line that caused the exception will not\n",
    "      get executed.''')\n",
    "\n"
   ]
  },
  {
   "cell_type": "code",
   "execution_count": 3,
   "id": "601066b5",
   "metadata": {},
   "outputs": [
    {
     "name": "stdout",
     "output_type": "stream",
     "text": [
      "Ans-: provide a generic except clause\n"
     ]
    }
   ],
   "source": [
    "# Q3. What are your options for recovering from an exception in your script?\n",
    "\n",
    "print('Ans-: provide a generic except clause')\n",
    "\n"
   ]
  },
  {
   "cell_type": "code",
   "execution_count": 4,
   "id": "fe213540",
   "metadata": {},
   "outputs": [
    {
     "name": "stdout",
     "output_type": "stream",
     "text": [
      "Ans-: Try – This method catches the exceptions raised by the program. Raise – Triggers an exception manually using\n",
      "      custom exceptions. \n"
     ]
    }
   ],
   "source": [
    "# Q4. Describe two methods for triggering exceptions in your script.\n",
    "\n",
    "print('''Ans-: Try – This method catches the exceptions raised by the program. Raise – Triggers an exception manually using\n",
    "      custom exceptions. ''')\n",
    "\n"
   ]
  },
  {
   "cell_type": "code",
   "execution_count": 5,
   "id": "39158d7e",
   "metadata": {},
   "outputs": [
    {
     "name": "stdout",
     "output_type": "stream",
     "text": [
      "Ans-: Finally, block always executes irrespective of an exception being thrown or not.\n"
     ]
    }
   ],
   "source": [
    "# Q5. Identify two methods for specifying actions to be executed at termination time, regardless of whether or not an exception exists.\n",
    "\n",
    "print('Ans-: Finally, block always executes irrespective of an exception being thrown or not.')\n"
   ]
  },
  {
   "cell_type": "code",
   "execution_count": null,
   "id": "31f6070b",
   "metadata": {},
   "outputs": [],
   "source": []
  }
 ],
 "metadata": {
  "kernelspec": {
   "display_name": "Python 3 (ipykernel)",
   "language": "python",
   "name": "python3"
  },
  "language_info": {
   "codemirror_mode": {
    "name": "ipython",
    "version": 3
   },
   "file_extension": ".py",
   "mimetype": "text/x-python",
   "name": "python",
   "nbconvert_exporter": "python",
   "pygments_lexer": "ipython3",
   "version": "3.10.6"
  }
 },
 "nbformat": 4,
 "nbformat_minor": 5
}
