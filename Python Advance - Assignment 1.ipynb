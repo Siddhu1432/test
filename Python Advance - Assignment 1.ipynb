{
 "cells": [
  {
   "cell_type": "code",
   "execution_count": 1,
   "id": "0ccd598d",
   "metadata": {},
   "outputs": [
    {
     "name": "stdout",
     "output_type": "stream",
     "text": [
      "Ans-: It aims to implement real-world entities like inheritance, polymorphisms, encapsula tion, etc.\n",
      "      in the programming.\n"
     ]
    }
   ],
   "source": [
    "# Q1. What is the purpose of Python's OOP?\n",
    "\n",
    "\n",
    "print('''Ans-: It aims to implement real-world entities like inheritance, polymorphisms, encapsula tion, etc.\n",
    "      in the programming.''')\n"
   ]
  },
  {
   "cell_type": "code",
   "execution_count": 2,
   "id": "50e6f174",
   "metadata": {},
   "outputs": [
    {
     "name": "stdout",
     "output_type": "stream",
     "text": [
      "Ans-: first in the instance object, then in the class the instance was created from, then in all\n",
      "      higher superclasses, progressing from left to right (by default). \n"
     ]
    }
   ],
   "source": [
    "# Q2. Where does an inheritance search look for an attribute?\n",
    "\n",
    "\n",
    "print('''Ans-: first in the instance object, then in the class the instance was created from, then in all\n",
    "      higher superclasses, progressing from left to right (by default). ''')\n"
   ]
  },
  {
   "cell_type": "code",
   "execution_count": 3,
   "id": "404e67e2",
   "metadata": {},
   "outputs": [
    {
     "name": "stdout",
     "output_type": "stream",
     "text": [
      "Ans-: class object - Class objects provide default behavior and serve as factories for instance \n",
      "      objects.\n",
      "      \n",
      "      instance object - instance object inherits the attributes of the class object from which it was \n",
      "      created.\n"
     ]
    }
   ],
   "source": [
    "# Q3. How do you distinguish between a class object and an instance object?\n",
    "\n",
    "print('''Ans-: class object - Class objects provide default behavior and serve as factories for instance \n",
    "      objects.\n",
    "      \n",
    "      instance object - instance object inherits the attributes of the class object from which it was \n",
    "      created.''')\n",
    "\n"
   ]
  },
  {
   "cell_type": "code",
   "execution_count": 4,
   "id": "61fad295",
   "metadata": {},
   "outputs": [
    {
     "name": "stdout",
     "output_type": "stream",
     "text": [
      "Ans-: the first parameter of a function in class must be the object itself. Writing this parameter\n",
      "      as self is merely a convention. It is not a keyword and has no special meaning in Python.\n"
     ]
    }
   ],
   "source": [
    "# Q4. What makes the first argument in a class’s method function special?\n",
    "\n",
    "print('''Ans-: the first parameter of a function in class must be the object itself. Writing this parameter\n",
    "      as self is merely a convention. It is not a keyword and has no special meaning in Python.''')\n",
    "\n"
   ]
  },
  {
   "cell_type": "code",
   "execution_count": 5,
   "id": "12826511",
   "metadata": {},
   "outputs": [
    {
     "name": "stdout",
     "output_type": "stream",
     "text": [
      "Ans-: The __init__ method lets the class initialize the object's attributes and serves no other\n",
      "      purpose. It is only used within classes.\n"
     ]
    }
   ],
   "source": [
    "# Q5. What is the purpose of the __init__ method?\n",
    "\n",
    "print('''Ans-: The __init__ method lets the class initialize the object's attributes and serves no other\n",
    "      purpose. It is only used within classes.''')\n",
    "\n"
   ]
  },
  {
   "cell_type": "code",
   "execution_count": 6,
   "id": "4c57cbc2",
   "metadata": {},
   "outputs": [
    {
     "name": "stdout",
     "output_type": "stream",
     "text": [
      "Ans-: The new operator requires a single, postfix argument: a call to a constructor.\n"
     ]
    }
   ],
   "source": [
    "# Q6. What is the process for creating a class instance?\n",
    "\n",
    "print('''Ans-: The new operator requires a single, postfix argument: a call to a constructor.''')\n",
    "\n"
   ]
  },
  {
   "cell_type": "code",
   "execution_count": 7,
   "id": "c6abf6bc",
   "metadata": {},
   "outputs": [
    {
     "name": "stdout",
     "output_type": "stream",
     "text": [
      "Ans-: 1) Create a Class. To create a class, use the keyword class : \n",
      "      2) Create Object. Now we can use the class named MyClass to create objects: \n",
      "      3) The self Parameter. \n",
      "      4) Modify Object Properties. \n",
      "      5) Delete Object Properties. \n",
      "      6) Delete Objects.\n",
      "\n"
     ]
    }
   ],
   "source": [
    "# Q7. What is the process for creating a class?\n",
    "\n",
    "print('''Ans-: 1) Create a Class. To create a class, use the keyword class : \n",
    "      2) Create Object. Now we can use the class named MyClass to create objects: \n",
    "      3) The self Parameter. \n",
    "      4) Modify Object Properties. \n",
    "      5) Delete Object Properties. \n",
    "      6) Delete Objects.\n",
    "''')\n",
    "\n",
    "\n"
   ]
  },
  {
   "cell_type": "code",
   "execution_count": 8,
   "id": "3dfbf464",
   "metadata": {},
   "outputs": [
    {
     "name": "stdout",
     "output_type": "stream",
     "text": [
      "Ans-: The class from which the subclass is derived is called a superclass.\n"
     ]
    }
   ],
   "source": [
    "# Q8. How would you define the superclasses of a class?\n",
    "\n",
    "print('''Ans-: The class from which the subclass is derived is called a superclass.''')\n"
   ]
  },
  {
   "cell_type": "code",
   "execution_count": null,
   "id": "29dfb737",
   "metadata": {},
   "outputs": [],
   "source": []
  }
 ],
 "metadata": {
  "kernelspec": {
   "display_name": "Python 3 (ipykernel)",
   "language": "python",
   "name": "python3"
  },
  "language_info": {
   "codemirror_mode": {
    "name": "ipython",
    "version": 3
   },
   "file_extension": ".py",
   "mimetype": "text/x-python",
   "name": "python",
   "nbconvert_exporter": "python",
   "pygments_lexer": "ipython3",
   "version": "3.10.6"
  }
 },
 "nbformat": 4,
 "nbformat_minor": 5
}
