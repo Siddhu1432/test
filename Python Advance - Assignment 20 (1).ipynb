{
 "cells": [
  {
   "cell_type": "code",
   "execution_count": 1,
   "id": "a6143016",
   "metadata": {},
   "outputs": [
    {
     "name": "stdout",
     "output_type": "stream",
     "text": [
      "Ans-: Decimals have much higher precision and are usually used within monetary\n",
      "      (financial) applications that require a high degree of accuracy.\n"
     ]
    }
   ],
   "source": [
    "# 1. Compare and contrast the float and Decimal classes' benefits and drawbacks.\n",
    "\n",
    "print('''Ans-: Decimals have much higher precision and are usually used within monetary\n",
    "      (financial) applications that require a high degree of accuracy.''')\n",
    "\n"
   ]
  },
  {
   "cell_type": "code",
   "execution_count": 2,
   "id": "e21452ca",
   "metadata": {},
   "outputs": [
    {
     "name": "stdout",
     "output_type": "stream",
     "text": [
      "Ans-: The value wise or amount wise both are same but writtng time both are different becouse \n",
      "      in 1.200 after a dot are three num and in 1.2 after a dot only one num are present\n"
     ]
    }
   ],
   "source": [
    "# 2. Decimal('1.200') and Decimal('1.2') are two objects to consider. In what sense are these the same object? Are these just two ways of representing the exact same value, or do they correspond to different internal states?\n",
    "\n",
    "print('''Ans-: The value wise or amount wise both are same but writtng time both are different becouse \n",
    "      in 1.200 after a dot are three num and in 1.2 after a dot only one num are present''')\n",
    "\n",
    "\n"
   ]
  },
  {
   "cell_type": "code",
   "execution_count": 3,
   "id": "0c9d26ba",
   "metadata": {},
   "outputs": [
    {
     "name": "stdout",
     "output_type": "stream",
     "text": [
      "Ans-: Mathmatically both are same but values, 1.200 is the more precise value, because it \n",
      "      has been measured to 3 decimal places. \n"
     ]
    }
   ],
   "source": [
    "# 3. What happens if the equality of Decimal('1.200') and Decimal('1.2') is checked?\n",
    "\n",
    "print('''Ans-: Mathmatically both are same but values, 1.200 is the more precise value, because it \n",
    "      has been measured to 3 decimal places. ''')\n",
    "\n"
   ]
  },
  {
   "cell_type": "code",
   "execution_count": 4,
   "id": "d311a08c",
   "metadata": {},
   "outputs": [
    {
     "name": "stdout",
     "output_type": "stream",
     "text": [
      "Ans-: printing x to 20 decimal places here gives us 19 zeroes\n"
     ]
    }
   ],
   "source": [
    "# 4. Why is it preferable to start a Decimal object with a string rather than a floating-point value?\n",
    "\n",
    "print('''Ans-: printing x to 20 decimal places here gives us 19 zeroes''')\n",
    "\n"
   ]
  },
  {
   "cell_type": "code",
   "execution_count": 5,
   "id": "8f47ebd3",
   "metadata": {},
   "outputs": [
    {
     "name": "stdout",
     "output_type": "stream",
     "text": [
      "Ans-: Decimal objects cannot generally be combined with floats or instances of fractions.\n"
     ]
    }
   ],
   "source": [
    "# 5. In an arithmetic phrase, how simple is it to combine Decimal objects with integers?\n",
    "\n",
    "print('''Ans-: Decimal objects cannot generally be combined with floats or instances of fractions.''')\n",
    "\n"
   ]
  },
  {
   "cell_type": "code",
   "execution_count": 6,
   "id": "a9947504",
   "metadata": {},
   "outputs": [
    {
     "name": "stdout",
     "output_type": "stream",
     "text": [
      "Ans-: Decimal objects cannot generally be combined with floats \n"
     ]
    }
   ],
   "source": [
    "# 6. Can Decimal objects and floating-point values be combined easily?\n",
    "\n",
    "print('Ans-: Decimal objects cannot generally be combined with floats ')\n",
    "\n"
   ]
  },
  {
   "cell_type": "code",
   "execution_count": 7,
   "id": "4f545c39",
   "metadata": {},
   "outputs": [
    {
     "name": "stdout",
     "output_type": "stream",
     "text": [
      "11/35\n",
      "5/9\n",
      "0\n"
     ]
    }
   ],
   "source": [
    "# 7. Using the Fraction class but not the Decimal class, give an example of a quantity that can be expressed with absolute precision.\n",
    "\n",
    "from fractions import Fraction\n",
    "  \n",
    "print (Fraction(11, 35))\n",
    "  \n",
    "print (Fraction(10, 18))\n",
    " \n",
    "print (Fraction())\n",
    "\n",
    "\n"
   ]
  },
  {
   "cell_type": "code",
   "execution_count": 8,
   "id": "290b996f",
   "metadata": {},
   "outputs": [
    {
     "data": {
      "text/plain": [
       "Decimal('0.142857')"
      ]
     },
     "execution_count": 8,
     "metadata": {},
     "output_type": "execute_result"
    }
   ],
   "source": [
    "# 8. Describe a quantity that can be accurately expressed by the Decimal or Fraction classes but not by a floating-point value.\n",
    "\n",
    "from decimal import *\n",
    "getcontext().prec = 6\n",
    "Decimal(1) / Decimal(7)\n",
    "\n"
   ]
  },
  {
   "cell_type": "code",
   "execution_count": 9,
   "id": "8b6424f0",
   "metadata": {},
   "outputs": [
    {
     "data": {
      "text/plain": [
       "Decimal('0.1428571428571428571428571429')"
      ]
     },
     "execution_count": 9,
     "metadata": {},
     "output_type": "execute_result"
    }
   ],
   "source": [
    "getcontext().prec = 28\n",
    "Decimal(1) / Decimal(7)\n",
    "\n"
   ]
  },
  {
   "cell_type": "code",
   "execution_count": 10,
   "id": "9e6f0535",
   "metadata": {},
   "outputs": [
    {
     "name": "stdout",
     "output_type": "stream",
     "text": [
      "1/2\n",
      "1/2\n"
     ]
    }
   ],
   "source": [
    "# 9.Consider the following two fraction objects: Fraction(1, 2) and Fraction (5, 10). Is the internal state of these two objects the same? Why do you think that is?\n",
    "\n",
    "from fractions import Fraction\n",
    "print(Fraction(1,2)) \n",
    "print(Fraction(5,10))\n",
    "\n",
    "\n"
   ]
  },
  {
   "cell_type": "code",
   "execution_count": 11,
   "id": "1bf41bf0",
   "metadata": {},
   "outputs": [],
   "source": [
    "# 10. How do the Fraction class and the integer type (int) relate to each other? Containment or inheritance?\n",
    "\n",
    "class Fraction:\n",
    "\n",
    "    def __init__(self,top,bottom):\n",
    "\n",
    "        self.num = top\n",
    "        self.den = bottom\n",
    "    def show(self):\n",
    "        print(self.num,\"/\",self.den)\n",
    "    def __str__(self):\n",
    "        return str(self.num)+\"/\"+str(self.den)\n",
    "    \n"
   ]
  },
  {
   "cell_type": "code",
   "execution_count": 12,
   "id": "1260ad2e",
   "metadata": {},
   "outputs": [],
   "source": [
    "myf = Fraction(3,5)\n"
   ]
  },
  {
   "cell_type": "code",
   "execution_count": 13,
   "id": "1d9c2c4e",
   "metadata": {},
   "outputs": [
    {
     "name": "stdout",
     "output_type": "stream",
     "text": [
      "3 / 5\n"
     ]
    }
   ],
   "source": [
    "myf.show()"
   ]
  },
  {
   "cell_type": "code",
   "execution_count": 14,
   "id": "f0010806",
   "metadata": {},
   "outputs": [
    {
     "name": "stdout",
     "output_type": "stream",
     "text": [
      "3/5\n"
     ]
    }
   ],
   "source": [
    "print(myf)\n"
   ]
  },
  {
   "cell_type": "code",
   "execution_count": null,
   "id": "50131402",
   "metadata": {},
   "outputs": [],
   "source": []
  }
 ],
 "metadata": {
  "kernelspec": {
   "display_name": "Python 3 (ipykernel)",
   "language": "python",
   "name": "python3"
  },
  "language_info": {
   "codemirror_mode": {
    "name": "ipython",
    "version": 3
   },
   "file_extension": ".py",
   "mimetype": "text/x-python",
   "name": "python",
   "nbconvert_exporter": "python",
   "pygments_lexer": "ipython3",
   "version": "3.10.6"
  }
 },
 "nbformat": 4,
 "nbformat_minor": 5
}
