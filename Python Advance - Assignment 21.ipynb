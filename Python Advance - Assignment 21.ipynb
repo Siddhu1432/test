{
 "cells": [
  {
   "cell_type": "code",
   "execution_count": 1,
   "id": "ac545632",
   "metadata": {},
   "outputs": [
    {
     "name": "stdout",
     "output_type": "stream",
     "text": [
      "Ans-: a list of all of the possible outcomes of a random variable, along\n",
      "      with its corresponding probability values\n"
     ]
    }
   ],
   "source": [
    "# Q1. What is a probability distribution, exactly? If the values are meant to be random, how can you predict them at all?\n",
    "\n",
    "print('''Ans-: a list of all of the possible outcomes of a random variable, along\n",
    "      with its corresponding probability values''')\n",
    "\n"
   ]
  },
  {
   "cell_type": "code",
   "execution_count": 2,
   "id": "bc639cbd",
   "metadata": {},
   "outputs": [
    {
     "name": "stdout",
     "output_type": "stream",
     "text": [
      "Ans-: Software-generated random numbers only are pseudorandom. They are not\n",
      "      truly random because the computer uses an algorithm based on a \n",
      "      distribution, and are not secure because they rely on deterministic,\n",
      "      predictable algorithms. \n"
     ]
    }
   ],
   "source": [
    "# Q2. Is there a distinction between true random numbers and pseudo-random numbers, if there is one? Why are the latter considered “good enough”?\n",
    "\n",
    "print('''Ans-: Software-generated random numbers only are pseudorandom. They are not\n",
    "      truly random because the computer uses an algorithm based on a \n",
    "      distribution, and are not secure because they rely on deterministic,\n",
    "      predictable algorithms. ''')\n",
    "\n"
   ]
  },
  {
   "cell_type": "code",
   "execution_count": 3,
   "id": "f8cecdc5",
   "metadata": {},
   "outputs": [
    {
     "name": "stdout",
     "output_type": "stream",
     "text": [
      "Ans-: “The random variable X follows a normal distribution with a mean of µ and a variance of\n",
      "      σ2.” There are two types of probability distributions: Discrete probability distributions.\n",
      "      Continuous probability distributions\n"
     ]
    }
   ],
   "source": [
    "# Q3. What are the two main factors that influence the behaviour of a \"normal\" probability distribution?\n",
    "\n",
    "print('''Ans-: “The random variable X follows a normal distribution with a mean of µ and a variance of\n",
    "      σ2.” There are two types of probability distributions: Discrete probability distributions.\n",
    "      Continuous probability distributions''')\n",
    "\n"
   ]
  },
  {
   "cell_type": "code",
   "execution_count": 4,
   "id": "47bcd82f",
   "metadata": {},
   "outputs": [
    {
     "name": "stdout",
     "output_type": "stream",
     "text": [
      "Ans-: “Height of people” \n"
     ]
    }
   ],
   "source": [
    "# Q4. Provide a real-life example of a normal distribution.\n",
    "\n",
    "print('Ans-: “Height of people” ')\n",
    "\n"
   ]
  },
  {
   "cell_type": "code",
   "execution_count": 5,
   "id": "91a7ca2c",
   "metadata": {},
   "outputs": [
    {
     "name": "stdout",
     "output_type": "stream",
     "text": [
      "Ans-:  the closer the experimental probability is likely to be to the theoretical probability. \n"
     ]
    }
   ],
   "source": [
    "# Q5. In the short term, how can you expect a probability distribution to behave? What do you think will happen as the number of trials grows?\n",
    "\n",
    "print('Ans-:  the closer the experimental probability is likely to be to the theoretical probability. ')\n",
    "\n"
   ]
  },
  {
   "cell_type": "code",
   "execution_count": 6,
   "id": "157f6ec5",
   "metadata": {},
   "outputs": [
    {
     "name": "stdout",
     "output_type": "stream",
     "text": [
      "Ans-: a list\n"
     ]
    }
   ],
   "source": [
    "# Q6. What kind of object can be shuffled by using random.shuffle?\n",
    "\n",
    "print('Ans-: a list')\n",
    "\n"
   ]
  },
  {
   "cell_type": "code",
   "execution_count": 7,
   "id": "78e5e0ac",
   "metadata": {},
   "outputs": [
    {
     "name": "stdout",
     "output_type": "stream",
     "text": [
      "Ans-: The types of functions can be broadly classified into four types. Based on Element: One \n",
      "      to one Function, many to one function, onto function, one to one and onto function, into \n",
      "      function. Based on Domain: Algebraic Functions, Trigonometry functions, logarithmic\n",
      "      functions.\n"
     ]
    }
   ],
   "source": [
    "# Q7. Describe the math package's general categories of functions.\n",
    "\n",
    "print('''Ans-: The types of functions can be broadly classified into four types. Based on Element: One \n",
    "      to one Function, many to one function, onto function, one to one and onto function, into \n",
    "      function. Based on Domain: Algebraic Functions, Trigonometry functions, logarithmic\n",
    "      functions.''')\n",
    "\n"
   ]
  },
  {
   "cell_type": "code",
   "execution_count": 8,
   "id": "f07b61e4",
   "metadata": {},
   "outputs": [
    {
     "name": "stdout",
     "output_type": "stream",
     "text": [
      "Ans: The logarithmic functions are the inverses of the exponential functions\n"
     ]
    }
   ],
   "source": [
    "# Q8. What is the relationship between exponentiation and logarithms?\n",
    "\n",
    "print('Ans: The logarithmic functions are the inverses of the exponential functions')\n",
    "\n"
   ]
  },
  {
   "cell_type": "code",
   "execution_count": 9,
   "id": "ae2bc866",
   "metadata": {},
   "outputs": [
    {
     "name": "stdout",
     "output_type": "stream",
     "text": [
      "Ans-: common logarithms, where the base is 10, binary logarithms, where the\n",
      "      base is 2, and natural logarithms\n"
     ]
    }
   ],
   "source": [
    "# Q9. What are the three logarithmic functions that Python supports?\n",
    "\n",
    "print('''Ans-: common logarithms, where the base is 10, binary logarithms, where the\n",
    "      base is 2, and natural logarithms''')"
   ]
  },
  {
   "cell_type": "code",
   "execution_count": null,
   "id": "c618f879",
   "metadata": {},
   "outputs": [],
   "source": []
  }
 ],
 "metadata": {
  "kernelspec": {
   "display_name": "Python 3 (ipykernel)",
   "language": "python",
   "name": "python3"
  },
  "language_info": {
   "codemirror_mode": {
    "name": "ipython",
    "version": 3
   },
   "file_extension": ".py",
   "mimetype": "text/x-python",
   "name": "python",
   "nbconvert_exporter": "python",
   "pygments_lexer": "ipython3",
   "version": "3.10.6"
  }
 },
 "nbformat": 4,
 "nbformat_minor": 5
}
