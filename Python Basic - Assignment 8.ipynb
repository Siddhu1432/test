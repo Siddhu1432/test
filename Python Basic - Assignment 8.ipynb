{
 "cells": [
  {
   "cell_type": "code",
   "execution_count": 1,
   "id": "d129034f",
   "metadata": {},
   "outputs": [
    {
     "name": "stdout",
     "output_type": "stream",
     "text": [
      "Ans-: PyInputPlus is not a part of the Python Standard Library,\n",
      "      so you must install it separately using Pip\n"
     ]
    }
   ],
   "source": [
    "# 1. Is the Python Standard Library included with PyInputPlus?\n",
    "\n",
    "print('''Ans-: PyInputPlus is not a part of the Python Standard Library,\n",
    "      so you must install it separately using Pip''')\n"
   ]
  },
  {
   "cell_type": "code",
   "execution_count": 2,
   "id": "b9bbf92a",
   "metadata": {},
   "outputs": [
    {
     "name": "stdout",
     "output_type": "stream",
     "text": [
      "Ans-: The as pyip code in the import statement saves us from typing \n",
      "      pyinputplus each time we want to call a PyInputPlus function. \n",
      "      Instead we can use the shorter pyip name.\n"
     ]
    }
   ],
   "source": [
    "# 2. Why is PyInputPlus commonly imported with import pyinputplus as pypi?\n",
    "\n",
    "print('''Ans-: The as pyip code in the import statement saves us from typing \n",
    "      pyinputplus each time we want to call a PyInputPlus function. \n",
    "      Instead we can use the shorter pyip name.''')\n"
   ]
  },
  {
   "cell_type": "code",
   "execution_count": 3,
   "id": "873d9fb2",
   "metadata": {},
   "outputs": [
    {
     "name": "stdout",
     "output_type": "stream",
     "text": [
      "Ans-: inputInt() : Accepts an integer value, and returns int value\n",
      "\n",
      "      inputFloat() : Accepts integer/floating point value and returns \n",
      "      float value\n"
     ]
    }
   ],
   "source": [
    "# 3. How do you distinguish between inputInt() and inputFloat()?\n",
    "\n",
    "print('''Ans-: inputInt() : Accepts an integer value, and returns int value\n",
    "\n",
    "      inputFloat() : Accepts integer/floating point value and returns \n",
    "      float value''')\n"
   ]
  },
  {
   "cell_type": "code",
   "execution_count": 4,
   "id": "16c58c86",
   "metadata": {},
   "outputs": [
    {
     "name": "stdout",
     "output_type": "stream",
     "text": [
      "Ans-: In the inputint function we can set the min = 0 and max =99 \n",
      "      to ensure user enters number between 0 and 99\n"
     ]
    }
   ],
   "source": [
    "# 4. Using PyInputPlus, how do you ensure that the user enters a whole number between 0 and 99?\n",
    "\n",
    "print('''Ans-: In the inputint function we can set the min = 0 and max =99 \n",
    "      to ensure user enters number between 0 and 99''')"
   ]
  },
  {
   "cell_type": "code",
   "execution_count": 5,
   "id": "6b57c1ab",
   "metadata": {},
   "outputs": [
    {
     "name": "stdout",
     "output_type": "stream",
     "text": [
      "Ans-: We can also use regular expressions to specify whether an input is \n",
      "      allowed or not. The allowRegexes and blockRegexes keyword arguments take \n",
      "      a list of regular expression strings to determine what the PyInputPlus \n",
      "      function will accept or reject as valid input. \n"
     ]
    }
   ],
   "source": [
    "# 5. What is transferred to the keyword arguments allowRegexes and blockRegexes?\n",
    "\n",
    "print('''Ans-: We can also use regular expressions to specify whether an input is \n",
    "      allowed or not. The allowRegexes and blockRegexes keyword arguments take \n",
    "      a list of regular expression strings to determine what the PyInputPlus \n",
    "      function will accept or reject as valid input. ''')"
   ]
  },
  {
   "cell_type": "code",
   "execution_count": 6,
   "id": "a977f09b",
   "metadata": {},
   "outputs": [
    {
     "name": "stdout",
     "output_type": "stream",
     "text": [
      "Ans-: It will throw RetryLimitException exception.\n"
     ]
    }
   ],
   "source": [
    "# 6. If a blank input is entered three times, what does inputStr(limit=3) do?\n",
    "\n",
    "print(\"Ans-: It will throw RetryLimitException exception.\")\n"
   ]
  },
  {
   "cell_type": "code",
   "execution_count": 7,
   "id": "e4fd3fca",
   "metadata": {},
   "outputs": [
    {
     "name": "stdout",
     "output_type": "stream",
     "text": [
      "Ans-: When you use limit keyword arguments and also pass a default keyword \n",
      "      argument, the function returns the default value instead of raising an \n",
      "      exception\n"
     ]
    }
   ],
   "source": [
    "# 7. If blank input is entered three times, what does inputStr(limit=3, default='hello') do?\n",
    "\n",
    "print('''Ans-: When you use limit keyword arguments and also pass a default keyword \n",
    "      argument, the function returns the default value instead of raising an \n",
    "      exception''')"
   ]
  },
  {
   "cell_type": "code",
   "execution_count": null,
   "id": "3bfd4656",
   "metadata": {},
   "outputs": [],
   "source": []
  }
 ],
 "metadata": {
  "kernelspec": {
   "display_name": "Python 3 (ipykernel)",
   "language": "python",
   "name": "python3"
  },
  "language_info": {
   "codemirror_mode": {
    "name": "ipython",
    "version": 3
   },
   "file_extension": ".py",
   "mimetype": "text/x-python",
   "name": "python",
   "nbconvert_exporter": "python",
   "pygments_lexer": "ipython3",
   "version": "3.10.6"
  }
 },
 "nbformat": 4,
 "nbformat_minor": 5
}
