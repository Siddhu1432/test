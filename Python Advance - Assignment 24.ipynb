{
 "cells": [
  {
   "cell_type": "code",
   "execution_count": 1,
   "id": "6af17eab",
   "metadata": {},
   "outputs": [
    {
     "name": "stdout",
     "output_type": "stream",
     "text": [
      "Ans-: The import statement:\n",
      "      To use the functionality present in any module, you have to import it into your current program.\n",
      "      You need to use the import keyword along with the desired module name. When interpreter comes\n",
      "      across an import statement, it imports the module to your current program.\n",
      "      \n",
      "      Relative imports make use of dot notation to specify location. A single dot means that the module\n",
      "      or package referenced is in the same directory as the current location. Two dots mean that it is\n",
      "      in the parent directory of the current location—that is, the directory above.\n",
      "\n",
      "\n"
     ]
    }
   ],
   "source": [
    "# Q1. Is it permissible to use several import statements to import the same module? What would the goal be? Can you think of a situation where it would be beneficial?\n",
    "\n",
    "print('''Ans-: The import statement:\n",
    "      To use the functionality present in any module, you have to import it into your current program.\n",
    "      You need to use the import keyword along with the desired module name. When interpreter comes\n",
    "      across an import statement, it imports the module to your current program.\n",
    "      \n",
    "      Relative imports make use of dot notation to specify location. A single dot means that the module\n",
    "      or package referenced is in the same directory as the current location. Two dots mean that it is\n",
    "      in the parent directory of the current location—that is, the directory above.\n",
    "\n",
    "''')\n",
    "\n",
    "\n",
    "\n",
    "\n"
   ]
  },
  {
   "cell_type": "code",
   "execution_count": 2,
   "id": "90333cf9",
   "metadata": {},
   "outputs": [
    {
     "name": "stdout",
     "output_type": "stream",
     "text": [
      "Ans-: Characteristics of Modules:\n",
      "      Modules contain instructions, processing logic, and data.\n",
      "      Modules can be separately compiled and stored in a library.\n",
      "      Modules can be included in a program.\n",
      "      Module segments can be used by invoking a name and some parameters.\n",
      "      Module segments can be used by other modules.\n"
     ]
    }
   ],
   "source": [
    "# Q2. What are some of a module's characteristics? (Name at least one.)\n",
    "\n",
    "print('''Ans-: Characteristics of Modules:\n",
    "      Modules contain instructions, processing logic, and data.\n",
    "      Modules can be separately compiled and stored in a library.\n",
    "      Modules can be included in a program.\n",
    "      Module segments can be used by invoking a name and some parameters.\n",
    "      Module segments can be used by other modules.''')"
   ]
  },
  {
   "cell_type": "code",
   "execution_count": 3,
   "id": "1442dbda",
   "metadata": {},
   "outputs": [
    {
     "name": "stdout",
     "output_type": "stream",
     "text": [
      "Ans-: Python Circular Imports:\n",
      "      Circular importing is a conceptual error that is formed due to circular dependency created with the import\n",
      "      statement in our Python program.\n",
      "\n",
      "      Python Circular Imports is a type of Circular dependency. It occurs in python when two or more models import\n",
      "      each other and it repeats the importing connection into an infinite circular call.\n",
      "      With Circular Imports, the python script gives an error. To run the python script it has to be removed and it\n",
      "      is very difficult to find and remove the script manually.\n",
      "      Circular imports are created because of the bad coding design and implementation-related logical anomalies.\n",
      "\n"
     ]
    }
   ],
   "source": [
    "# Q3. Circular importing, such as when two modules import each other, can lead to dependencies and bugs that aren't visible. How can you go about creating a program that avoids mutual importing?\n",
    "\n",
    "print('''Ans-: Python Circular Imports:\n",
    "      Circular importing is a conceptual error that is formed due to circular dependency created with the import\n",
    "      statement in our Python program.\n",
    "\n",
    "      Python Circular Imports is a type of Circular dependency. It occurs in python when two or more models import\n",
    "      each other and it repeats the importing connection into an infinite circular call.\n",
    "      With Circular Imports, the python script gives an error. To run the python script it has to be removed and it\n",
    "      is very difficult to find and remove the script manually.\n",
    "      Circular imports are created because of the bad coding design and implementation-related logical anomalies.\n",
    "''')"
   ]
  },
  {
   "cell_type": "code",
   "execution_count": 4,
   "id": "be8dd8e8",
   "metadata": {},
   "outputs": [
    {
     "name": "stdout",
     "output_type": "stream",
     "text": [
      "Ans-:  A list of strings that define what variables have to be imported to another file \n"
     ]
    }
   ],
   "source": [
    "# Q4. Why is  _ _all_ _ in Python?\n",
    "\n",
    "print('Ans-:  A list of strings that define what variables have to be imported to another file ')"
   ]
  },
  {
   "cell_type": "code",
   "execution_count": 5,
   "id": "74903040",
   "metadata": {},
   "outputs": [
    {
     "name": "stdout",
     "output_type": "stream",
     "text": [
      "Ans-: Conclusion. There is a really nice use case for the __name__ variable, whether you want a file that\n",
      "      can be run as the main program or imported by other modules. We can use an if __name__ == \"__main__\" block\n",
      "      to allow or prevent parts of code from being run when the modules are imported. \n"
     ]
    }
   ],
   "source": [
    "# Q5. In what situation is it useful to refer to the _ _name_ _ attribute or the string '_ _main_ _'?\n",
    "\n",
    "print('''Ans-: Conclusion. There is a really nice use case for the __name__ variable, whether you want a file that\n",
    "      can be run as the main program or imported by other modules. We can use an if __name__ == \"__main__\" block\n",
    "      to allow or prevent parts of code from being run when the modules are imported. ''')"
   ]
  },
  {
   "cell_type": "code",
   "execution_count": 6,
   "id": "cc55510e",
   "metadata": {},
   "outputs": [
    {
     "name": "stdout",
     "output_type": "stream",
     "text": [
      "Ans-: In RPN, the numbers and operators are listed one after another, and an operator always acts on the\n",
      "      most recent numbers in the list.\n",
      "      \n",
      "      This advantage of reverse Polish notation is that it removes the need for parentheses that are\n",
      "      required by infix notation, since the stack holds all arguments in a last-in, first out progression.\n"
     ]
    }
   ],
   "source": [
    "# Q6. What are some of the benefits of attaching a program counter to the RPN interpreter application, which interprets an RPN script line by line?\n",
    "\n",
    "print('''Ans-: In RPN, the numbers and operators are listed one after another, and an operator always acts on the\n",
    "      most recent numbers in the list.\n",
    "      \n",
    "      This advantage of reverse Polish notation is that it removes the need for parentheses that are\n",
    "      required by infix notation, since the stack holds all arguments in a last-in, first out progression.''')"
   ]
  },
  {
   "cell_type": "code",
   "execution_count": 7,
   "id": "4d11b6c0",
   "metadata": {},
   "outputs": [
    {
     "name": "stdout",
     "output_type": "stream",
     "text": [
      "Ans-: An assignment statement always has a single variable on the left hand side. The value of the expression (which \n",
      "      can contain math operators and other variables) on the right of the = sign is stored in the variable on the left.\n",
      "      \n",
      "      When expressions are constructed using operands of different but compatible types, type conversions are performed \n",
      "      in order to determine the type of the resulting expression. The D rules for type conversions are the same as the \n",
      "      arithmetic conversion rules for integers in ANSI-C.\n",
      "\n"
     ]
    }
   ],
   "source": [
    "# Q7. What are the minimum expressions or statements (or both) that you'd need to render a basic programming language like RPN primitive but complete— that is, capable of carrying out any computerised task theoretically possible?\n",
    "\n",
    "print('''Ans-: An assignment statement always has a single variable on the left hand side. The value of the expression (which \n",
    "      can contain math operators and other variables) on the right of the = sign is stored in the variable on the left.\n",
    "      \n",
    "      When expressions are constructed using operands of different but compatible types, type conversions are performed \n",
    "      in order to determine the type of the resulting expression. The D rules for type conversions are the same as the \n",
    "      arithmetic conversion rules for integers in ANSI-C.\n",
    "''')"
   ]
  },
  {
   "cell_type": "code",
   "execution_count": null,
   "id": "becf2266",
   "metadata": {},
   "outputs": [],
   "source": []
  }
 ],
 "metadata": {
  "kernelspec": {
   "display_name": "Python 3 (ipykernel)",
   "language": "python",
   "name": "python3"
  },
  "language_info": {
   "codemirror_mode": {
    "name": "ipython",
    "version": 3
   },
   "file_extension": ".py",
   "mimetype": "text/x-python",
   "name": "python",
   "nbconvert_exporter": "python",
   "pygments_lexer": "ipython3",
   "version": "3.10.6"
  }
 },
 "nbformat": 4,
 "nbformat_minor": 5
}
