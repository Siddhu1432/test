{
 "cells": [
  {
   "cell_type": "code",
   "execution_count": 1,
   "id": "216888d2",
   "metadata": {},
   "outputs": [
    {
     "name": "stdout",
     "output_type": "stream",
     "text": [
      "Ans-: Dependency is defined as a relation between two classes, where one class depends on another\n",
      "      class but another class may or not may depend on the first class.So any change in one of the classes\n",
      "      may affect the functionality of the other class, that depends on the first one.\n"
     ]
    }
   ],
   "source": [
    "# Q1. Define the relationship between a class and its instances. Is it a one-to-one or a one-to-many partnership, for example?\n",
    "\n",
    "print('''Ans-: Dependency is defined as a relation between two classes, where one class depends on another\n",
    "      class but another class may or not may depend on the first class.So any change in one of the classes\n",
    "      may affect the functionality of the other class, that depends on the first one.''')"
   ]
  },
  {
   "cell_type": "code",
   "execution_count": 2,
   "id": "0d3ed43f",
   "metadata": {},
   "outputs": [
    {
     "name": "stdout",
     "output_type": "stream",
     "text": [
      "Ans-:Instance variables are owned by instances of the class. This means that for each object\n",
      "      or instance of a class, the instance variables are different. Unlike class variables, instance\n",
      "      variables are defined within methods. \n"
     ]
    }
   ],
   "source": [
    "# Q2. What kind of data is held only in an instance?\n",
    "\n",
    "print('''Ans-:Instance variables are owned by instances of the class. This means that for each object\n",
    "      or instance of a class, the instance variables are different. Unlike class variables, instance\n",
    "      variables are defined within methods. ''')"
   ]
  },
  {
   "cell_type": "code",
   "execution_count": 3,
   "id": "391301f8",
   "metadata": {},
   "outputs": [
    {
     "name": "stdout",
     "output_type": "stream",
     "text": [
      "Ans-: Factual, Conceptual, Procedural and Metacognitive.\n"
     ]
    }
   ],
   "source": [
    "# Q3. What kind of knowledge is stored in a class?\n",
    "\n",
    "print('Ans-: Factual, Conceptual, Procedural and Metacognitive.')"
   ]
  },
  {
   "cell_type": "code",
   "execution_count": 4,
   "id": "55434495",
   "metadata": {},
   "outputs": [
    {
     "name": "stdout",
     "output_type": "stream",
     "text": [
      "Ans-: A function doesn't need any object and is independent, while the\n",
      "      method is a function, which is linked with any object.\n"
     ]
    }
   ],
   "source": [
    "# Q4. What exactly is a method, and how is it different from a regular function?\n",
    "\n",
    "print('''Ans-: A function doesn't need any object and is independent, while the\n",
    "      method is a function, which is linked with any object.''')\n"
   ]
  },
  {
   "cell_type": "code",
   "execution_count": 5,
   "id": "9adfff12",
   "metadata": {},
   "outputs": [
    {
     "name": "stdout",
     "output_type": "stream",
     "text": [
      "Ans-: Python supports all types of inheritance, even multiple inheritance!\n"
     ]
    }
   ],
   "source": [
    "# Q5. Is inheritance supported in Python, and if so, what is the syntax?\n",
    "\n",
    "print('Ans-: Python supports all types of inheritance, even multiple inheritance!')"
   ]
  },
  {
   "cell_type": "code",
   "execution_count": 6,
   "id": "87b66618",
   "metadata": {},
   "outputs": [
    {
     "name": "stdout",
     "output_type": "stream",
     "text": [
      "Ans-: There are three basic techniques to encapsulate data in Object Programming.\n",
      "      Data members, methods, and classes can all be encapsulated.\n"
     ]
    }
   ],
   "source": [
    "# Q6. How much encapsulation (making instance or class variables private) does Python support?\n",
    "\n",
    "print('''Ans-: There are three basic techniques to encapsulate data in Object Programming.\n",
    "      Data members, methods, and classes can all be encapsulated.''')"
   ]
  },
  {
   "cell_type": "code",
   "execution_count": 7,
   "id": "7694973e",
   "metadata": {},
   "outputs": [
    {
     "name": "stdout",
     "output_type": "stream",
     "text": [
      "Ans-: Intance Variable: It is a variable whose value is instance-specific and now \n",
      "      shared among instances.\n",
      "      \n",
      "      Class Variable:It is a variable that defines a specific attribute or property for a class. \n"
     ]
    }
   ],
   "source": [
    "# Q7. How do you distinguish between a class variable and an instance variable?\n",
    "\n",
    "print('''Ans-: Intance Variable: It is a variable whose value is instance-specific and now \n",
    "      shared among instances.\n",
    "      \n",
    "      Class Variable:It is a variable that defines a specific attribute or property for a class. ''')"
   ]
  },
  {
   "cell_type": "code",
   "execution_count": 8,
   "id": "2abb6dd7",
   "metadata": {},
   "outputs": [
    {
     "name": "stdout",
     "output_type": "stream",
     "text": [
      "Ans-: self represents the instance of the class. By using the “self”  we can access\n",
      "      the attributes and methods of the class in python. It binds the attributes with the \n",
      "      given arguments.\n"
     ]
    }
   ],
   "source": [
    "# Q8. When, if ever, can self be included in a class's method definitions?\n",
    "\n",
    "print('''Ans-: self represents the instance of the class. By using the “self”  we can access\n",
    "      the attributes and methods of the class in python. It binds the attributes with the \n",
    "      given arguments.''')"
   ]
  },
  {
   "cell_type": "code",
   "execution_count": 9,
   "id": "369019cc",
   "metadata": {},
   "outputs": [
    {
     "name": "stdout",
     "output_type": "stream",
     "text": [
      "Ans-: The radd() method adds each value in the DataFrame with a specified value.\n",
      "      This method is called reverse add, and is similar to the add() method, but instead of\n",
      "      calculating 100 + 15 it calculates 15 + 100, which in this case will give the same result.\n"
     ]
    }
   ],
   "source": [
    "# Q9. What is the difference between the _ _add_ _ and the _ _radd_ _ methods?\n",
    "\n",
    "print('''Ans-: The radd() method adds each value in the DataFrame with a specified value.\n",
    "      This method is called reverse add, and is similar to the add() method, but instead of\n",
    "      calculating 100 + 15 it calculates 15 + 100, which in this case will give the same result.''')    \n"
   ]
  },
  {
   "cell_type": "code",
   "execution_count": 10,
   "id": "a241a609",
   "metadata": {},
   "outputs": [
    {
     "name": "stdout",
     "output_type": "stream",
     "text": [
      "Ans-: If it is possible to perform an operation without using reflection\n"
     ]
    }
   ],
   "source": [
    "# Q10. When is it necessary to use a reflection method? When do you not need it, even though you support the operation in question?\n",
    "\n",
    "print('Ans-: If it is possible to perform an operation without using reflection')"
   ]
  },
  {
   "cell_type": "code",
   "execution_count": 11,
   "id": "33997ad1",
   "metadata": {},
   "outputs": [
    {
     "name": "stdout",
     "output_type": "stream",
     "text": [
      "Ans-: augmented arithmetic assignment. \n"
     ]
    }
   ],
   "source": [
    "# Q11. What is the _ _iadd_ _ method called?\n",
    "\n",
    "print('Ans-: augmented arithmetic assignment. ') "
   ]
  },
  {
   "cell_type": "code",
   "execution_count": 12,
   "id": "47498fa2",
   "metadata": {},
   "outputs": [
    {
     "name": "stdout",
     "output_type": "stream",
     "text": [
      "Ans-: No, an inherited class is not required to call the __init__() method of the parent class. If no __init__() method is \n",
      "      implemented in the inherited class, then the parent __init__() will be called automatically when an object of the\n",
      "      inherited class is created.\n"
     ]
    }
   ],
   "source": [
    "# Q12. Is the _ _init_ _ method inherited by subclasses? What do you do if you need to customize its behavior within a subclass?\n",
    "\n",
    "print('''Ans-: No, an inherited class is not required to call the __init__() method of the parent class. If no __init__() method is \n",
    "      implemented in the inherited class, then the parent __init__() will be called automatically when an object of the\n",
    "      inherited class is created.''')"
   ]
  },
  {
   "cell_type": "code",
   "execution_count": null,
   "id": "0aaf0c3d",
   "metadata": {},
   "outputs": [],
   "source": []
  }
 ],
 "metadata": {
  "kernelspec": {
   "display_name": "Python 3 (ipykernel)",
   "language": "python",
   "name": "python3"
  },
  "language_info": {
   "codemirror_mode": {
    "name": "ipython",
    "version": 3
   },
   "file_extension": ".py",
   "mimetype": "text/x-python",
   "name": "python",
   "nbconvert_exporter": "python",
   "pygments_lexer": "ipython3",
   "version": "3.10.6"
  }
 },
 "nbformat": 4,
 "nbformat_minor": 5
}
