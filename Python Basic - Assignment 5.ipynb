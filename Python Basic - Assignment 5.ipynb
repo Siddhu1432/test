{
 "cells": [
  {
   "cell_type": "code",
   "execution_count": 1,
   "id": "dc8ad247",
   "metadata": {},
   "outputs": [
    {
     "name": "stdout",
     "output_type": "stream",
     "text": [
      "Ans-: Two curly brackets: {} \n"
     ]
    }
   ],
   "source": [
    "# 1. What does an empty dictionary's code look like?\n",
    "\n",
    "print(\"Ans-: Two curly brackets: {} \")\n"
   ]
  },
  {
   "cell_type": "code",
   "execution_count": 2,
   "id": "4e52fc9d",
   "metadata": {},
   "outputs": [
    {
     "name": "stdout",
     "output_type": "stream",
     "text": [
      "Ans-: {'foo': 42}\n"
     ]
    }
   ],
   "source": [
    "# 2. What is the value of a dictionary value with the key 'foo' and the value 42?\n",
    "\n",
    "print(\"Ans-: {'foo': 42}\")"
   ]
  },
  {
   "cell_type": "code",
   "execution_count": 3,
   "id": "8c99ddbb",
   "metadata": {},
   "outputs": [
    {
     "name": "stdout",
     "output_type": "stream",
     "text": [
      "Ans-: The items stored in a dictionary are unordered, while the items in a \n",
      "      list are ordered.\n"
     ]
    }
   ],
   "source": [
    "# 3. What is the most significant distinction between a dictionary and a list?\n",
    "\n",
    "print('''Ans-: The items stored in a dictionary are unordered, while the items in a \n",
    "      list are ordered.''')"
   ]
  },
  {
   "cell_type": "code",
   "execution_count": 4,
   "id": "cf9064c0",
   "metadata": {},
   "outputs": [
    {
     "name": "stdout",
     "output_type": "stream",
     "text": [
      "Ans-: You get a KeyError error.\n"
     ]
    }
   ],
   "source": [
    "# 4. What happens if you try to access spam['foo'] if spam is {'bar': 100}?\n",
    "\n",
    "print(\"Ans-: You get a KeyError error.\")\n"
   ]
  },
  {
   "cell_type": "code",
   "execution_count": 5,
   "id": "ea5fce5c",
   "metadata": {},
   "outputs": [
    {
     "name": "stdout",
     "output_type": "stream",
     "text": [
      "Ans-: There is no difference. The in operator checks whether a value exists\n",
      "      as a key in the dictionary.\n"
     ]
    }
   ],
   "source": [
    "# 5. If a dictionary is stored in spam, what is the difference between the expressions 'cat' in spam and 'cat' in spam.keys()?\n",
    "\n",
    "print('''Ans-: There is no difference. The in operator checks whether a value exists\n",
    "      as a key in the dictionary.''')"
   ]
  },
  {
   "cell_type": "code",
   "execution_count": 6,
   "id": "11e764bc",
   "metadata": {},
   "outputs": [
    {
     "name": "stdout",
     "output_type": "stream",
     "text": [
      "Ans-: 'cat' in spam checks whether there is a 'cat' key in the dictionary, \n",
      "       while 'cat' in spam.values() checks whether there is a value 'cat'\n",
      "       for one of the keys in spam.\n"
     ]
    }
   ],
   "source": [
    "# 6. If a dictionary is stored in spam, what is the difference between the expressions 'cat' in spam and 'cat' in spam.values()?\n",
    "\n",
    "print('''Ans-: 'cat' in spam checks whether there is a 'cat' key in the dictionary, \n",
    "       while 'cat' in spam.values() checks whether there is a value 'cat'\n",
    "       for one of the keys in spam.''') "
   ]
  },
  {
   "cell_type": "code",
   "execution_count": 7,
   "id": "88441dc0",
   "metadata": {},
   "outputs": [
    {
     "name": "stdout",
     "output_type": "stream",
     "text": [
      "Ans-: spam.setdefault('color', 'black') \n"
     ]
    }
   ],
   "source": [
    "# 7. What is a shortcut for the following code?\n",
    "# if 'color' not in spam:\n",
    "# spam['color'] = 'black' \n",
    "\n",
    "print(\"Ans-: spam.setdefault('color', 'black') \")"
   ]
  },
  {
   "cell_type": "code",
   "execution_count": 8,
   "id": "39e22580",
   "metadata": {},
   "outputs": [
    {
     "name": "stdout",
     "output_type": "stream",
     "text": [
      "Ans-: pprint.pprint() \n"
     ]
    }
   ],
   "source": [
    "# 8. How do you \"pretty print\" dictionary values using which module and function?\n",
    "\n",
    "print(\"Ans-: pprint.pprint() \")"
   ]
  },
  {
   "cell_type": "code",
   "execution_count": null,
   "id": "a1e12d87",
   "metadata": {},
   "outputs": [],
   "source": []
  }
 ],
 "metadata": {
  "kernelspec": {
   "display_name": "Python 3 (ipykernel)",
   "language": "python",
   "name": "python3"
  },
  "language_info": {
   "codemirror_mode": {
    "name": "ipython",
    "version": 3
   },
   "file_extension": ".py",
   "mimetype": "text/x-python",
   "name": "python",
   "nbconvert_exporter": "python",
   "pygments_lexer": "ipython3",
   "version": "3.10.6"
  }
 },
 "nbformat": 4,
 "nbformat_minor": 5
}
