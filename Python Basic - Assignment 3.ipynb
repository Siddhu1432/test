{
 "cells": [
  {
   "cell_type": "code",
   "execution_count": 1,
   "id": "6d39dd62",
   "metadata": {},
   "outputs": [
    {
     "name": "stdout",
     "output_type": "stream",
     "text": [
      " Ans-: Function makes programs shorter, easier to \n",
      "       read and easier to update.\n",
      "       Function reduce the needs for duplicate code.\n"
     ]
    }
   ],
   "source": [
    "# 1. Why are functions advantageous to have in your programs?\n",
    "\n",
    "print(''' Ans-: Function makes programs shorter, easier to \n",
    "       read and easier to update.\n",
    "       Function reduce the needs for duplicate code.''')"
   ]
  },
  {
   "cell_type": "code",
   "execution_count": 2,
   "id": "022e67d7",
   "metadata": {},
   "outputs": [
    {
     "name": "stdout",
     "output_type": "stream",
     "text": [
      "Ans-: The code in a function run when the function is called,\n",
      "      not when the function is defined.\n"
     ]
    }
   ],
   "source": [
    "# 2. When does the code in a function run: when it's specified or when it's called?\n",
    "\n",
    "print('''Ans-: The code in a function run when the function is called,\n",
    "      not when the function is defined.''')\n"
   ]
  },
  {
   "cell_type": "code",
   "execution_count": 3,
   "id": "59e22939",
   "metadata": {},
   "outputs": [
    {
     "name": "stdout",
     "output_type": "stream",
     "text": [
      " Ans-: The 'def' statement creates a function.\n"
     ]
    }
   ],
   "source": [
    "# 3. What statement creates a function?\n",
    "\n",
    "print(\" Ans-: The 'def' statement creates a function.\" )"
   ]
  },
  {
   "cell_type": "code",
   "execution_count": 4,
   "id": "cf8266a0",
   "metadata": {},
   "outputs": [
    {
     "name": "stdout",
     "output_type": "stream",
     "text": [
      " Ans-:  funtion consists of the def statement and the code \n",
      "        in its def clouse.\n",
      "      \n",
      "        A function call is what moves the program execution into the function,\n",
      "        and the function call evaluate to the function's return value.\n"
     ]
    }
   ],
   "source": [
    "# 4. What is the difference between a function and a function call?\n",
    "\n",
    "print(''' Ans-:  funtion consists of the def statement and the code \n",
    "        in its def clouse.\n",
    "      \n",
    "        A function call is what moves the program execution into the function,\n",
    "        and the function call evaluate to the function's return value.''')"
   ]
  },
  {
   "cell_type": "code",
   "execution_count": 5,
   "id": "595d66bb",
   "metadata": {},
   "outputs": [
    {
     "name": "stdout",
     "output_type": "stream",
     "text": [
      " Ans-: There is one global scope and a local scope is created\n",
      "       whenever a function is called.\n"
     ]
    }
   ],
   "source": [
    "# 5. How many global scopes are there in a Python program? How many local scopes?\n",
    "\n",
    "print(''' Ans-: There is one global scope and a local scope is created\n",
    "       whenever a function is called.''')"
   ]
  },
  {
   "cell_type": "code",
   "execution_count": 6,
   "id": "e71b008f",
   "metadata": {},
   "outputs": [
    {
     "name": "stdout",
     "output_type": "stream",
     "text": [
      " Ans-: when a function return, the local scope is destroyed, \n",
      "       and all the variables in it are forgotten.\n"
     ]
    }
   ],
   "source": [
    "# 6. What happens to variables in a local scope when the function call returns?\n",
    "\n",
    "print(''' Ans-: when a function return, the local scope is destroyed, \n",
    "       and all the variables in it are forgotten.''')"
   ]
  },
  {
   "cell_type": "code",
   "execution_count": 7,
   "id": "e6e85d5d",
   "metadata": {},
   "outputs": [
    {
     "name": "stdout",
     "output_type": "stream",
     "text": [
      "Ans-: A return value is the value that a function call evaluates to.\n",
      "      Like any value, a return value can be used as part of an expression.\n"
     ]
    }
   ],
   "source": [
    "# 7. What is the concept of a return value? Is it possible to have a return value in an expression?\n",
    "\n",
    "print('''Ans-: A return value is the value that a function call evaluates to.\n",
    "      Like any value, a return value can be used as part of an expression.''')"
   ]
  },
  {
   "cell_type": "code",
   "execution_count": 8,
   "id": "daaa050e",
   "metadata": {},
   "outputs": [
    {
     "name": "stdout",
     "output_type": "stream",
     "text": [
      "Ans-: If there is no return statement for a function, is return \n",
      "      value is none.\n"
     ]
    }
   ],
   "source": [
    "# 8. If a function does not have a return statement, what is the return value of a call to that function?\n",
    "\n",
    "print('''Ans-: If there is no return statement for a function, is return \n",
    "      value is none.''')"
   ]
  },
  {
   "cell_type": "code",
   "execution_count": 9,
   "id": "2f629299",
   "metadata": {},
   "outputs": [
    {
     "name": "stdout",
     "output_type": "stream",
     "text": [
      "Ans-: A global statement force a variable in a function\n",
      "      to refer to the global variable.\n"
     ]
    }
   ],
   "source": [
    "# 9. How do you make a function variable refer to the global variable?\n",
    "\n",
    "print('''Ans-: A global statement force a variable in a function\n",
    "      to refer to the global variable.''')\n"
   ]
  },
  {
   "cell_type": "code",
   "execution_count": 10,
   "id": "3e23e98d",
   "metadata": {},
   "outputs": [
    {
     "name": "stdout",
     "output_type": "stream",
     "text": [
      "Ans-: The data type of None is Nonetype.\n"
     ]
    }
   ],
   "source": [
    "# 10. What is the data type of None?\n",
    "\n",
    "print('Ans-: The data type of None is Nonetype.')"
   ]
  },
  {
   "cell_type": "code",
   "execution_count": 11,
   "id": "2e7a93ec",
   "metadata": {},
   "outputs": [
    {
     "name": "stdout",
     "output_type": "stream",
     "text": [
      "Ans-: That import statement imports a module named areallyourpetsnamederic.\n"
     ]
    }
   ],
   "source": [
    "# 11. What does the sentence import areallyourpetsnamederic do?\n",
    "\n",
    "print('Ans-: That import statement imports a module named areallyourpetsnamederic.')\n"
   ]
  },
  {
   "cell_type": "code",
   "execution_count": 12,
   "id": "c4ba7c76",
   "metadata": {},
   "outputs": [
    {
     "name": "stdout",
     "output_type": "stream",
     "text": [
      "Ans-: The function can be called with\n",
      "             spam.bacon()\n"
     ]
    }
   ],
   "source": [
    "# 12. If you had a bacon() feature in a spam module, what would you call it after importing spam?\n",
    "\n",
    "print('''Ans-: The function can be called with\n",
    "             spam.bacon()''')\n"
   ]
  },
  {
   "cell_type": "code",
   "execution_count": 13,
   "id": "0347c9e0",
   "metadata": {},
   "outputs": [
    {
     "name": "stdout",
     "output_type": "stream",
     "text": [
      "Ans-: Place the line of code that might cause an error in a \n",
      "      try clause.\n"
     ]
    }
   ],
   "source": [
    "# 13. What can you do to save a programme from crashing if it encounters an error?\n",
    "\n",
    "print('''Ans-: Place the line of code that might cause an error in a \n",
    "      try clause.''')\n"
   ]
  },
  {
   "cell_type": "code",
   "execution_count": 14,
   "id": "55e9414f",
   "metadata": {},
   "outputs": [
    {
     "name": "stdout",
     "output_type": "stream",
     "text": [
      "Ans-: The code that could potentially cause an error goes in \n",
      "      the try clause.\n",
      "       \n",
      "      The code that executes if an error happens goes in the except \n",
      "      clause.\n"
     ]
    }
   ],
   "source": [
    "# 14. What is the purpose of the try clause? What is the purpose of the except clause?\n",
    "\n",
    "print('''Ans-: The code that could potentially cause an error goes in \n",
    "      the try clause.\n",
    "       \n",
    "      The code that executes if an error happens goes in the except \n",
    "      clause.''')"
   ]
  },
  {
   "cell_type": "code",
   "execution_count": null,
   "id": "bd595f25",
   "metadata": {},
   "outputs": [],
   "source": []
  }
 ],
 "metadata": {
  "kernelspec": {
   "display_name": "Python 3 (ipykernel)",
   "language": "python",
   "name": "python3"
  },
  "language_info": {
   "codemirror_mode": {
    "name": "ipython",
    "version": 3
   },
   "file_extension": ".py",
   "mimetype": "text/x-python",
   "name": "python",
   "nbconvert_exporter": "python",
   "pygments_lexer": "ipython3",
   "version": "3.10.6"
  }
 },
 "nbformat": 4,
 "nbformat_minor": 5
}
