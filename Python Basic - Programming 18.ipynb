{
 "cells": [
  {
   "cell_type": "code",
   "execution_count": null,
   "id": "fe911f5c",
   "metadata": {},
   "outputs": [],
   "source": [
    "# Question 1\n",
    "Create a function that takes a list of non-negative integers and strings and return a new list without the strings.\n",
    "Examples\n",
    "filter_list([1, 2, \"a\", \"b\"]) ➞ [1, 2]\n",
    "\n",
    "filter_list([1, \"a\", \"b\", 0, 15]) ➞ [1, 0, 15]\n",
    "\n",
    "filter_list([1, 2, \"aasf\", \"1\", \"123\", 123]) ➞ [1, 2, 123]\n",
    "\n"
   ]
  },
  {
   "cell_type": "code",
   "execution_count": 4,
   "id": "537686d7",
   "metadata": {},
   "outputs": [],
   "source": [
    "def fun(l):\n",
    "    l1 = []\n",
    "    if type(l) == list: \n",
    "        for i in l:\n",
    "            if type(i) == int:\n",
    "                l1.append(i)\n",
    "    return l1"
   ]
  },
  {
   "cell_type": "code",
   "execution_count": 5,
   "id": "f04fb377",
   "metadata": {},
   "outputs": [],
   "source": [
    "l = [1,2,3,'sid','jit']"
   ]
  },
  {
   "cell_type": "code",
   "execution_count": 6,
   "id": "d1662907",
   "metadata": {},
   "outputs": [
    {
     "data": {
      "text/plain": [
       "[1, 2, 3]"
      ]
     },
     "execution_count": 6,
     "metadata": {},
     "output_type": "execute_result"
    }
   ],
   "source": [
    "fun(l)"
   ]
  },
  {
   "cell_type": "code",
   "execution_count": null,
   "id": "939bc058",
   "metadata": {},
   "outputs": [],
   "source": [
    "# Question 2\n",
    "The \"Reverser\" takes a string as input and returns that string in reverse order, with the opposite case.\n",
    "Examples\n",
    "reverse(\"Hello World\") ➞ \"DLROw OLLEh\"\n",
    "\n",
    "reverse(\"ReVeRsE\") ➞ \"eSrEvEr\"\n",
    "\n",
    "reverse(\"Radar\") ➞ \"RADAr\"\n",
    "\n"
   ]
  },
  {
   "cell_type": "code",
   "execution_count": 42,
   "id": "9dc1bc9d",
   "metadata": {},
   "outputs": [],
   "source": [
    "def fun1(a):\n",
    "    if type(a) == str:\n",
    "        b = a.swapcase() \n",
    "    print(b[::-1])"
   ]
  },
  {
   "cell_type": "code",
   "execution_count": 44,
   "id": "d69465a3",
   "metadata": {},
   "outputs": [
    {
     "name": "stdout",
     "output_type": "stream",
     "text": [
      "tAhB uHdDIs\n"
     ]
    }
   ],
   "source": [
    "fun1('SidDhU bHaT')"
   ]
  },
  {
   "cell_type": "code",
   "execution_count": null,
   "id": "f13eb53d",
   "metadata": {},
   "outputs": [],
   "source": [
    "# Question 3\n",
    "You can assign variables from lists like this:\n",
    "lst = [1, 2, 3, 4, 5, 6]\n",
    "first = lst[0]\n",
    "middle = lst[1:-1]\n",
    "last = lst[-1]\n",
    "\n",
    "print(first) ➞ outputs 1\n",
    "print(middle) ➞ outputs [2, 3, 4, 5]\n",
    "print(last) ➞ outputs 6\n",
    "With Python 3, you can assign variables from lists in a much more succinct way. Create variables first, middle and last from the given list using destructuring assignment (check the Resources tab for some examples), where:\n",
    "first  ➞ 1\n",
    "\n",
    "middle ➞ [2, 3, 4, 5]\n",
    "\n",
    "last ➞ 6\n",
    "Your task is to unpack the list write your code here into three variables, being first, middle, and last, with middle being everything in between the first and last element. Then print all three variables.\n",
    "\n",
    "], \"a\") ➞ [\"b\", \"a\", \"a\", \"a\"]\n",
    "\n",
    "\n"
   ]
  },
  {
   "cell_type": "code",
   "execution_count": 45,
   "id": "06c479b9",
   "metadata": {},
   "outputs": [
    {
     "data": {
      "text/plain": [
       "1"
      ]
     },
     "execution_count": 45,
     "metadata": {},
     "output_type": "execute_result"
    }
   ],
   "source": [
    "lst = [1, 2, 3, 4, 5, 6]\n",
    "first ,*middle,last = lst\n",
    "first"
   ]
  },
  {
   "cell_type": "code",
   "execution_count": 46,
   "id": "8ad72386",
   "metadata": {},
   "outputs": [
    {
     "data": {
      "text/plain": [
       "[2, 3, 4, 5]"
      ]
     },
     "execution_count": 46,
     "metadata": {},
     "output_type": "execute_result"
    }
   ],
   "source": [
    "middle"
   ]
  },
  {
   "cell_type": "code",
   "execution_count": 47,
   "id": "71a1e543",
   "metadata": {},
   "outputs": [
    {
     "data": {
      "text/plain": [
       "6"
      ]
     },
     "execution_count": 47,
     "metadata": {},
     "output_type": "execute_result"
    }
   ],
   "source": [
    "last"
   ]
  },
  {
   "cell_type": "code",
   "execution_count": null,
   "id": "7c4a4b7e",
   "metadata": {},
   "outputs": [],
   "source": [
    "# Question 4\n",
    "Write a function that calculates the factorial of a number recursively.\n",
    "Examples\n",
    "factorial(5) ➞ 120\n",
    "\n",
    "factorial(3) ➞ 6\n",
    "\n",
    "factorial(1) ➞ 1\n",
    "\n",
    "factorial(0) ➞ 1\n",
    "\n"
   ]
  },
  {
   "cell_type": "code",
   "execution_count": 20,
   "id": "f0f03d57",
   "metadata": {},
   "outputs": [
    {
     "name": "stdout",
     "output_type": "stream",
     "text": [
      "The factorial of 7 is 5040\n"
     ]
    }
   ],
   "source": [
    "def recur_factorial(n):\n",
    "    if n == 1:\n",
    "        return n\n",
    "    else:\n",
    "        return n*recur_factorial(n-1)\n",
    "\n",
    "num = 7\n",
    "\n",
    "# check if the number is negative\n",
    "if num < 0:\n",
    "    print(\"Sorry, factorial does not exist for negative numbers\")\n",
    "elif num == 0:\n",
    "    print(\"The factorial of 0 is 1\")\n",
    "else:\n",
    "    print(\"The factorial of\", num, \"is\", recur_factorial(num))\n"
   ]
  },
  {
   "cell_type": "code",
   "execution_count": null,
   "id": "60a6cbe8",
   "metadata": {},
   "outputs": [],
   "source": [
    "# Question 5\n",
    "Write a function that moves all elements of one type to the end of the list.\n",
    "Examples\n",
    "move_to_end([1, 3, 2, 4, 4, 1], 1) ➞ [3, 2, 4, 4, 1, 1]\n",
    "# Move all the 1s to the end of the array.\n",
    "\n",
    "move_to_end([7, 8, 9, 1, 2, 3, 4], 9) ➞ [7, 8, 1, 2, 3, 4, 9]\n",
    "\n",
    "move_to_end([\"a\", \"a\", \"a\", \"b\""
   ]
  },
  {
   "cell_type": "code",
   "execution_count": 21,
   "id": "f3b4a800",
   "metadata": {},
   "outputs": [],
   "source": [
    "def move_to_end(array, toMove):\n",
    "     \n",
    "    i = 0\n",
    " \n",
    "    j = len(array) - 1\n",
    "  \n",
    "   \n",
    "    while (i < j):\n",
    "  \n",
    "        while (i < j and array[j] == toMove):\n",
    "  \n",
    "            j-=1\n",
    "  \n",
    "        if (array[i] == toMove):\n",
    "  \n",
    "            array[i], array[j] = array[j] , array[i]\n",
    "  \n",
    "        i += 1\n",
    "  \n",
    "    return array\n"
   ]
  },
  {
   "cell_type": "code",
   "execution_count": 22,
   "id": "163781fb",
   "metadata": {},
   "outputs": [
    {
     "name": "stdout",
     "output_type": "stream",
     "text": [
      "4 3 2 4 1 1 "
     ]
    }
   ],
   "source": [
    "arr = [1, 3, 2, 4, 4, 1]\n",
    "k = 1\n",
    "ans = move_to_end(arr, k)\n",
    "for i in range(len(arr)):\n",
    "    print(ans[i] ,end= \" \")"
   ]
  },
  {
   "cell_type": "code",
   "execution_count": null,
   "id": "f1f297e9",
   "metadata": {},
   "outputs": [],
   "source": []
  }
 ],
 "metadata": {
  "kernelspec": {
   "display_name": "Python 3 (ipykernel)",
   "language": "python",
   "name": "python3"
  },
  "language_info": {
   "codemirror_mode": {
    "name": "ipython",
    "version": 3
   },
   "file_extension": ".py",
   "mimetype": "text/x-python",
   "name": "python",
   "nbconvert_exporter": "python",
   "pygments_lexer": "ipython3",
   "version": "3.10.6"
  }
 },
 "nbformat": 4,
 "nbformat_minor": 5
}
