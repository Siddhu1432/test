{
 "cells": [
  {
   "cell_type": "code",
   "execution_count": 1,
   "id": "6ecdd42c",
   "metadata": {},
   "outputs": [
    {
     "name": "stdout",
     "output_type": "stream",
     "text": [
      "\n",
      "Is 25 is Disarium number? False\n",
      "\n",
      "Is 89 is Disarium number? True\n",
      "\n",
      "Is 75 is Disarium number? False\n",
      "\n",
      "Is 125 is Disarium number? False\n",
      "\n",
      "Is 518 is Disarium number? True\n"
     ]
    }
   ],
   "source": [
    "# Write a Python program to check if the given number is a Disarium Number?\n",
    "\n",
    "def is_disarium(num):\n",
    "    temp = 0\n",
    "    for i in range(len(str(num))):\n",
    "        temp += int(str(num)[i]) ** (i + 1)\n",
    "    return temp == num\n",
    "\n",
    "num = 25\n",
    "print(\"\\nIs\",num,\"is Disarium number?\",is_disarium(num))\n",
    "num = 89\n",
    "print(\"\\nIs\",num,\"is Disarium number?\",is_disarium(num))\n",
    "num = 75\n",
    "print(\"\\nIs\",num,\"is Disarium number?\",is_disarium(num))\n",
    "num = 125\n",
    "print(\"\\nIs\",num,\"is Disarium number?\",is_disarium(num)) \n",
    "num = 518\n",
    "print(\"\\nIs\",num,\"is Disarium number?\",is_disarium(num))\n"
   ]
  },
  {
   "cell_type": "code",
   "execution_count": 2,
   "id": "4154f913",
   "metadata": {},
   "outputs": [
    {
     "name": "stdout",
     "output_type": "stream",
     "text": [
      "The disarium numbers between 1 and 100 are : \n",
      "1\n",
      "2\n",
      "3\n",
      "4\n",
      "5\n",
      "6\n",
      "7\n",
      "8\n",
      "9\n",
      "89\n"
     ]
    }
   ],
   "source": [
    "# 2.Write a Python program to print all disarium numbers between 1 to 100?\n",
    "\n",
    "def length_calculation(my_val):\n",
    "    len_val = 0\n",
    "    while(my_val != 0):\n",
    "        len_val = len_val + 1\n",
    "        my_val = my_val//10\n",
    "    return len_val\n",
    "def digit_sum(my_num):\n",
    "    remaining = sum_val = 0\n",
    "    len_fun = length_calculation(my_num)\n",
    "    while(my_num > 0):\n",
    "        remaining = my_num%10\n",
    "        sum_val = sum_val + (remaining**len_fun)\n",
    "        my_num = my_num//10\n",
    "        len_fun = len_fun - 1\n",
    "    return sum_val\n",
    "ini_result = 0\n",
    "print(\"The disarium numbers between 1 and 100 are : \")\n",
    "for i in range(1, 101):\n",
    "    ini_result = digit_sum(i)\n",
    "    if(ini_result == i):\n",
    "        print(i)\n"
   ]
  },
  {
   "cell_type": "code",
   "execution_count": 3,
   "id": "285c928d",
   "metadata": {},
   "outputs": [
    {
     "name": "stdout",
     "output_type": "stream",
     "text": [
      "True\n",
      "True\n",
      "False\n"
     ]
    }
   ],
   "source": [
    "# 3.Write a Python program to check if the given number is Happy Number?\n",
    "\n",
    "def is_Happy_num(n):\n",
    "    past = set()\n",
    "    while n != 1:\n",
    "        n = sum(int(i)**2 for i in str(n))\n",
    "        if n in past:\n",
    "            return False\n",
    "        past.add(n)\n",
    "    return True\n",
    "print(is_Happy_num(7))\n",
    "print(is_Happy_num(932))\n",
    "print(is_Happy_num(6))"
   ]
  },
  {
   "cell_type": "code",
   "execution_count": 4,
   "id": "b6823654",
   "metadata": {},
   "outputs": [
    {
     "name": "stdout",
     "output_type": "stream",
     "text": [
      "The list of happy numbers between 1 and 100 are : \n",
      "1\n",
      "7\n",
      "10\n",
      "13\n",
      "19\n",
      "23\n",
      "28\n",
      "31\n",
      "32\n",
      "44\n",
      "49\n",
      "68\n",
      "70\n",
      "79\n",
      "82\n",
      "86\n",
      "91\n",
      "94\n",
      "97\n",
      "100\n"
     ]
    }
   ],
   "source": [
    "# 4.Write a Python program to print all happy numbers between 1 and 100?\n",
    "\n",
    "def check_happy_num(my_num):\n",
    "    remaining = sum_val = 0\n",
    "    while(my_num > 0):\n",
    "        remaining = my_num%10\n",
    "        sum_val = sum_val + (remaining*remaining)\n",
    "        my_num = my_num//10\n",
    "    return sum_val\n",
    "print(\"The list of happy numbers between 1 and 100 are : \")\n",
    "for i in range(1, 101):\n",
    "    my_result = i\n",
    "    while(my_result != 1 and my_result != 4):\n",
    "        my_result = check_happy_num(my_result)\n",
    "    if(my_result == 1):\n",
    "        print(i)\n"
   ]
  },
  {
   "cell_type": "code",
   "execution_count": 5,
   "id": "11d937ed",
   "metadata": {},
   "outputs": [
    {
     "name": "stdout",
     "output_type": "stream",
     "text": [
      "Enter the Number to Check Harshad Number = 156\n",
      "The Sum of the Digits = 12\n",
      "\n",
      "156 is a Harshad Number.\n"
     ]
    }
   ],
   "source": [
    "# 5.Write a Python program to determine whether the given number is a Harshad Number?\n",
    "\n",
    "Number = int(input(\"Enter the Number to Check Harshad Number = \"))\n",
    "Sum = 0\n",
    "rem = 0\n",
    "\n",
    "Temp = Number\n",
    "while Temp > 0:\n",
    "    rem = Temp % 10\n",
    "    Sum = Sum + rem\n",
    "    Temp = Temp // 10\n",
    "\n",
    "print(\"The Sum of the Digits = %d\" %Sum)\n",
    "\n",
    "if Number % Sum == 0:\n",
    "    print(\"\\n%d is a Harshad Number.\" %Number)\n",
    "else:\n",
    "    print(\"%d is Not a Harshad Number.\" %Number)\n"
   ]
  },
  {
   "cell_type": "code",
   "execution_count": 6,
   "id": "7ed828d8",
   "metadata": {},
   "outputs": [
    {
     "name": "stdout",
     "output_type": "stream",
     "text": [
      "Enter the Minimum Pronic Number = 1\n",
      "Enter the Maximum Pronic Number = 100\n",
      "\n",
      "The List of Pronic Numbers from 1 and 100\n",
      "2   6   12   20   30   42   56   72   90   "
     ]
    }
   ],
   "source": [
    "# 6.Write a Python program to print all pronic numbers between 1 and 100?\n",
    "\n",
    "def checkPronic(Number):\n",
    "    i = 0\n",
    "    flag = 0\n",
    "    while i <= Number:\n",
    "        if Number == i * (i + 1):\n",
    "            flag = 1\n",
    "            break\n",
    "        i = i + 1\n",
    "    return flag\n",
    "\n",
    "minPro = int(input(\"Enter the Minimum Pronic Number = \"))\n",
    "maxPro = int(input(\"Enter the Maximum Pronic Number = \"))\n",
    "\n",
    "print(\"\\nThe List of Pronic Numbers from {0} and {1}\".format(minPro, maxPro)) \n",
    "for i in range(minPro, maxPro):\n",
    "    if(checkPronic(i) == 1):\n",
    "        print(i, end = '   ')\n"
   ]
  },
  {
   "cell_type": "code",
   "execution_count": null,
   "id": "0989773b",
   "metadata": {},
   "outputs": [],
   "source": []
  }
 ],
 "metadata": {
  "kernelspec": {
   "display_name": "Python 3 (ipykernel)",
   "language": "python",
   "name": "python3"
  },
  "language_info": {
   "codemirror_mode": {
    "name": "ipython",
    "version": 3
   },
   "file_extension": ".py",
   "mimetype": "text/x-python",
   "name": "python",
   "nbconvert_exporter": "python",
   "pygments_lexer": "ipython3",
   "version": "3.10.6"
  }
 },
 "nbformat": 4,
 "nbformat_minor": 5
}
