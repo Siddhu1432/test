{
 "cells": [
  {
   "cell_type": "code",
   "execution_count": 1,
   "id": "d0bd1da5",
   "metadata": {},
   "outputs": [
    {
     "name": "stdout",
     "output_type": "stream",
     "text": [
      "Ans-: a class, but not one you can create objects from directly.\n"
     ]
    }
   ],
   "source": [
    "# 1. What is the concept of an abstract superclass?\n",
    "\n",
    "print('''Ans-: a class, but not one you can create objects from directly.''')\n",
    "\n"
   ]
  },
  {
   "cell_type": "code",
   "execution_count": 2,
   "id": "44a421e5",
   "metadata": {},
   "outputs": [
    {
     "name": "stdout",
     "output_type": "stream",
     "text": [
      "Ans-: “Top-level code” is the first user-specified Python module that starts running. It's\n",
      "      “top-level” because it imports all other modules that the program needs. Sometimes “top-level\n",
      "      code” is called an entry point to the application.\n"
     ]
    }
   ],
   "source": [
    "# 2. What happens when a class statement's top level contains a basic assignment statement?\n",
    "\n",
    "print('''Ans-: “Top-level code” is the first user-specified Python module that starts running. It's\n",
    "      “top-level” because it imports all other modules that the program needs. Sometimes “top-level\n",
    "      code” is called an entry point to the application.''')\n",
    "\n"
   ]
  },
  {
   "cell_type": "code",
   "execution_count": 3,
   "id": "fcaae8e9",
   "metadata": {},
   "outputs": [
    {
     "name": "stdout",
     "output_type": "stream",
     "text": [
      "Ans-: The main reason for always calling base class _init__ is that base class may typically\n",
      "      create member variable and initialize them to defaults. \n"
     ]
    }
   ],
   "source": [
    "# 3. Why does a class need to manually call a superclass's __init__ method?\n",
    "\n",
    "print('''Ans-: The main reason for always calling base class _init__ is that base class may typically\n",
    "      create member variable and initialize them to defaults. ''')"
   ]
  },
  {
   "cell_type": "code",
   "execution_count": 4,
   "id": "f5184f0a",
   "metadata": {},
   "outputs": [
    {
     "name": "stdout",
     "output_type": "stream",
     "text": [
      "Ans-: A more sophisticated way to augment an inherited method involves forwarding. Message forwarding\n",
      "      allows you to augment an inherited method in such a way that it can perform its inherited \n",
      "      action and some new action.\n"
     ]
    }
   ],
   "source": [
    "# 4. How can you augment, instead of completely replacing, an inherited method?\n",
    "\n",
    "print('''Ans-: A more sophisticated way to augment an inherited method involves forwarding. Message forwarding\n",
    "      allows you to augment an inherited method in such a way that it can perform its inherited \n",
    "      action and some new action.''')"
   ]
  },
  {
   "cell_type": "code",
   "execution_count": 5,
   "id": "6c14d21a",
   "metadata": {},
   "outputs": [
    {
     "name": "stdout",
     "output_type": "stream",
     "text": [
      "Ans-: Local variables have Function Scope: They can only be accessed from within the function. Since\n",
      "      local variables are only recognized inside their functions, variables with the same name can be\n",
      "      used in different functions. Local variables are created when a function starts, and deleted\n",
      "      when the function is completed.\n"
     ]
    }
   ],
   "source": [
    "# 5. How is the local scope of a class different from that of a function?\n",
    "\n",
    "print('''Ans-: Local variables have Function Scope: They can only be accessed from within the function. Since\n",
    "      local variables are only recognized inside their functions, variables with the same name can be\n",
    "      used in different functions. Local variables are created when a function starts, and deleted\n",
    "      when the function is completed.''')"
   ]
  },
  {
   "cell_type": "code",
   "execution_count": null,
   "id": "2f3d88da",
   "metadata": {},
   "outputs": [],
   "source": []
  }
 ],
 "metadata": {
  "kernelspec": {
   "display_name": "Python 3 (ipykernel)",
   "language": "python",
   "name": "python3"
  },
  "language_info": {
   "codemirror_mode": {
    "name": "ipython",
    "version": 3
   },
   "file_extension": ".py",
   "mimetype": "text/x-python",
   "name": "python",
   "nbconvert_exporter": "python",
   "pygments_lexer": "ipython3",
   "version": "3.10.6"
  }
 },
 "nbformat": 4,
 "nbformat_minor": 5
}
