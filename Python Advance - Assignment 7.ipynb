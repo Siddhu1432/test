{
 "cells": [
  {
   "cell_type": "code",
   "execution_count": 1,
   "id": "9dcb77c2",
   "metadata": {},
   "outputs": [
    {
     "name": "stdout",
     "output_type": "stream",
     "text": [
      "Ans-:  allows you to define a block of code to be tested for errors while it is being executed.\n"
     ]
    }
   ],
   "source": [
    "# Q1. What is the purpose of the try statement?\n",
    "\n",
    "print('Ans-:  allows you to define a block of code to be tested for errors while it is being executed.')\n",
    "\n"
   ]
  },
  {
   "cell_type": "code",
   "execution_count": 2,
   "id": "b13cdca3",
   "metadata": {},
   "outputs": [
    {
     "name": "stdout",
     "output_type": "stream",
     "text": [
      "Ans-: else and finally\n"
     ]
    }
   ],
   "source": [
    "# Q2. What are the two most popular try statement variations?\n",
    "\n",
    "print('Ans-: else and finally')\n",
    "\n"
   ]
  },
  {
   "cell_type": "code",
   "execution_count": 3,
   "id": "0b56a544",
   "metadata": {},
   "outputs": [
    {
     "name": "stdout",
     "output_type": "stream",
     "text": [
      "Ans-: Stops normal execution of a PL/SQL block or subprogram and transfers control to an exception handler\n"
     ]
    }
   ],
   "source": [
    "# Q3. What is the purpose of the raise statement?\n",
    "\n",
    "print('Ans-: Stops normal execution of a PL/SQL block or subprogram and transfers control to an exception handler')\n",
    "\n",
    " "
   ]
  },
  {
   "cell_type": "code",
   "execution_count": 4,
   "id": "2e36cddc",
   "metadata": {},
   "outputs": [
    {
     "name": "stdout",
     "output_type": "stream",
     "text": [
      "Ans-: lets you test if a condition in your code returns True, if not, the program will raise an AssertionError.\n"
     ]
    }
   ],
   "source": [
    "# Q4. What does the assert statement do, and what other statement is it like?\n",
    "\n",
    "print('Ans-: lets you test if a condition in your code returns True, if not, the program will raise an AssertionError.')\n",
    "\n"
   ]
  },
  {
   "cell_type": "code",
   "execution_count": 5,
   "id": "581870c9",
   "metadata": {},
   "outputs": [
    {
     "name": "stdout",
     "output_type": "stream",
     "text": [
      "Ans-: A replacement for commonly used try/finally error-handling statements.\n"
     ]
    }
   ],
   "source": [
    "# Q5. What is the purpose of the with/as argument, and what other statement is it like?\n",
    "\n",
    "print('Ans-: A replacement for commonly used try/finally error-handling statements.')"
   ]
  },
  {
   "cell_type": "code",
   "execution_count": null,
   "id": "fabea18e",
   "metadata": {},
   "outputs": [],
   "source": []
  }
 ],
 "metadata": {
  "kernelspec": {
   "display_name": "Python 3 (ipykernel)",
   "language": "python",
   "name": "python3"
  },
  "language_info": {
   "codemirror_mode": {
    "name": "ipython",
    "version": 3
   },
   "file_extension": ".py",
   "mimetype": "text/x-python",
   "name": "python",
   "nbconvert_exporter": "python",
   "pygments_lexer": "ipython3",
   "version": "3.10.6"
  }
 },
 "nbformat": 4,
 "nbformat_minor": 5
}
