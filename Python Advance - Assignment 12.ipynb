{
 "cells": [
  {
   "cell_type": "code",
   "execution_count": 1,
   "id": "2e8fa114",
   "metadata": {},
   "outputs": [
    {
     "name": "stdout",
     "output_type": "stream",
     "text": [
      "Ans-: Assigning a new value to an existing variable is perfectly valid. Python does not have constants. \n",
      "      This is independent from data type mutability. You may want to take a look at the id() function. \n"
     ]
    }
   ],
   "source": [
    "# Q1. Does assigning a value to a string's indexed character violate Python's string immutability?\n",
    "\n",
    "print('''Ans-: Assigning a new value to an existing variable is perfectly valid. Python does not have constants. \n",
    "      This is independent from data type mutability. You may want to take a look at the id() function. ''')\n",
    "\n"
   ]
  },
  {
   "cell_type": "code",
   "execution_count": 2,
   "id": "6ff3ee03",
   "metadata": {},
   "outputs": [
    {
     "name": "stdout",
     "output_type": "stream",
     "text": [
      "Ans-: It violates the rules of how ID values and += are supposed to work\n"
     ]
    }
   ],
   "source": [
    "# Q2. Does using the += operator to concatenate strings violate Python's string immutability? Why or why not?\n",
    "\n",
    "print('''Ans-: It violates the rules of how ID values and += are supposed to work''')\n",
    "\n"
   ]
  },
  {
   "cell_type": "code",
   "execution_count": 3,
   "id": "91e7f3a4",
   "metadata": {},
   "outputs": [
    {
     "name": "stdout",
     "output_type": "stream",
     "text": [
      "Ans-: We can access characters in a String in Two ways:\n",
      "      Accessing Characters by Positive Index Number.\n",
      "      Accessing Characters by Negative Index Number.\n"
     ]
    }
   ],
   "source": [
    "# Q3. In Python, how many different ways are there to index a character?\n",
    "\n",
    "print('''Ans-: We can access characters in a String in Two ways:\n",
    "      Accessing Characters by Positive Index Number.\n",
    "      Accessing Characters by Negative Index Number.''')\n",
    "\n"
   ]
  },
  {
   "cell_type": "code",
   "execution_count": 4,
   "id": "7b76fe35",
   "metadata": {},
   "outputs": [
    {
     "name": "stdout",
     "output_type": "stream",
     "text": [
      "Ans-: “Indexing” means referring to an element of an iterable by its position within the iterable.\n",
      "      “Slicing” means getting a subset of elements from an iterable based on their indices. \n"
     ]
    }
   ],
   "source": [
    "# Q4. What is the relationship between indexing and slicing?\n",
    "\n",
    "print('''Ans-: “Indexing” means referring to an element of an iterable by its position within the iterable.\n",
    "      “Slicing” means getting a subset of elements from an iterable based on their indices. ''')\n",
    "\n"
   ]
  },
  {
   "cell_type": "code",
   "execution_count": 5,
   "id": "6961157d",
   "metadata": {},
   "outputs": [
    {
     "name": "stdout",
     "output_type": "stream",
     "text": [
      "Ans-: Python has no special type for a single character.\n",
      "\n",
      "      s[:i] + s[i:] == s for any index 'i' \n"
     ]
    }
   ],
   "source": [
    "# Q5. What is an indexed character's exact data type? What is the data form of a slicing-generated substring?\n",
    "\n",
    "print('''Ans-: Python has no special type for a single character.\n",
    "\n",
    "      s[:i] + s[i:] == s for any index 'i' ''')\n",
    "\n"
   ]
  },
  {
   "cell_type": "code",
   "execution_count": 6,
   "id": "8ea4432b",
   "metadata": {},
   "outputs": [
    {
     "name": "stdout",
     "output_type": "stream",
     "text": [
      "Ans-:  Python does not have a character data type\n"
     ]
    }
   ],
   "source": [
    "# Q6. What is the relationship between string and character \"types\" in Python?\n",
    "\n",
    "print('''Ans-:  Python does not have a character data type''')\n",
    "\n"
   ]
  },
  {
   "cell_type": "code",
   "execution_count": 7,
   "id": "72c177a0",
   "metadata": {},
   "outputs": [
    {
     "name": "stdout",
     "output_type": "stream",
     "text": [
      "Ans-: in-place (+=) operator.\n"
     ]
    }
   ],
   "source": [
    "# Q7. Identify at least two operators and one method that allow you to combine one or more smaller strings to create a larger string.\n",
    "\n",
    "print('Ans-: in-place (+=) operator.')\n",
    "\n"
   ]
  },
  {
   "cell_type": "code",
   "execution_count": 8,
   "id": "be70c826",
   "metadata": {},
   "outputs": [
    {
     "name": "stdout",
     "output_type": "stream",
     "text": [
      "Ans-: Python String find() method returns the lowest index or first occurrence of the substring if it is\n",
      "      found in a given string. If it is not found, then it returns -1.\n"
     ]
    }
   ],
   "source": [
    "# Q8. What is the benefit of first checking the target string with in or not in before using the index method to find a substring?\n",
    "\n",
    "print('''Ans-: Python String find() method returns the lowest index or first occurrence of the substring if it is\n",
    "      found in a given string. If it is not found, then it returns -1.''')\n",
    "\n",
    "\n",
    " "
   ]
  },
  {
   "cell_type": "code",
   "execution_count": 9,
   "id": "c6d4c743",
   "metadata": {},
   "outputs": [
    {
     "name": "stdout",
     "output_type": "stream",
     "text": [
      "Ans-: 'True' , 'False' , 'not' , 'and' , and 'or' \n"
     ]
    }
   ],
   "source": [
    "# Q9. Which operators and built-in string methods produce simple Boolean (true/false) results?\n",
    "\n",
    "print(\"Ans-: 'True' , 'False' , 'not' , 'and' , and 'or' \")"
   ]
  },
  {
   "cell_type": "code",
   "execution_count": null,
   "id": "102ddb2a",
   "metadata": {},
   "outputs": [],
   "source": []
  }
 ],
 "metadata": {
  "kernelspec": {
   "display_name": "Python 3 (ipykernel)",
   "language": "python",
   "name": "python3"
  },
  "language_info": {
   "codemirror_mode": {
    "name": "ipython",
    "version": 3
   },
   "file_extension": ".py",
   "mimetype": "text/x-python",
   "name": "python",
   "nbconvert_exporter": "python",
   "pygments_lexer": "ipython3",
   "version": "3.10.6"
  }
 },
 "nbformat": 4,
 "nbformat_minor": 5
}
