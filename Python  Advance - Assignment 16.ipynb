{
 "cells": [
  {
   "cell_type": "code",
   "execution_count": 1,
   "id": "e48d5bfa",
   "metadata": {},
   "outputs": [
    {
     "name": "stdout",
     "output_type": "stream",
     "text": [
      "Ans-: useful in search and replace operations\n"
     ]
    }
   ],
   "source": [
    "# Q1. What is the benefit of regular expressions?\n",
    "\n",
    "print('Ans-: useful in search and replace operations')\n",
    "\n",
    "\n",
    "\n"
   ]
  },
  {
   "cell_type": "code",
   "execution_count": 2,
   "id": "5f774fcc",
   "metadata": {},
   "outputs": [
    {
     "name": "stdout",
     "output_type": "stream",
     "text": [
      "Ans-: (ab)c+ = ac*bc+\n",
      "      a(bc)+ = ab*ac+ \n"
     ]
    }
   ],
   "source": [
    "# Q2. Describe the difference between the effects of \"(ab)c+\" and \"a(bc)+.\" Which of these, if any, is the unqualified pattern \"abc+\"?\n",
    "\n",
    "print('''Ans-: (ab)c+ = ac*bc+\n",
    "      a(bc)+ = ab*ac+ ''')\n",
    "\n"
   ]
  },
  {
   "cell_type": "code",
   "execution_count": 3,
   "id": "371e9e2f",
   "metadata": {},
   "outputs": [
    {
     "name": "stdout",
     "output_type": "stream",
     "text": [
      "Ans -: 're' module supports the use of regex in Python. Its primary function is to offer a search,\n",
      "      where it takes a regular expression and a string. Here, it either returns the first match or\n",
      "      else none.\n"
     ]
    }
   ],
   "source": [
    "# Q3. How much do you need to use the following sentence while using regular expressions?\n",
    "# import re\n",
    "\n",
    "print('''Ans -: 're' module supports the use of regex in Python. Its primary function is to offer a search,\n",
    "      where it takes a regular expression and a string. Here, it either returns the first match or\n",
    "      else none.''')\n",
    "\n",
    "\n",
    "\n"
   ]
  },
  {
   "cell_type": "code",
   "execution_count": 4,
   "id": "f6f405e7",
   "metadata": {},
   "outputs": [
    {
     "name": "stdout",
     "output_type": "stream",
     "text": [
      "Ans-: Use square backets and separate the starting character from the ending character with a hyphen.\n",
      "      For example, [0-9] \n"
     ]
    }
   ],
   "source": [
    "# Q4. Which characters have special significance in square brackets when expressing a range, and under what circumstances?\n",
    "\n",
    "print('''Ans-: Use square backets and separate the starting character from the ending character with a hyphen.\n",
    "      For example, [0-9] ''')\n",
    "\n"
   ]
  },
  {
   "cell_type": "code",
   "execution_count": 5,
   "id": "65776e02",
   "metadata": {},
   "outputs": [
    {
     "name": "stdout",
     "output_type": "stream",
     "text": [
      "Ans-: helps to search a pattern again without rewriting it. \n"
     ]
    }
   ],
   "source": [
    "# Q5. How does compiling a regular-expression object benefit you?\n",
    "\n",
    "print('Ans-: helps to search a pattern again without rewriting it. ')\n",
    "\n"
   ]
  },
  {
   "cell_type": "code",
   "execution_count": 6,
   "id": "caa3b94f",
   "metadata": {},
   "outputs": [
    {
     "name": "stdout",
     "output_type": "stream",
     "text": [
      "Ans-: re.match() function of re in Python will search the regular expression pattern and return the first\n",
      "      occurrence.\n",
      "      \n",
      "      re.search() function will search the regular expression pattern and return the first occurrence.\n"
     ]
    }
   ],
   "source": [
    "# Q6. What are some examples of how to use the match object returned by re.match and re.search?\n",
    "\n",
    "print('''Ans-: re.match() function of re in Python will search the regular expression pattern and return the first\n",
    "      occurrence.\n",
    "      \n",
    "      re.search() function will search the regular expression pattern and return the first occurrence.''')\n",
    "\n"
   ]
  },
  {
   "cell_type": "code",
   "execution_count": 7,
   "id": "b9de42e6",
   "metadata": {},
   "outputs": [
    {
     "name": "stdout",
     "output_type": "stream",
     "text": [
      "Ans-: The vertical bar is a regex \"or\" means \"a or b\".\n",
      "      \n",
      "      The square brackets are used to defines a set of characters we wish to match. \n"
     ]
    }
   ],
   "source": [
    "# Q7. What is the difference between using a vertical bar (|) as an alteration and using square brackets as a character set?\n",
    "\n",
    "print('''Ans-: The vertical bar is a regex \"or\" means \"a or b\".\n",
    "      \n",
    "      The square brackets are used to defines a set of characters we wish to match. ''')\n",
    "\n"
   ]
  },
  {
   "cell_type": "code",
   "execution_count": 8,
   "id": "f2f1046b",
   "metadata": {},
   "outputs": [
    {
     "name": "stdout",
     "output_type": "stream",
     "text": [
      "Ans-: Backslashes are not treated differently in a string literal prefixed with \"r\". \n"
     ]
    }
   ],
   "source": [
    "# Q8. In regular-expression search patterns, why is it necessary to use the raw-string indicator (r)? In   replacement strings?\n",
    "\n",
    "print('''Ans-: Backslashes are not treated differently in a string literal prefixed with \"r\". ''')"
   ]
  },
  {
   "cell_type": "code",
   "execution_count": null,
   "id": "9946bd8b",
   "metadata": {},
   "outputs": [],
   "source": []
  }
 ],
 "metadata": {
  "kernelspec": {
   "display_name": "Python 3 (ipykernel)",
   "language": "python",
   "name": "python3"
  },
  "language_info": {
   "codemirror_mode": {
    "name": "ipython",
    "version": 3
   },
   "file_extension": ".py",
   "mimetype": "text/x-python",
   "name": "python",
   "nbconvert_exporter": "python",
   "pygments_lexer": "ipython3",
   "version": "3.10.6"
  }
 },
 "nbformat": 4,
 "nbformat_minor": 5
}
