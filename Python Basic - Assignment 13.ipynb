{
 "cells": [
  {
   "cell_type": "code",
   "execution_count": 1,
   "id": "ccca3160",
   "metadata": {},
   "outputs": [
    {
     "name": "stdout",
     "output_type": "stream",
     "text": [
      "Ans-: In Excel, spreadsheets can have values of data types other than strings;\n",
      "      cells can have different fonts, sizes, or color settings; cells can have\n",
      "      varying widths and heights; adjacent cells can be merged; and you can\n",
      "      embed images and charts.\n"
     ]
    }
   ],
   "source": [
    "# 1. What advantages do Excel spreadsheets have over CSV spreadsheets?\n",
    "\n",
    "print('''Ans-: In Excel, spreadsheets can have values of data types other than strings;\n",
    "      cells can have different fonts, sizes, or color settings; cells can have\n",
    "      varying widths and heights; adjacent cells can be merged; and you can\n",
    "      embed images and charts.''')"
   ]
  },
  {
   "cell_type": "code",
   "execution_count": 2,
   "id": "6f235227",
   "metadata": {},
   "outputs": [
    {
     "name": "stdout",
     "output_type": "stream",
     "text": [
      "Ans-: You pass a File object, obtained from a call to open().\n"
     ]
    }
   ],
   "source": [
    "# 2.What do you pass to csv.reader() and csv.writer() to create reader and writer objects?\n",
    "\n",
    "print('Ans-: You pass a File object, obtained from a call to open().')"
   ]
  },
  {
   "cell_type": "code",
   "execution_count": 3,
   "id": "26ccfa20",
   "metadata": {},
   "outputs": [
    {
     "name": "stdout",
     "output_type": "stream",
     "text": [
      "Ans-: File objects need to be opened in read-binary ('rb') for Reader\n",
      "      objects and write-binary ('wb') for Writer objects.\n"
     ]
    }
   ],
   "source": [
    "# 3. What modes do File objects for reader and writer objects need to be opened in?\n",
    "\n",
    "print('''Ans-: File objects need to be opened in read-binary ('rb') for Reader\n",
    "      objects and write-binary ('wb') for Writer objects.''')"
   ]
  },
  {
   "cell_type": "code",
   "execution_count": 4,
   "id": "a3da833c",
   "metadata": {},
   "outputs": [
    {
     "name": "stdout",
     "output_type": "stream",
     "text": [
      "Ans-: The writerow() method\n"
     ]
    }
   ],
   "source": [
    "# 4. What method takes a list argument and writes it to a CSV file?\n",
    "\n",
    "print('Ans-: The writerow() method')"
   ]
  },
  {
   "cell_type": "code",
   "execution_count": 5,
   "id": "802c0029",
   "metadata": {},
   "outputs": [
    {
     "name": "stdout",
     "output_type": "stream",
     "text": [
      "Ans-: The delimiter argument changes the string used to separate cells in a\n",
      "      row. The lineterminator argument changes the string used to separate\n",
      "      rows.\n"
     ]
    }
   ],
   "source": [
    "# 5. What do the keyword arguments delimiter and line terminator do?\n",
    "\n",
    "print('''Ans-: The delimiter argument changes the string used to separate cells in a\n",
    "      row. The lineterminator argument changes the string used to separate\n",
    "      rows.''')"
   ]
  },
  {
   "cell_type": "code",
   "execution_count": 6,
   "id": "5f23b777",
   "metadata": {},
   "outputs": [
    {
     "name": "stdout",
     "output_type": "stream",
     "text": [
      "Ans-: json.loads()\n"
     ]
    }
   ],
   "source": [
    "# 6. What function takes a string of JSON data and returns a Python data structure?\n",
    "\n",
    "print('Ans-: json.loads()')"
   ]
  },
  {
   "cell_type": "code",
   "execution_count": 7,
   "id": "62de9299",
   "metadata": {},
   "outputs": [
    {
     "name": "stdout",
     "output_type": "stream",
     "text": [
      "Ans-: json.dumps()\n"
     ]
    }
   ],
   "source": [
    "# 7. What function takes a Python data structure and returns a string of JSON data?\n",
    "\n",
    "print('Ans-: json.dumps()')"
   ]
  },
  {
   "cell_type": "code",
   "execution_count": null,
   "id": "0e3c084e",
   "metadata": {},
   "outputs": [],
   "source": []
  }
 ],
 "metadata": {
  "kernelspec": {
   "display_name": "Python 3 (ipykernel)",
   "language": "python",
   "name": "python3"
  },
  "language_info": {
   "codemirror_mode": {
    "name": "ipython",
    "version": 3
   },
   "file_extension": ".py",
   "mimetype": "text/x-python",
   "name": "python",
   "nbconvert_exporter": "python",
   "pygments_lexer": "ipython3",
   "version": "3.10.6"
  }
 },
 "nbformat": 4,
 "nbformat_minor": 5
}
