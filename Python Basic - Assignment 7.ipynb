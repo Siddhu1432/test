{
 "cells": [
  {
   "cell_type": "code",
   "execution_count": 1,
   "id": "bb105360",
   "metadata": {},
   "outputs": [
    {
     "name": "stdout",
     "output_type": "stream",
     "text": [
      "Ans-: The re.compile() function returns Regex objects.\n"
     ]
    }
   ],
   "source": [
    "# 1. What is the name of the feature responsible for generating Regex objects?\n",
    "\n",
    "print(\"Ans-: The re.compile() function returns Regex objects.\")"
   ]
  },
  {
   "cell_type": "code",
   "execution_count": 2,
   "id": "d8c96589",
   "metadata": {},
   "outputs": [
    {
     "name": "stdout",
     "output_type": "stream",
     "text": [
      "Ans-: Raw strings are used so that backslashes do not have to be escaped.\n"
     ]
    }
   ],
   "source": [
    "# 2. Why do raw strings often appear in Regex objects?\n",
    "\n",
    "print(\"Ans-: Raw strings are used so that backslashes do not have to be escaped.\")"
   ]
  },
  {
   "cell_type": "code",
   "execution_count": 3,
   "id": "efa0a671",
   "metadata": {},
   "outputs": [
    {
     "name": "stdout",
     "output_type": "stream",
     "text": [
      "Ans-: The search() method returns Match objects.\n"
     ]
    }
   ],
   "source": [
    "# 3. What is the return value of the search() method?\n",
    "\n",
    "print(\"Ans-: The search() method returns Match objects.\")"
   ]
  },
  {
   "cell_type": "code",
   "execution_count": 4,
   "id": "74c4bc45",
   "metadata": {},
   "outputs": [
    {
     "name": "stdout",
     "output_type": "stream",
     "text": [
      "Ans-: The group() method returns strings of the matched text.\n"
     ]
    }
   ],
   "source": [
    "# 4. From a Match item, how do you get the actual strings that match the pattern?\n",
    "\n",
    "print(\"Ans-: The group() method returns strings of the matched text.\")"
   ]
  },
  {
   "cell_type": "code",
   "execution_count": 5,
   "id": "4eedfc60",
   "metadata": {},
   "outputs": [
    {
     "name": "stdout",
     "output_type": "stream",
     "text": [
      "Ans-: Group 0 is the entire match, group 1 covers the first set of \n",
      "      parentheses, and group 2 covers the second set of parentheses.\n"
     ]
    }
   ],
   "source": [
    "# 5. In the regex which created from the r'(\\d\\d\\d)-(\\d\\d\\d-\\d\\d\\d\\d)', what does group zero cover? Group 2? Group 1?\n",
    "\n",
    "print('''Ans-: Group 0 is the entire match, group 1 covers the first set of \n",
    "      parentheses, and group 2 covers the second set of parentheses.''')"
   ]
  },
  {
   "cell_type": "code",
   "execution_count": 6,
   "id": "6cf7cc00",
   "metadata": {},
   "outputs": [
    {
     "name": "stdout",
     "output_type": "stream",
     "text": [
      "Ans-: Periods and parentheses can be escaped with a backslash: \\., \\(, \n",
      "      and \\).\n"
     ]
    }
   ],
   "source": [
    "# 6. In standard expression syntax, parentheses and intervals have distinct meanings. How can you tell a regex that you want it to fit real parentheses and periods?\n",
    "\n",
    "print('''Ans-: Periods and parentheses can be escaped with a backslash: \\., \\(, \n",
    "      and \\).''')"
   ]
  },
  {
   "cell_type": "code",
   "execution_count": 7,
   "id": "353dfba7",
   "metadata": {},
   "outputs": [
    {
     "name": "stdout",
     "output_type": "stream",
     "text": [
      "Ans-: If the regex has no groups, a list of strings is returned.\n",
      "      If the regex has groups, a list of tuples of strings is returned.\n"
     ]
    }
   ],
   "source": [
    "# 7. The findall() method returns a string list or a list of string tuples. What causes it to return one of the two options?\n",
    "\n",
    "print('''Ans-: If the regex has no groups, a list of strings is returned.\n",
    "      If the regex has groups, a list of tuples of strings is returned.''')"
   ]
  },
  {
   "cell_type": "code",
   "execution_count": 8,
   "id": "7285cda6",
   "metadata": {},
   "outputs": [
    {
     "name": "stdout",
     "output_type": "stream",
     "text": [
      "Ans-: The | character signifies matching 'either, or' between two groups.\n"
     ]
    }
   ],
   "source": [
    "# 8. In standard expressions, what does the | character mean?\n",
    "\n",
    "print(\"Ans-: The | character signifies matching 'either, or' between two groups.\")\n"
   ]
  },
  {
   "cell_type": "code",
   "execution_count": 9,
   "id": "de57f7f6",
   "metadata": {},
   "outputs": [
    {
     "name": "stdout",
     "output_type": "stream",
     "text": [
      "Ans-: The ? character can either mean \"match zero or one of the preceding \n",
      "      group\" or be used to signify nongreedy matching.\n"
     ]
    }
   ],
   "source": [
    "# 9. In regular expressions, what does the character stand for?\n",
    "\n",
    "print('''Ans-: The ? character can either mean \"match zero or one of the preceding \n",
    "      group\" or be used to signify nongreedy matching.''')\n"
   ]
  },
  {
   "cell_type": "code",
   "execution_count": 10,
   "id": "4e41315b",
   "metadata": {},
   "outputs": [
    {
     "name": "stdout",
     "output_type": "stream",
     "text": [
      "Ans-: The + matches one or more. The * matches zero or more.\n"
     ]
    }
   ],
   "source": [
    "# 10.In regular expressions, what is the difference between the + and * characters?\n",
    "\n",
    "print(\"Ans-: The + matches one or more. The * matches zero or more.\")"
   ]
  },
  {
   "cell_type": "code",
   "execution_count": 11,
   "id": "9f0af132",
   "metadata": {},
   "outputs": [
    {
     "name": "stdout",
     "output_type": "stream",
     "text": [
      "Ans-: The {4} matches exactly three instances of the preceding group. The {4,5} \n",
      "      matches between three and five instances.\n"
     ]
    }
   ],
   "source": [
    "# 11. What is the difference between {4} and {4,5} in regular expression?\n",
    "\n",
    "print('''Ans-: The {4} matches exactly three instances of the preceding group. The {4,5} \n",
    "      matches between three and five instances.''')"
   ]
  },
  {
   "cell_type": "code",
   "execution_count": 12,
   "id": "d3ab912a",
   "metadata": {},
   "outputs": [
    {
     "name": "stdout",
     "output_type": "stream",
     "text": [
      "Ans-: The \\d, \\w, and \\s shorthand character classes match a single digit,\n",
      "      word, or space character, respectively.\n"
     ]
    }
   ],
   "source": [
    "# 12. What do you mean by the \\d, \\w, and \\s shorthand character classes signify in regular expressions?\n",
    "\n",
    "print('''Ans-: The \\d, \\w, and \\s shorthand character classes match a single digit,\n",
    "      word, or space character, respectively.''')"
   ]
  },
  {
   "cell_type": "code",
   "execution_count": 13,
   "id": "1d1ffe2f",
   "metadata": {},
   "outputs": [
    {
     "name": "stdout",
     "output_type": "stream",
     "text": [
      "Ans-: The \\D, \\W, and \\S shorthand character classes match a single character\n",
      "      that is not a digit, word, or space character, respectively.\n"
     ]
    }
   ],
   "source": [
    "# 13. What do means by \\D, \\W, and \\S shorthand character classes signify in regular expressions?\n",
    "\n",
    "print('''Ans-: The \\D, \\W, and \\S shorthand character classes match a single character\n",
    "      that is not a digit, word, or space character, respectively.''')"
   ]
  },
  {
   "cell_type": "code",
   "execution_count": 14,
   "id": "e86e61e7",
   "metadata": {},
   "outputs": [
    {
     "name": "stdout",
     "output_type": "stream",
     "text": [
      "Ans-: The . performs a greedy match, and the .? performs a nongreedy match.\n"
     ]
    }
   ],
   "source": [
    "#14. What is the difference between .*? and .*?\n",
    "\n",
    "print(\"Ans-: The . performs a greedy match, and the .? performs a nongreedy match.\")"
   ]
  },
  {
   "cell_type": "code",
   "execution_count": 15,
   "id": "c7752d1b",
   "metadata": {},
   "outputs": [
    {
     "name": "stdout",
     "output_type": "stream",
     "text": [
      "Ans-: Either [0-9a-z] or [a-z0-9] \n"
     ]
    }
   ],
   "source": [
    "# 15. What is the syntax for matching both numbers and lowercase letters with a character class?\n",
    "\n",
    "print(\"Ans-: Either [0-9a-z] or [a-z0-9] \")"
   ]
  },
  {
   "cell_type": "code",
   "execution_count": 16,
   "id": "5e8ef4dd",
   "metadata": {},
   "outputs": [
    {
     "name": "stdout",
     "output_type": "stream",
     "text": [
      "Ans-: Passing re.I or re.IGNORECASE as the second argument to re.compile() \n",
      "      will make the matching case insensitive.\n"
     ]
    }
   ],
   "source": [
    "# 16. What is the procedure for making a normal expression in regax case insensitive?\n",
    "\n",
    "print('''Ans-: Passing re.I or re.IGNORECASE as the second argument to re.compile() \n",
    "      will make the matching case insensitive.''')"
   ]
  },
  {
   "cell_type": "code",
   "execution_count": 17,
   "id": "d2c29934",
   "metadata": {},
   "outputs": [
    {
     "name": "stdout",
     "output_type": "stream",
     "text": [
      "Ans-: The . character normally matches any character except the newline \n",
      "      character. If re.DOTALL is passed as the second argument to re.compile(), \n",
      "      then the dot will also match newline characters.\n"
     ]
    }
   ],
   "source": [
    "# 17. What does the . character normally match? What does it match if re.DOTALL is passed as 2nd argument in re.compile()?\n",
    "\n",
    "print('''Ans-: The . character normally matches any character except the newline \n",
    "      character. If re.DOTALL is passed as the second argument to re.compile(), \n",
    "      then the dot will also match newline characters.''')"
   ]
  },
  {
   "cell_type": "code",
   "execution_count": 18,
   "id": "bbb9661d",
   "metadata": {},
   "outputs": [
    {
     "name": "stdout",
     "output_type": "stream",
     "text": [
      "Ans-: 'X drummers, X pipers, five rings, X hens' \n"
     ]
    }
   ],
   "source": [
    "# 18. If numReg = re.compile(r'\\d+'), what will numRegex.sub('X', '11 drummers, 10 pipers, five rings, 4 hen') return?\n",
    "\n",
    "print(\"Ans-: 'X drummers, X pipers, five rings, X hens' \")"
   ]
  },
  {
   "cell_type": "code",
   "execution_count": 19,
   "id": "71fce8d9",
   "metadata": {},
   "outputs": [
    {
     "name": "stdout",
     "output_type": "stream",
     "text": [
      "Ans-: The re.VERBOSE argument allows you to add whitespace and comments to the\n",
      "      string passed to re.compile(). \n"
     ]
    }
   ],
   "source": [
    "# 19. What does passing re.VERBOSE as the 2nd argument to re.compile() allow to do?\n",
    "\n",
    "print('''Ans-: The re.VERBOSE argument allows you to add whitespace and comments to the\n",
    "      string passed to re.compile(). ''')"
   ]
  },
  {
   "cell_type": "code",
   "execution_count": 20,
   "id": "168f227e",
   "metadata": {},
   "outputs": [
    {
     "name": "stdout",
     "output_type": "stream",
     "text": [
      "Ans-: re.compile(r'^\\d{1,3}(,\\d{3})*$') will create this regex, but other regex\n",
      "      strings can produce a similar regular expression.\n"
     ]
    }
   ],
   "source": [
    "# 20. How would you write a regex that match a number with comma for every three digits? It must match the given following:\n",
    "\n",
    "# '42'\n",
    "# '1,234'\n",
    "# '6,368,745'\n",
    "# but not the following:\n",
    "# '12,34,567' (which has only two digits between the commas)\n",
    "# '1234' (which lacks commas)\n",
    "\n",
    "\n",
    "print('''Ans-: re.compile(r'^\\d{1,3}(,\\d{3})*$') will create this regex, but other regex\n",
    "      strings can produce a similar regular expression.''')"
   ]
  },
  {
   "cell_type": "code",
   "execution_count": 21,
   "id": "f6c16799",
   "metadata": {},
   "outputs": [
    {
     "name": "stdout",
     "output_type": "stream",
     "text": [
      "Ans-: re.compile(r'[A-Z][a-z]*\\sNakamoto') \n"
     ]
    }
   ],
   "source": [
    "# 21. How would you write a regex that matches the full name of someone whose last name is Watanabe? You can assume that the first name that comes before it will always be one word that begins with a capital letter. The regex must match the following:\n",
    "\n",
    "# 'Haruto Watanabe'\n",
    "# 'Alice Watanabe'\n",
    "# 'RoboCop Watanabe'\n",
    "# but not the following:\n",
    "# 'haruto Watanabe' (where the first name is not capitalized)\n",
    "# 'Mr. Watanabe' (where the preceding word has a nonletter character)\n",
    "# 'Watanabe' (which has no first name)\n",
    "# 'Haruto watanabe' (where Watanabe is not capitalized)\n",
    "\n",
    "print(\"Ans-: re.compile(r'[A-Z][a-z]*\\sNakamoto') \")\n"
   ]
  },
  {
   "cell_type": "code",
   "execution_count": 22,
   "id": "fe6c5159",
   "metadata": {},
   "outputs": [
    {
     "name": "stdout",
     "output_type": "stream",
     "text": [
      "Ans-: re.compile(r'[A-Z][a-z]*\\sNakamoto')\n"
     ]
    }
   ],
   "source": [
    "# 22. How would you write a regex that matches a sentence where the first word is either Alice, Bob, or Carol; the second word is either eats, pets, or throws; the third word is apples, cats, or baseballs; and the sentence ends with a period? This regex should be case-insensitive. It must match the following:\n",
    "\n",
    "# 'Alice eats apples.'\n",
    "# 'Bob pets cats.'\n",
    "# 'Carol throws baseballs.'\n",
    "# 'Alice throws Apples.'\n",
    "# 'BOB EATS CATS.'\n",
    "# but not the following:\n",
    "# 'RoboCop eats apples.'\n",
    "# 'ALICE THROWS FOOTBALLS.'\n",
    "# 'Carol eats 7 cats.'\n",
    "\n",
    "print(\"Ans-: re.compile(r'[A-Z][a-z]*\\sNakamoto')\")"
   ]
  },
  {
   "cell_type": "code",
   "execution_count": null,
   "id": "0e224e9f",
   "metadata": {},
   "outputs": [],
   "source": []
  }
 ],
 "metadata": {
  "kernelspec": {
   "display_name": "Python 3 (ipykernel)",
   "language": "python",
   "name": "python3"
  },
  "language_info": {
   "codemirror_mode": {
    "name": "ipython",
    "version": 3
   },
   "file_extension": ".py",
   "mimetype": "text/x-python",
   "name": "python",
   "nbconvert_exporter": "python",
   "pygments_lexer": "ipython3",
   "version": "3.10.6"
  }
 },
 "nbformat": 4,
 "nbformat_minor": 5
}
