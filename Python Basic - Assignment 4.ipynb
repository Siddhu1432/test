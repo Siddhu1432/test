{
 "cells": [
  {
   "cell_type": "code",
   "execution_count": 1,
   "id": "d6791da8",
   "metadata": {},
   "outputs": [
    {
     "name": "stdout",
     "output_type": "stream",
     "text": [
      "Ans-: The empty list value, which is a list value \n",
      "      that contains no items.\n"
     ]
    }
   ],
   "source": [
    "# 1. What exactly is []?\n",
    "\n",
    "print('''Ans-: The empty list value, which is a list value \n",
    "      that contains no items.''')"
   ]
  },
  {
   "cell_type": "code",
   "execution_count": 2,
   "id": "2a3ecfb8",
   "metadata": {},
   "outputs": [
    {
     "name": "stdout",
     "output_type": "stream",
     "text": [
      "Ans-: spam[2] = 'hello' \n"
     ]
    }
   ],
   "source": [
    "# 2. In a list of values stored in a variable called spam, how would you assign the value 'hello' as the third value? (Assume [2, 4, 6, 8, 10] are in spam.)\n",
    "\n",
    "print(\"Ans-: spam[2] = 'hello' \")"
   ]
  },
  {
   "cell_type": "code",
   "execution_count": 3,
   "id": "c035ece3",
   "metadata": {},
   "outputs": [
    {
     "name": "stdout",
     "output_type": "stream",
     "text": [
      "Ans-: 'd' \n"
     ]
    }
   ],
   "source": [
    "# Let's pretend the spam includes the list ['a', 'b', 'c', 'd'] for the next three queries.\n",
    "\n",
    "# 3. What is the value of spam[int(int('3' * 2) / 11)]?\n",
    "\n",
    "print(\"Ans-: 'd' \")\n"
   ]
  },
  {
   "cell_type": "code",
   "execution_count": 4,
   "id": "182b6509",
   "metadata": {},
   "outputs": [
    {
     "name": "stdout",
     "output_type": "stream",
     "text": [
      "Ans-: 'd' \n"
     ]
    }
   ],
   "source": [
    "# 4. What is the value of spam[-1]?\n",
    "\n",
    "print(\"Ans-: 'd' \")"
   ]
  },
  {
   "cell_type": "code",
   "execution_count": 5,
   "id": "1b4a4e51",
   "metadata": {},
   "outputs": [
    {
     "name": "stdout",
     "output_type": "stream",
     "text": [
      "Ans-: ['a','b']\n"
     ]
    }
   ],
   "source": [
    "# 5. What is the value of spam[:2]?\n",
    "\n",
    "print(\"Ans-: ['a','b']\")"
   ]
  },
  {
   "cell_type": "code",
   "execution_count": 6,
   "id": "28ba2c42",
   "metadata": {},
   "outputs": [
    {
     "name": "stdout",
     "output_type": "stream",
     "text": [
      "Ans-: 1 \n"
     ]
    }
   ],
   "source": [
    "# Let's pretend bacon has the list [3.14, 'cat,' 11, 'cat,' True] for the next three questions.\n",
    "\n",
    "# 6. What is the value of bacon.index('cat')?\n",
    "\n",
    "print(\"Ans-: 1 \")\n"
   ]
  },
  {
   "cell_type": "code",
   "execution_count": 7,
   "id": "346597e9",
   "metadata": {},
   "outputs": [
    {
     "name": "stdout",
     "output_type": "stream",
     "text": [
      "Ans-: [3.14, 'cat', 11, 'cat', True, 99] \n"
     ]
    }
   ],
   "source": [
    "# 7. How does bacon.append(99) change the look of the list value in bacon?\n",
    "\n",
    "print(\"Ans-: [3.14, 'cat', 11, 'cat', True, 99] \")"
   ]
  },
  {
   "cell_type": "code",
   "execution_count": 8,
   "id": "2e86ccaa",
   "metadata": {},
   "outputs": [
    {
     "name": "stdout",
     "output_type": "stream",
     "text": [
      "Ans-: [3.14, 11, 'cat', True] \n"
     ]
    }
   ],
   "source": [
    "# 8. How does bacon.remove('cat') change the look of the list in bacon?\n",
    "\n",
    "print(\"Ans-: [3.14, 11, 'cat', True] \")"
   ]
  },
  {
   "cell_type": "code",
   "execution_count": 9,
   "id": "30faafd5",
   "metadata": {},
   "outputs": [
    {
     "name": "stdout",
     "output_type": "stream",
     "text": [
      "Ans-: The operator for list concatenation is +, \n",
      "      while the operator for replication is *.\n"
     ]
    }
   ],
   "source": [
    "# 9. What are the list concatenation and list replication operators?\n",
    "\n",
    "print('''Ans-: The operator for list concatenation is +, \n",
    "      while the operator for replication is *.''')"
   ]
  },
  {
   "cell_type": "code",
   "execution_count": 10,
   "id": "42ca5195",
   "metadata": {},
   "outputs": [
    {
     "name": "stdout",
     "output_type": "stream",
     "text": [
      "Ans-: While append() will add values only to the end of\n",
      "      a list, insert() can add them anywhere in the list.\n"
     ]
    }
   ],
   "source": [
    "# 10. What is difference between the list methods append() and insert()?\n",
    "\n",
    "print('''Ans-: While append() will add values only to the end of\n",
    "      a list, insert() can add them anywhere in the list.''')\n"
   ]
  },
  {
   "cell_type": "code",
   "execution_count": 11,
   "id": "6a33487d",
   "metadata": {},
   "outputs": [
    {
     "name": "stdout",
     "output_type": "stream",
     "text": [
      "Ans-: The del statement and the remove() list method are\n",
      "      two ways to remove values from a list.\n"
     ]
    }
   ],
   "source": [
    "# 11. What are the two methods for removing items from a list?\n",
    "\n",
    "print('''Ans-: The del statement and the remove() list method are\n",
    "      two ways to remove values from a list.''') "
   ]
  },
  {
   "cell_type": "code",
   "execution_count": 12,
   "id": "a7079d76",
   "metadata": {},
   "outputs": [
    {
     "name": "stdout",
     "output_type": "stream",
     "text": [
      "Ans-: Both lists and strings can be passed to len(), have\n",
      "      indexes and slices, be used in for loops, be concatenated or \n",
      "      replicated, and be used with the in and not in operators.\n"
     ]
    }
   ],
   "source": [
    "# 12. Describe how list values and string values are identical.\n",
    "\n",
    "print('''Ans-: Both lists and strings can be passed to len(), have\n",
    "      indexes and slices, be used in for loops, be concatenated or \n",
    "      replicated, and be used with the in and not in operators.''')"
   ]
  },
  {
   "cell_type": "code",
   "execution_count": 13,
   "id": "9aff85cd",
   "metadata": {},
   "outputs": [
    {
     "name": "stdout",
     "output_type": "stream",
     "text": [
      "Ans-: Lists are mutable; they can have values added, removed,\n",
      "      or changed. Tuples are immutable; they cannot be changed at all.\n",
      "      Also, tuples are written using parentheses, ( and ), while lists\n",
      "      use the square brackets, [ and ].\n"
     ]
    }
   ],
   "source": [
    "# 13. What's the difference between tuples and lists?\n",
    "\n",
    "print('''Ans-: Lists are mutable; they can have values added, removed,\n",
    "      or changed. Tuples are immutable; they cannot be changed at all.\n",
    "      Also, tuples are written using parentheses, ( and ), while lists\n",
    "      use the square brackets, [ and ].''')\n"
   ]
  },
  {
   "cell_type": "code",
   "execution_count": 14,
   "id": "ad60273a",
   "metadata": {},
   "outputs": [
    {
     "name": "stdout",
     "output_type": "stream",
     "text": [
      "Ans-: (42,) - The trailing comma is mandatory. \n"
     ]
    }
   ],
   "source": [
    "# 14. How do you type a tuple value that only contains the integer 42?\n",
    "\n",
    "print(\"Ans-: (42,) - The trailing comma is mandatory. \")\n"
   ]
  },
  {
   "cell_type": "code",
   "execution_count": 15,
   "id": "be5b815e",
   "metadata": {},
   "outputs": [
    {
     "name": "stdout",
     "output_type": "stream",
     "text": [
      "Ans-: The tuple() and list() functions, respectively \n"
     ]
    }
   ],
   "source": [
    "# 15. How do you get a list value's tuple form? How do you get a tuple value's list form?\n",
    "\n",
    "print(\"Ans-: The tuple() and list() functions, respectively \")"
   ]
  },
  {
   "cell_type": "code",
   "execution_count": 16,
   "id": "88816f68",
   "metadata": {},
   "outputs": [
    {
     "name": "stdout",
     "output_type": "stream",
     "text": [
      "Ans-: They contain references to list values.\n"
     ]
    }
   ],
   "source": [
    "# 16. Variables that \"contain\" list values are not necessarily lists themselves. Instead, what do they contain?\n",
    "\n",
    "print(\"Ans-: They contain references to list values.\")"
   ]
  },
  {
   "cell_type": "code",
   "execution_count": 17,
   "id": "fe67e2ec",
   "metadata": {},
   "outputs": [
    {
     "name": "stdout",
     "output_type": "stream",
     "text": [
      "Ans-: The copy.copy() function will do a shallow copy \n",
      "      of a list, while the copy.deepcopy() function will do a \n",
      "      deep copy of a list. That is, only copy.deepcopy() will \n",
      "      duplicate any lists inside the list.\n"
     ]
    }
   ],
   "source": [
    "# 17. How do you distinguish between copy.copy() and copy.deepcopy()?\n",
    "\n",
    "print('''Ans-: The copy.copy() function will do a shallow copy \n",
    "      of a list, while the copy.deepcopy() function will do a \n",
    "      deep copy of a list. That is, only copy.deepcopy() will \n",
    "      duplicate any lists inside the list.''')\n"
   ]
  },
  {
   "cell_type": "code",
   "execution_count": null,
   "id": "96510dcf",
   "metadata": {},
   "outputs": [],
   "source": []
  }
 ],
 "metadata": {
  "kernelspec": {
   "display_name": "Python 3 (ipykernel)",
   "language": "python",
   "name": "python3"
  },
  "language_info": {
   "codemirror_mode": {
    "name": "ipython",
    "version": 3
   },
   "file_extension": ".py",
   "mimetype": "text/x-python",
   "name": "python",
   "nbconvert_exporter": "python",
   "pygments_lexer": "ipython3",
   "version": "3.10.6"
  }
 },
 "nbformat": 4,
 "nbformat_minor": 5
}
