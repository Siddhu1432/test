{
 "cells": [
  {
   "cell_type": "code",
   "execution_count": 1,
   "id": "8233b907",
   "metadata": {},
   "outputs": [
    {
     "name": "stdout",
     "output_type": "stream",
     "text": [
      "Ans-: Square brackets are lists while parentheses are tuples.\n"
     ]
    }
   ],
   "source": [
    "# 1)  What is the difference between enclosing a list comprehension in square brackets and parentheses?\n",
    "\n",
    "print('Ans-: Square brackets are lists while parentheses are tuples.')"
   ]
  },
  {
   "cell_type": "code",
   "execution_count": 2,
   "id": "c38ca1ff",
   "metadata": {},
   "outputs": [
    {
     "name": "stdout",
     "output_type": "stream",
     "text": [
      "Ans-: Iterators are the objects that use the next() method to get the next value of the sequence.\n",
      "      A generator is a function that produces or yields a sequence of values using a yield statement.\n"
     ]
    }
   ],
   "source": [
    "# 2) What is the relationship between generators and iterators?\n",
    "\n",
    "print('''Ans-: Iterators are the objects that use the next() method to get the next value of the sequence.\n",
    "      A generator is a function that produces or yields a sequence of values using a yield statement.''')"
   ]
  },
  {
   "cell_type": "code",
   "execution_count": 3,
   "id": "2fd8745e",
   "metadata": {},
   "outputs": [
    {
     "name": "stdout",
     "output_type": "stream",
     "text": [
      "Ans-: A generator function by the presence of a yield statement. A yield statement turns a regular\n",
      "      function into a generator function.\n"
     ]
    }
   ],
   "source": [
    "# 3) What are the signs that a function is a generator function?\n",
    "\n",
    "print('''Ans-: A generator function by the presence of a yield statement. A yield statement turns a regular\n",
    "      function into a generator function.''')"
   ]
  },
  {
   "cell_type": "code",
   "execution_count": 4,
   "id": "396e8d5e",
   "metadata": {},
   "outputs": [
    {
     "name": "stdout",
     "output_type": "stream",
     "text": [
      "Ans-: The yield statement returns a generator object to the one who calls the function which contains yield,\n",
      "      instead of simply returning a value.\n"
     ]
    }
   ],
   "source": [
    "# 4) What is the purpose of a yield statement?\n",
    "\n",
    "print('''Ans-: The yield statement returns a generator object to the one who calls the function which contains yield,\n",
    "      instead of simply returning a value.''')"
   ]
  },
  {
   "cell_type": "code",
   "execution_count": 5,
   "id": "4dee83e5",
   "metadata": {},
   "outputs": [
    {
     "name": "stdout",
     "output_type": "stream",
     "text": [
      "Ans-: List comprehension returns a list, whereas the map function returns an object of Iterable\n"
     ]
    }
   ],
   "source": [
    "# 5) What is the relationship between map calls and list comprehensions? Make a comparison and contrast between the two.\n",
    "\n",
    "print('''Ans-: List comprehension returns a list, whereas the map function returns an object of Iterable''')"
   ]
  },
  {
   "cell_type": "code",
   "execution_count": null,
   "id": "f2d2f70e",
   "metadata": {},
   "outputs": [],
   "source": []
  }
 ],
 "metadata": {
  "kernelspec": {
   "display_name": "Python 3 (ipykernel)",
   "language": "python",
   "name": "python3"
  },
  "language_info": {
   "codemirror_mode": {
    "name": "ipython",
    "version": 3
   },
   "file_extension": ".py",
   "mimetype": "text/x-python",
   "name": "python",
   "nbconvert_exporter": "python",
   "pygments_lexer": "ipython3",
   "version": "3.10.6"
  }
 },
 "nbformat": 4,
 "nbformat_minor": 5
}
