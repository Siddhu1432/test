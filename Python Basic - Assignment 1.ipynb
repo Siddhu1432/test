{
 "cells": [
  {
   "cell_type": "code",
   "execution_count": 1,
   "id": "677b93a9",
   "metadata": {},
   "outputs": [
    {
     "name": "stdout",
     "output_type": "stream",
     "text": [
      "\n",
      "\n",
      "* : expression\n",
      "    \n",
      "'hello': value\n",
      "    \n",
      "-87.8 : value\n",
      "\n",
      "- : expression\n",
      "\n",
      "/ : expression\n",
      "\n",
      "+ : expression\n",
      "\n",
      "6 : value\n",
      "\n",
      "\n"
     ]
    }
   ],
   "source": [
    "\n",
    "#1. In the below elements which of them are values or an expression? eg:- values can be integer or string and expressions will be mathematical operators.\n",
    "\n",
    "\n",
    "print('''\n",
    "\n",
    "* : expression\n",
    "    \n",
    "'hello': value\n",
    "    \n",
    "-87.8 : value\n",
    "\n",
    "- : expression\n",
    "\n",
    "/ : expression\n",
    "\n",
    "+ : expression\n",
    "\n",
    "6 : value\n",
    "\n",
    "''')\n",
    "  \n",
    "\n",
    "\n",
    "\n",
    "\n"
   ]
  },
  {
   "cell_type": "code",
   "execution_count": 2,
   "id": "18ff054c",
   "metadata": {},
   "outputs": [
    {
     "name": "stdout",
     "output_type": "stream",
     "text": [
      " variable : variable are symbols that you can use to store data in a program.\n",
      "              variable is in denoted by small letters.\n",
      "   \n",
      "   string : string is value and it is denoted by inverted comma.\n",
      "            you can store a string in a variable.\n"
     ]
    }
   ],
   "source": [
    "\n",
    "#2. What is the difference between string and variable?\n",
    "\n",
    "\n",
    "print(''' variable : variable are symbols that you can use to store data in a program.\n",
    "              variable is in denoted by small letters.\n",
    "   \n",
    "   string : string is value and it is denoted by inverted comma.\n",
    "            you can store a string in a variable.''')\n",
    "         \n",
    "   "
   ]
  },
  {
   "cell_type": "code",
   "execution_count": 3,
   "id": "6f6c87b3",
   "metadata": {},
   "outputs": [
    {
     "name": "stdout",
     "output_type": "stream",
     "text": [
      "\n",
      " \n",
      "Integer : this value is represented by int class.it contains positive or\n",
      "          negative whole numbers.\n",
      "          \n",
      "Float : this value is represented by float class.it is a real number with \n",
      "        floating point regression.it is specified by decimal number.\n",
      "        \n",
      "Complex : this value is represented by complex class.it is a specified as \n",
      "          real part and imaginary part. \n",
      "          eg. 2+3j\n",
      "          \n",
      "\n"
     ]
    }
   ],
   "source": [
    "\n",
    "#3. Describe three different data types.\n",
    "\n",
    "print('''\n",
    " \n",
    "Integer : this value is represented by int class.it contains positive or\n",
    "          negative whole numbers.\n",
    "          \n",
    "Float : this value is represented by float class.it is a real number with \n",
    "        floating point regression.it is specified by decimal number.\n",
    "        \n",
    "Complex : this value is represented by complex class.it is a specified as \n",
    "          real part and imaginary part. \n",
    "          eg. 2+3j\n",
    "          \n",
    "''')         \n",
    "        "
   ]
  },
  {
   "cell_type": "code",
   "execution_count": 4,
   "id": "0c9a0788",
   "metadata": {},
   "outputs": [
    {
     "name": "stdout",
     "output_type": "stream",
     "text": [
      "\n",
      "\n",
      "   An expression is a combinatoin of values and operators. All expression\n",
      "   evaluate to asingle value\n",
      "   \n",
      "\n"
     ]
    }
   ],
   "source": [
    "\n",
    "#4. What is an expression made up of? What do all expressions do?\n",
    "\n",
    "print('''\n",
    "\n",
    "   An expression is a combinatoin of values and operators. All expression\n",
    "   evaluate to asingle value\n",
    "   \n",
    "''')   "
   ]
  },
  {
   "cell_type": "code",
   "execution_count": 5,
   "id": "77376b70",
   "metadata": {},
   "outputs": [
    {
     "name": "stdout",
     "output_type": "stream",
     "text": [
      " \"A expreession evaluate to a single value. A statement does not\".\n"
     ]
    }
   ],
   "source": [
    "\n",
    "#5. This assignment statements, like spam = 10. What is the difference between an expression and a statement?\n",
    "   \n",
    "print(''' \"A expreession evaluate to a single value. A statement does not\".''') \n",
    "   \n",
    " "
   ]
  },
  {
   "cell_type": "code",
   "execution_count": 6,
   "id": "0ed3a18d",
   "metadata": {},
   "outputs": [
    {
     "data": {
      "text/plain": [
       "23"
      ]
     },
     "execution_count": 6,
     "metadata": {},
     "output_type": "execute_result"
    }
   ],
   "source": [
    "\n",
    "# 6. After running the following code, what does the variable bacon contain? bacon = 22, bacon + 1\n",
    "\n",
    "bacon = 22\n",
    "bacon + 1"
   ]
  },
  {
   "cell_type": "code",
   "execution_count": 7,
   "id": "32d6cc47",
   "metadata": {},
   "outputs": [
    {
     "data": {
      "text/plain": [
       "'spamspamspam'"
      ]
     },
     "execution_count": 7,
     "metadata": {},
     "output_type": "execute_result"
    }
   ],
   "source": [
    "\n",
    "#7. What should the values of the following two terms be?\n",
    "'spam' + 'spamspam'\n",
    "'spam' * 3\n",
    "\n",
    "\n",
    "\n",
    "'spam' + 'spamspam'\n",
    "'spam' * 3\n"
   ]
  },
  {
   "cell_type": "code",
   "execution_count": 8,
   "id": "d672f6ce",
   "metadata": {},
   "outputs": [
    {
     "name": "stdout",
     "output_type": "stream",
     "text": [
      " \n",
      "    variable names cannot begin with a number.\n",
      "    \n",
      "\n"
     ]
    }
   ],
   "source": [
    "\n",
    "#8. Why is eggs a valid variable name while 100 is invalid?\n",
    "\n",
    "print(''' \n",
    "    variable names cannot begin with a number.\n",
    "    \n",
    "''')    \n"
   ]
  },
  {
   "cell_type": "code",
   "execution_count": 9,
   "id": "5aa20413",
   "metadata": {},
   "outputs": [
    {
     "name": "stdout",
     "output_type": "stream",
     "text": [
      "\n",
      "    The int(), float() and str() function will evaluate to the integer, \n",
      "    floating-point number and string version of the value passed them.\n",
      "    \n",
      "\n"
     ]
    }
   ],
   "source": [
    "#9. What three functions can be used to get the integer, floating-point number, or string version of a value?\n",
    "\n",
    "print('''\n",
    "    The int(), float() and str() function will evaluate to the integer, \n",
    "    floating-point number and string version of the value passed them.\n",
    "    \n",
    "''')    \n",
    "    \n",
    "    "
   ]
  },
  {
   "cell_type": "code",
   "execution_count": 10,
   "id": "c0100aaf",
   "metadata": {},
   "outputs": [
    {
     "data": {
      "text/plain": [
       "'i have eaten 99 burritos'"
      ]
     },
     "execution_count": 10,
     "metadata": {},
     "output_type": "execute_result"
    }
   ],
   "source": [
    "#10. Why does this expression cause an error? How can you fix it? 'I have eaten ' + 99 + ' burritos.'\n",
    "\n",
    "'i have eaten' + (' 99') + ' burritos'"
   ]
  }
 ],
 "metadata": {
  "kernelspec": {
   "display_name": "Python 3 (ipykernel)",
   "language": "python",
   "name": "python3"
  },
  "language_info": {
   "codemirror_mode": {
    "name": "ipython",
    "version": 3
   },
   "file_extension": ".py",
   "mimetype": "text/x-python",
   "name": "python",
   "nbconvert_exporter": "python",
   "pygments_lexer": "ipython3",
   "version": "3.10.6"
  }
 },
 "nbformat": 4,
 "nbformat_minor": 5
}
