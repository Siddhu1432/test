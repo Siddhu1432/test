{
 "cells": [
  {
   "cell_type": "code",
   "execution_count": 1,
   "id": "de83b1de",
   "metadata": {},
   "outputs": [
    {
     "name": "stdout",
     "output_type": "stream",
     "text": [
      "name\n",
      "siddhu\n",
      "bhat\n"
     ]
    }
   ],
   "source": [
    "# 1.Write a Python program to find words which are greater than given length k?\n",
    "def word_k(k, s):    \n",
    "    word = s.split(\" \")\n",
    "    for x in word:\n",
    "        if len(x)>k:\n",
    "            print(x)\n",
    "k = 3\n",
    "s =\"my name is siddhu bhat\"\n",
    "word_k(k, s)    "
   ]
  },
  {
   "cell_type": "code",
   "execution_count": 2,
   "id": "7c37ead5",
   "metadata": {},
   "outputs": [
    {
     "name": "stdout",
     "output_type": "stream",
     "text": [
      "sidharth\n"
     ]
    }
   ],
   "source": [
    "# 2.Write a Python program for removing i-th character from a string?\n",
    "\n",
    "def remove_char(s, i):\n",
    "\n",
    "    for j in range(len(s)):\n",
    "        if j==i:\n",
    "            s=s.replace(s[i],\"\",1)\n",
    "    return s\n",
    "\n",
    "string = \"siddharth\"\n",
    "i = 3\n",
    "print(remove_char(string,i-1))\n"
   ]
  },
  {
   "cell_type": "code",
   "execution_count": 3,
   "id": "16a87a48",
   "metadata": {},
   "outputs": [
    {
     "name": "stdout",
     "output_type": "stream",
     "text": [
      "The string after splitting is:  ['Once', 'in', 'a', 'blue', 'moon']\n",
      "The string after joining is:  Once-in-a-blue-moon\n"
     ]
    }
   ],
   "source": [
    "# 3.Write a Python program to split and join a string?\n",
    "\n",
    "def splitting(str):\n",
    "    list = str.split(' ')\n",
    "    return list\n",
    "def joining(list):\n",
    "    str = '-'.join(list)\n",
    "    return str\n",
    "str = 'Once in a blue moon'\n",
    "list = splitting(str)\n",
    "print(\"The string after splitting is: \",list)\n",
    "restoring = joining(list)\n",
    "print(\"The string after joining is: \",restoring)"
   ]
  },
  {
   "cell_type": "code",
   "execution_count": 4,
   "id": "87276cb4",
   "metadata": {},
   "outputs": [
    {
     "name": "stdout",
     "output_type": "stream",
     "text": [
      "Binary String\n",
      "Non Binary String\n"
     ]
    }
   ],
   "source": [
    "# 4.Write a Python to check if a given string is binary string or not?\n",
    "\n",
    "def check(string) :\n",
    "    b = set(string)\n",
    "    s = {'0', '1'}\n",
    "    if s == b or b == {'0'} or b == {'1'}:\n",
    "        print(\"Binary String\")\n",
    "    else :\n",
    "        print(\"Non Binary String\")\n",
    "  \n",
    "\n",
    "s1= \"00110101\"\n",
    "check(s1)\n",
    "s2 = \"1010100200111\"\n",
    "check(s2)"
   ]
  },
  {
   "cell_type": "code",
   "execution_count": 5,
   "id": "f706f844",
   "metadata": {},
   "outputs": [
    {
     "name": "stdout",
     "output_type": "stream",
     "text": [
      "['Welcome', 'to']\n"
     ]
    }
   ],
   "source": [
    "# 5.Write a Python program to find uncommon words from two Strings?\n",
    "\n",
    "def uncommon_words(s1, s2):\n",
    "    count = {}\n",
    "    for word in s1.split():\n",
    "        count[word] = count.get(word, 0) + 1\n",
    "    # words of string s2\n",
    "    for word in s2.split():\n",
    "        count[word] = count.get(word, 0) + 1\n",
    "    # return required list of words\n",
    "    return [word for word in count if count[word] == 1]\n",
    "\n",
    "s1=\"Studytonight\"\n",
    "s2=\"Welcome to Studytonight\"\n",
    "  \n",
    "print(uncommon_words(s1, s2))"
   ]
  },
  {
   "cell_type": "code",
   "execution_count": 6,
   "id": "0ce5415d",
   "metadata": {},
   "outputs": [
    {
     "name": "stdout",
     "output_type": "stream",
     "text": [
      "All the duplicate characters in the string are: \n",
      "e  -  2\n",
      "l  -  3\n",
      "o  -  4\n",
      "m  -  2\n",
      "t  -  3\n",
      "o  -  3\n",
      "t  -  2\n",
      "o  -  2\n",
      "i  -  3\n",
      "a  -  2\n",
      "l  -  2\n",
      "i  -  2\n"
     ]
    }
   ],
   "source": [
    "# 6.Write a Python to find all duplicate characters in string?\n",
    "\n",
    "string = \"Welcome to TutorialsPoint family\";\n",
    "print(\"All the duplicate characters in the string are: \"); \n",
    "for s in range(0, len(string)): \n",
    "    count = 1; \n",
    "    for t in range(s+1, len(string)):\n",
    "        if(string[s] == string[t] and string[s] != ' '): \n",
    "            count = count + 1; \n",
    "    string = string[:t] + '0' + string[t+1:]; \n",
    "    if(count > 1 and string[s] != '0'): \n",
    "        print(string[s],\" - \",count);"
   ]
  },
  {
   "cell_type": "code",
   "execution_count": 7,
   "id": "f04545fd",
   "metadata": {},
   "outputs": [
    {
     "name": "stdout",
     "output_type": "stream",
     "text": [
      "Hello15\n",
      "string is accepted\n"
     ]
    }
   ],
   "source": [
    "# 7.Write a Python Program to check if a string contains any special character?\n",
    "\n",
    "import re\n",
    "\n",
    "def find(string):\n",
    "    special_char=re.compile('[@_!$%^&*()<>?/\\|}{~:]#')\n",
    "    \n",
    "    if special_char.search(string) == None:\n",
    "        return \"string is accepted\"\n",
    "    else:\n",
    "        return \"string not accpeted\"\n",
    "   \n",
    "\n",
    "s=\"Hello15\"\n",
    "print(s)\n",
    "print(find(s))"
   ]
  },
  {
   "cell_type": "code",
   "execution_count": null,
   "id": "d868b34d",
   "metadata": {},
   "outputs": [],
   "source": []
  }
 ],
 "metadata": {
  "kernelspec": {
   "display_name": "Python 3 (ipykernel)",
   "language": "python",
   "name": "python3"
  },
  "language_info": {
   "codemirror_mode": {
    "name": "ipython",
    "version": 3
   },
   "file_extension": ".py",
   "mimetype": "text/x-python",
   "name": "python",
   "nbconvert_exporter": "python",
   "pygments_lexer": "ipython3",
   "version": "3.10.6"
  }
 },
 "nbformat": 4,
 "nbformat_minor": 5
}
