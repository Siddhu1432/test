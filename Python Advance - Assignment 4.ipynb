{
 "cells": [
  {
   "cell_type": "code",
   "execution_count": 1,
   "id": "981e68af",
   "metadata": {},
   "outputs": [
    {
     "name": "stdout",
     "output_type": "stream",
     "text": [
      "Ans-: Overloading of functions or methods ( Function  Overloading ).\n",
      "      Overloading of operators ( Operator Overloading )\n"
     ]
    }
   ],
   "source": [
    "# Q1. Which two operator overloading methods can you use in your classes to support iteration?\n",
    "\n",
    "print('''Ans-: Overloading of functions or methods ( Function  Overloading ).\n",
    "      Overloading of operators ( Operator Overloading )''')\n",
    "\n"
   ]
  },
  {
   "cell_type": "code",
   "execution_count": 2,
   "id": "1591e922",
   "metadata": {},
   "outputs": [
    {
     "name": "stdout",
     "output_type": "stream",
     "text": [
      "Ans-: The plus operator is an example of operator overloading where it can add integers as well as strings.\n",
      "      Then the minus operator who can subtract integers, as well sets, lists also so, that's how Python has\n",
      "      overloading features in its operator and functions.\n"
     ]
    }
   ],
   "source": [
    "# Q2. In what contexts do the two operator overloading methods manage printing?\n",
    "\n",
    "print('''Ans-: The plus operator is an example of operator overloading where it can add integers as well as strings.\n",
    "      Then the minus operator who can subtract integers, as well sets, lists also so, that's how Python has\n",
    "      overloading features in its operator and functions.''')\n",
    "\n"
   ]
  },
  {
   "cell_type": "code",
   "execution_count": 3,
   "id": "e69f07e2",
   "metadata": {},
   "outputs": [
    {
     "name": "stdout",
     "output_type": "stream",
     "text": [
      "1\n",
      "(1, 2)\n",
      "(1, 2, 3)\n"
     ]
    },
    {
     "data": {
      "text/plain": [
       "(1, 2, 3)"
      ]
     },
     "execution_count": 3,
     "metadata": {},
     "output_type": "execute_result"
    }
   ],
   "source": [
    "# Q3. In a class, how do you intercept slice operations?\n",
    "\n",
    "class Demo:\n",
    "    def __getitem__(self, key):\n",
    "          \n",
    "        # print a[1], a[1, 2], \n",
    "        # a[1, 2, 3]\n",
    "        print(key)\n",
    "          \n",
    "        return key\n",
    "a = Demo()\n",
    "  \n",
    "# => slice 1\n",
    "a[1]\n",
    "  \n",
    "# => slice(1, 2)\n",
    "a[1, 2]\n",
    "  \n",
    "# => (1, 2, 3)\n",
    "a[1, 2, 3]\n",
    "\n",
    "\n"
   ]
  },
  {
   "cell_type": "code",
   "execution_count": 4,
   "id": "d8e88e9f",
   "metadata": {},
   "outputs": [
    {
     "name": "stdout",
     "output_type": "stream",
     "text": [
      "Ans-: Python provides the operator x += y to add two objects in-place by calculating the sum x + y and\n",
      "      assigning the result to the first operands variable name x . \n"
     ]
    }
   ],
   "source": [
    "# Q4. In a class, how do you capture in-place addition?\n",
    "\n",
    "print('''Ans-: Python provides the operator x += y to add two objects in-place by calculating the sum x + y and\n",
    "      assigning the result to the first operands variable name x . ''')\n",
    "\n"
   ]
  },
  {
   "cell_type": "code",
   "execution_count": 5,
   "id": "74d70318",
   "metadata": {},
   "outputs": [
    {
     "name": "stdout",
     "output_type": "stream",
     "text": [
      "Ans-:  when you're making a new class that falls into an existing \"Abstract Base Class\" (ABC)\n"
     ]
    }
   ],
   "source": [
    "# Q5. When is it appropriate to use operator overloading?\n",
    "\n",
    "print('''Ans-:  when you're making a new class that falls into an existing \"Abstract Base Class\" (ABC)''')"
   ]
  },
  {
   "cell_type": "code",
   "execution_count": null,
   "id": "11b40299",
   "metadata": {},
   "outputs": [],
   "source": []
  }
 ],
 "metadata": {
  "kernelspec": {
   "display_name": "Python 3 (ipykernel)",
   "language": "python",
   "name": "python3"
  },
  "language_info": {
   "codemirror_mode": {
    "name": "ipython",
    "version": 3
   },
   "file_extension": ".py",
   "mimetype": "text/x-python",
   "name": "python",
   "nbconvert_exporter": "python",
   "pygments_lexer": "ipython3",
   "version": "3.10.6"
  }
 },
 "nbformat": 4,
 "nbformat_minor": 5
}
