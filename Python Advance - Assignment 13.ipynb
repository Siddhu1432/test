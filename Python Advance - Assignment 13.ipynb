{
 "cells": [
  {
   "cell_type": "code",
   "execution_count": 1,
   "id": "374f0e00",
   "metadata": {},
   "outputs": [
    {
     "name": "stdout",
     "output_type": "stream",
     "text": [
      "Positive indexing [77, 4.5]\n",
      "Negative indexing True\n"
     ]
    }
   ],
   "source": [
    "# Q1. Can you create a programme or function that employs both positive and negative indexing? Is there any repercussion if you do so?\n",
    "\n",
    "a = [77,4.5,'sid',2+3j,True]\n",
    "\n",
    "print('Positive indexing',a[0:2])\n",
    "print('Negative indexing',a[-1])\n",
    "\n"
   ]
  },
  {
   "cell_type": "code",
   "execution_count": 2,
   "id": "4441287b",
   "metadata": {},
   "outputs": [
    {
     "name": "stdout",
     "output_type": "stream",
     "text": [
      "Ans-: Using a for loop and append()\n",
      "      Using a while loop with a counter variable.\n",
      "      Using list comprehensions.\n",
      "      Using the * operator. \n"
     ]
    }
   ],
   "source": [
    "# Q2. What is the most effective way of starting with 1,000 elements in a Python list? Assume that all elements should be set to the same value.\n",
    "\n",
    "\n",
    "print('''Ans-: Using a for loop and append()\n",
    "      Using a while loop with a counter variable.\n",
    "      Using list comprehensions.\n",
    "      Using the * operator. ''')\n",
    "\n",
    "\n",
    "\n"
   ]
  },
  {
   "cell_type": "code",
   "execution_count": 3,
   "id": "955fc977",
   "metadata": {},
   "outputs": [
    {
     "name": "stdout",
     "output_type": "stream",
     "text": [
      "['sid', 'bhat', 'is', 'good']\n"
     ]
    }
   ],
   "source": [
    "# Q3. How do you slice a list to get any other part while missing the rest? (For example, suppose you want to make a new list with the elements first, third, fifth, seventh, and so on.)\n",
    "\n",
    "l = [5,'sid',4.3,'bhat',True,'is',6+4j,'good']\n",
    "l1 = []\n",
    "l1.append(l[1])\n",
    "l1.append(l[3])\n",
    "l1.append(l[5])\n",
    "l1.append(l[7])\n",
    "print(l1)\n"
   ]
  },
  {
   "cell_type": "code",
   "execution_count": 4,
   "id": "cdb8b4eb",
   "metadata": {},
   "outputs": [
    {
     "name": "stdout",
     "output_type": "stream",
     "text": [
      "Ans-: “Indexing” means referring to an element of an iterable by its position within the iterable.\n",
      "      “Slicing” means getting a subset of elements from an iterable based on their indices.\n"
     ]
    }
   ],
   "source": [
    "# Q4. Explain the distinctions between indexing and slicing.\n",
    "\n",
    "print('''Ans-: “Indexing” means referring to an element of an iterable by its position within the iterable.\n",
    "      “Slicing” means getting a subset of elements from an iterable based on their indices.''')\n",
    "\n"
   ]
  },
  {
   "cell_type": "code",
   "execution_count": 5,
   "id": "bb82dad1",
   "metadata": {},
   "outputs": [
    {
     "name": "stdout",
     "output_type": "stream",
     "text": [
      "Ans-: it simply returns an empty sequence.\n"
     ]
    }
   ],
   "source": [
    "# Q5. What happens if one of the slicing expression's indexes is out of range?\n",
    "\n",
    "print('''Ans-: it simply returns an empty sequence.''')\n",
    "\n"
   ]
  },
  {
   "cell_type": "code",
   "execution_count": 6,
   "id": "4f28d224",
   "metadata": {},
   "outputs": [
    {
     "name": "stdout",
     "output_type": "stream",
     "text": [
      "Ans-: Because python parameter is passed by object reference, and list is a mutable object, once you pass a\n",
      "      list into function and change its element, the original one would be change too\n"
     ]
    }
   ],
   "source": [
    "# Q6. If you pass a list to a function, and if you want the function to be able to change the values of the list—so that the list is different after the function returns—what action should you avoid?\n",
    "\n",
    "print('''Ans-: Because python parameter is passed by object reference, and list is a mutable object, once you pass a\n",
    "      list into function and change its element, the original one would be change too''')\n"
   ]
  },
  {
   "cell_type": "code",
   "execution_count": 7,
   "id": "52452ee2",
   "metadata": {},
   "outputs": [
    {
     "name": "stdout",
     "output_type": "stream",
     "text": [
      "Ans-: whenever the number of sources is not equal to the number of destinations\n"
     ]
    }
   ],
   "source": [
    "# Q7. What is the concept of an unbalanced matrix?\n",
    "\n",
    "print('''Ans-: whenever the number of sources is not equal to the number of destinations''')\n",
    "\n"
   ]
  },
  {
   "cell_type": "code",
   "execution_count": 8,
   "id": "2131ca68",
   "metadata": {},
   "outputs": [
    {
     "name": "stdout",
     "output_type": "stream",
     "text": [
      "Ans-: It provides a compact way of mapping a list into another list by applying a function to each of the \n",
      "      elements of the list. \n"
     ]
    }
   ],
   "source": [
    "# Q8. Why is it necessary to use either list comprehension or a loop to create arbitrarily large matrices?\n",
    "\n",
    "print('''Ans-: It provides a compact way of mapping a list into another list by applying a function to each of the \n",
    "      elements of the list. ''')"
   ]
  },
  {
   "cell_type": "code",
   "execution_count": null,
   "id": "e1d29543",
   "metadata": {},
   "outputs": [],
   "source": []
  }
 ],
 "metadata": {
  "kernelspec": {
   "display_name": "Python 3 (ipykernel)",
   "language": "python",
   "name": "python3"
  },
  "language_info": {
   "codemirror_mode": {
    "name": "ipython",
    "version": 3
   },
   "file_extension": ".py",
   "mimetype": "text/x-python",
   "name": "python",
   "nbconvert_exporter": "python",
   "pygments_lexer": "ipython3",
   "version": "3.10.6"
  }
 },
 "nbformat": 4,
 "nbformat_minor": 5
}
