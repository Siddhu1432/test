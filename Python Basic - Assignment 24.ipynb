{
 "cells": [
  {
   "cell_type": "code",
   "execution_count": 2,
   "id": "47f6769b",
   "metadata": {},
   "outputs": [
    {
     "name": "stdout",
     "output_type": "stream",
     "text": [
      "Ans-: A lambda is an expression producing a function. A def is a statement producing a function.\n"
     ]
    }
   ],
   "source": [
    "# 1. What is the relationship between def statements and lambda expressions ?\n",
    "\n",
    "print(\"Ans-: A lambda is an expression producing a function. A def is a statement producing a function.\")"
   ]
  },
  {
   "cell_type": "code",
   "execution_count": 3,
   "id": "3e9703a0",
   "metadata": {},
   "outputs": [
    {
     "name": "stdout",
     "output_type": "stream",
     "text": [
      "Ans-: Lambda enables you to use functions with pre-trained machine learning (ML)\n",
      "      models to inject artiﬁcial intelligence into applications more easily\n"
     ]
    }
   ],
   "source": [
    "# 2. What is the benefit of lambda?\n",
    "\n",
    "print('''Ans-: Lambda enables you to use functions with pre-trained machine learning (ML)\n",
    "      models to inject artiﬁcial intelligence into applications more easily''')"
   ]
  },
  {
   "cell_type": "code",
   "execution_count": 10,
   "id": "bfd42392",
   "metadata": {},
   "outputs": [
    {
     "name": "stdout",
     "output_type": "stream",
     "text": [
      "Ans-: Map - The map() function iterates through all items in the given iterable and\n",
      "      executes the function we passed as an argument on each of them.\n",
      "      The syntax is: map(function, iterable(s))\n",
      "      \n",
      "      Filter - Similar to map(), filter() takes a function object and an iterable and creates\n",
      "      a new list. As the name suggests, filter() forms a new list that contains only\n",
      "      elements that satisfy a certain condition, i.e. the function we passed returns True.\n",
      "      The syntax is: filter(function, iterable(s))\n",
      "      \n",
      "      Reduce - reduce() works differently than map() and filter(). It does not return a new list based\n",
      "      on the function and iterable we've passed. Instead, it returns a single value.\n",
      "      Also, in Python 3 reduce() isn't a built-in function anymore, and it can be found in the functools\n",
      "      module.\n",
      "      The syntax is: reduce(function, sequence[, initial])\n",
      " \n"
     ]
    }
   ],
   "source": [
    "# 3. Compare and contrast map, filter, and reduce.\n",
    "\n",
    "print('''Ans-: Map - The map() function iterates through all items in the given iterable and\n",
    "      executes the function we passed as an argument on each of them.\n",
    "      The syntax is: map(function, iterable(s))\n",
    "      \n",
    "      Filter - Similar to map(), filter() takes a function object and an iterable and creates\n",
    "      a new list. As the name suggests, filter() forms a new list that contains only\n",
    "      elements that satisfy a certain condition, i.e. the function we passed returns True.\n",
    "      The syntax is: filter(function, iterable(s))\n",
    "      \n",
    "      Reduce - reduce() works differently than map() and filter(). It does not return a new list based\n",
    "      on the function and iterable we've passed. Instead, it returns a single value.\n",
    "      Also, in Python 3 reduce() isn't a built-in function anymore, and it can be found in the functools\n",
    "      module.\n",
    "      The syntax is: reduce(function, sequence[, initial])\n",
    " ''')\n"
   ]
  },
  {
   "cell_type": "code",
   "execution_count": 12,
   "id": "fba53c9b",
   "metadata": {},
   "outputs": [
    {
     "name": "stdout",
     "output_type": "stream",
     "text": [
      "Ans-: Function annotations are arbitrary python expressions that are associated with various\n",
      "      part of functions.\n",
      "      \n",
      "      def func(arg: arg_type, optarg: arg_type = default) -> return_type:  \n"
     ]
    }
   ],
   "source": [
    "# 4. What are function annotations, and how are they used?\n",
    "\n",
    "print('''Ans-: Function annotations are arbitrary python expressions that are associated with various\n",
    "      part of functions.\n",
    "      \n",
    "      def func(arg: arg_type, optarg: arg_type = default) -> return_type:  ''')"
   ]
  },
  {
   "cell_type": "code",
   "execution_count": 14,
   "id": "2862e7a9",
   "metadata": {},
   "outputs": [
    {
     "name": "stdout",
     "output_type": "stream",
     "text": [
      "Ans-: Recursive Function is a function that repeats or uses its own previous term to calculate subsequent\n",
      "      terms and thus forms a sequence of terms. \n",
      "      \n",
      "      \n",
      "      eg.-: function log(num){\n",
      "            if(num > 5){\n",
      "            return;\n",
      "            }\n",
      "            console.log(num);\n",
      "            log(num + 1);\n",
      "        }\n",
      "\n",
      "            log(1);\n",
      "      \n",
      "      \n"
     ]
    }
   ],
   "source": [
    "# 5. What are recursive functions, and how are they used?\n",
    "\n",
    "print('''Ans-: Recursive Function is a function that repeats or uses its own previous term to calculate subsequent\n",
    "      terms and thus forms a sequence of terms. \n",
    "      \n",
    "      \n",
    "      eg.-: function log(num){\n",
    "            if(num > 5){\n",
    "            return;\n",
    "            }\n",
    "            console.log(num);\n",
    "            log(num + 1);\n",
    "        }\n",
    "\n",
    "            log(1);\n",
    "      \n",
    "      ''')"
   ]
  },
  {
   "cell_type": "code",
   "execution_count": 15,
   "id": "68fd0cf9",
   "metadata": {},
   "outputs": [
    {
     "name": "stdout",
     "output_type": "stream",
     "text": [
      "Ans-: Safe: It can be used without causing harm.\n",
      "      Secure: It can't be hacked.\n",
      "      Reliable: It functions as it should, every time.\n",
      "      Testable: It can be tested at the code level.\n",
      "      Maintainable: It can be maintained, even as your codebase grows.\n",
      "      Portable: It works the same in every environment.\n",
      "      \n"
     ]
    }
   ],
   "source": [
    "# 6. What are some general design guidelines for coding functions?\n",
    "\n",
    "print('''Ans-: Safe: It can be used without causing harm.\n",
    "      Secure: It can't be hacked.\n",
    "      Reliable: It functions as it should, every time.\n",
    "      Testable: It can be tested at the code level.\n",
    "      Maintainable: It can be maintained, even as your codebase grows.\n",
    "      Portable: It works the same in every environment.\n",
    "      ''')"
   ]
  },
  {
   "cell_type": "code",
   "execution_count": 17,
   "id": "7359da58",
   "metadata": {},
   "outputs": [
    {
     "name": "stdout",
     "output_type": "stream",
     "text": [
      "Ans-: Built-in functions, such as help() to ask for help, min() to get the minimum value, print()\n",
      "      to print an object to the terminal,… You can find an overview with more of these functions\n"
     ]
    }
   ],
   "source": [
    "# 7. Name three or more ways that functions can communicate results to a caller.\n",
    "\n",
    "print('''Ans-: Built-in functions, such as help() to ask for help, min() to get the minimum value, print()\n",
    "      to print an object to the terminal,… You can find an overview with more of these functions''')"
   ]
  },
  {
   "cell_type": "code",
   "execution_count": null,
   "id": "eb0498fe",
   "metadata": {},
   "outputs": [],
   "source": []
  }
 ],
 "metadata": {
  "kernelspec": {
   "display_name": "Python 3 (ipykernel)",
   "language": "python",
   "name": "python3"
  },
  "language_info": {
   "codemirror_mode": {
    "name": "ipython",
    "version": 3
   },
   "file_extension": ".py",
   "mimetype": "text/x-python",
   "name": "python",
   "nbconvert_exporter": "python",
   "pygments_lexer": "ipython3",
   "version": "3.10.6"
  }
 },
 "nbformat": 4,
 "nbformat_minor": 5
}
