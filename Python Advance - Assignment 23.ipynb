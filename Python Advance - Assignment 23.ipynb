{
 "cells": [
  {
   "cell_type": "code",
   "execution_count": 1,
   "id": "68787866",
   "metadata": {},
   "outputs": [
    {
     "name": "stdout",
     "output_type": "stream",
     "text": [
      "Ans-: a Bar Graph. Bar graphs are used to compare things between different groups or to track\n",
      "      changes over time. However, when trying to measure change over time, bar graphs are best when\n",
      "      the changes are larger.\n",
      "\n"
     ]
    }
   ],
   "source": [
    "#Q1. If you have any, what are your choices for increasing the comparison between different figures on the same graph?\n",
    "\n",
    "print('''Ans-: a Bar Graph. Bar graphs are used to compare things between different groups or to track\n",
    "      changes over time. However, when trying to measure change over time, bar graphs are best when\n",
    "      the changes are larger.\n",
    "''')\n",
    "\n"
   ]
  },
  {
   "cell_type": "code",
   "execution_count": 2,
   "id": "a9563fa7",
   "metadata": {},
   "outputs": [
    {
     "name": "stdout",
     "output_type": "stream",
     "text": [
      "Ans-: Causes your wealth to grow faster\n"
     ]
    }
   ],
   "source": [
    "#Q2. Can you explain the benefit of compound interest over a higher rate of interest that does not compound after reading this chapter?\n",
    "\n",
    "print('Ans-: Causes your wealth to grow faster')\n",
    "\n"
   ]
  },
  {
   "cell_type": "code",
   "execution_count": 3,
   "id": "5f44ecbc",
   "metadata": {},
   "outputs": [
    {
     "name": "stdout",
     "output_type": "stream",
     "text": [
      "Ans-: represents the frequency of data distribution in the graphical form.  \n"
     ]
    }
   ],
   "source": [
    "#Q3. What is a histogram, exactly? Name a numpy method for creating such a graph.\n",
    "\n",
    "print('''Ans-: represents the frequency of data distribution in the graphical form.  ''')\n",
    "\n"
   ]
  },
  {
   "cell_type": "code",
   "execution_count": 4,
   "id": "151aabec",
   "metadata": {},
   "outputs": [
    {
     "name": "stdout",
     "output_type": "stream",
     "text": [
      "Ans-: The method set_aspect() is used to set the aspect ratio. The parameter of this method is a number which \n",
      "      is a division of the X-axis with respect to the Y-axis.\n"
     ]
    }
   ],
   "source": [
    "#Q4. If necessary, how do you change the aspect ratios between the X and Y axes?\n",
    "\n",
    "print('''Ans-: The method set_aspect() is used to set the aspect ratio. The parameter of this method is a number which \n",
    "      is a division of the X-axis with respect to the Y-axis.''')\n",
    "\n"
   ]
  },
  {
   "cell_type": "code",
   "execution_count": 5,
   "id": "26f9303e",
   "metadata": {},
   "outputs": [
    {
     "name": "stdout",
     "output_type": "stream",
     "text": [
      "vector multiplication\n",
      "[[ 7 10]\n",
      " [15 22]]\n",
      "\n",
      "Elementwise multiplication of two vector\n",
      "[[ 1  4]\n",
      " [ 9 16]]\n"
     ]
    }
   ],
   "source": [
    "#Q5. Compare and contrast the three types of array multiplication between two numpy arrays: dot product, outer product, and regular multiplication of two numpy arrays.\n",
    "\n",
    "import numpy as np\n",
    "\n",
    "v1 = np.array ([[1, 2], [3, 4]])\n",
    "v2 = np.array ([[1, 2], [3, 4]])\n",
    "\n",
    "print(\"vector multiplication\")\n",
    "print(np.dot(v1, v2))\n",
    " \n",
    "print(\"\\nElementwise multiplication of two vector\")\n",
    "print(v1 * v2)\n",
    "\n"
   ]
  },
  {
   "cell_type": "code",
   "execution_count": 6,
   "id": "1f6f5faa",
   "metadata": {},
   "outputs": [
    {
     "name": "stdout",
     "output_type": "stream",
     "text": [
      "Ans-: numpy function .pmt:\n",
      "      In order to calculate the monthly mortgage payment, you will use the numpy function. \n",
      "      pmt(rate, nper, pv) where: rate = The periodic (monthly) interest rate.\n"
     ]
    }
   ],
   "source": [
    "#Q6. Before you buy a home, which numpy function will you use to measure your monthly mortgage payment?\n",
    "\n",
    "print('''Ans-: numpy function .pmt:\n",
    "      In order to calculate the monthly mortgage payment, you will use the numpy function. \n",
    "      pmt(rate, nper, pv) where: rate = The periodic (monthly) interest rate.''')\n",
    "\n"
   ]
  },
  {
   "cell_type": "code",
   "execution_count": 7,
   "id": "37bcd7ce",
   "metadata": {},
   "outputs": [
    {
     "name": "stdout",
     "output_type": "stream",
     "text": [
      "Ans-: It will only be able to store new string having length not more than the maximum length at the\n",
      "      time of the creation.\n"
     ]
    }
   ],
   "source": [
    "#Q7. Can string data be stored in numpy arrays? If so, list at least one restriction that applies to this data.\n",
    "\n",
    "print('''Ans-: It will only be able to store new string having length not more than the maximum length at the\n",
    "      time of the creation.''')"
   ]
  },
  {
   "cell_type": "code",
   "execution_count": null,
   "id": "b6e3bee0",
   "metadata": {},
   "outputs": [],
   "source": []
  }
 ],
 "metadata": {
  "kernelspec": {
   "display_name": "Python 3 (ipykernel)",
   "language": "python",
   "name": "python3"
  },
  "language_info": {
   "codemirror_mode": {
    "name": "ipython",
    "version": 3
   },
   "file_extension": ".py",
   "mimetype": "text/x-python",
   "name": "python",
   "nbconvert_exporter": "python",
   "pygments_lexer": "ipython3",
   "version": "3.10.6"
  }
 },
 "nbformat": 4,
 "nbformat_minor": 5
}
