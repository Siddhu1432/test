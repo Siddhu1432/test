{
 "cells": [
  {
   "cell_type": "code",
   "execution_count": 1,
   "id": "7253f872",
   "metadata": {},
   "outputs": [
    {
     "name": "stdout",
     "output_type": "stream",
     "text": [
      "Ans-: A class of a class that defines how a class behaves.\n"
     ]
    }
   ],
   "source": [
    "# Q1. What is the concept of a metaclass?\n",
    "\n",
    "print('Ans-: A class of a class that defines how a class behaves.')\n",
    "\n"
   ]
  },
  {
   "cell_type": "code",
   "execution_count": 2,
   "id": "4fad80f6",
   "metadata": {},
   "outputs": [
    {
     "name": "stdout",
     "output_type": "stream",
     "text": [
      "Ans-: If a metaclass is given and it is not an instance of type() , then it is used directly as the\n",
      "      metaclass.\n"
     ]
    }
   ],
   "source": [
    "# Q2. What is the best way to declare a class's metaclass?\n",
    "\n",
    "print('''Ans-: If a metaclass is given and it is not an instance of type() , then it is used directly as the\n",
    "      metaclass.''')\n",
    "\n"
   ]
  },
  {
   "cell_type": "code",
   "execution_count": 3,
   "id": "61ea29e2",
   "metadata": {},
   "outputs": [
    {
     "name": "stdout",
     "output_type": "stream",
     "text": [
      "Ans-: Because the decorator returns the original class, instances are made from it, not from a wrapper \n",
      "      object.\n"
     ]
    }
   ],
   "source": [
    "# Q3. How do class decorators overlap with metaclasses for handling classes?\n",
    "\n",
    "print('''Ans-: Because the decorator returns the original class, instances are made from it, not from a wrapper \n",
    "      object.''')\n",
    "\n"
   ]
  },
  {
   "cell_type": "code",
   "execution_count": 4,
   "id": "b42bcaf0",
   "metadata": {},
   "outputs": [
    {
     "name": "stdout",
     "output_type": "stream",
     "text": [
      "Ans-: Because the decorator returns the original class, instances are made from it, not from a wrapper\n",
      "      object\n"
     ]
    }
   ],
   "source": [
    "#  Q4. How do class decorators overlap with metaclasses for handling instances?\n",
    "\n",
    "print('''Ans-: Because the decorator returns the original class, instances are made from it, not from a wrapper\n",
    "      object''')"
   ]
  },
  {
   "cell_type": "code",
   "execution_count": null,
   "id": "b8804b7a",
   "metadata": {},
   "outputs": [],
   "source": []
  }
 ],
 "metadata": {
  "kernelspec": {
   "display_name": "Python 3 (ipykernel)",
   "language": "python",
   "name": "python3"
  },
  "language_info": {
   "codemirror_mode": {
    "name": "ipython",
    "version": 3
   },
   "file_extension": ".py",
   "mimetype": "text/x-python",
   "name": "python",
   "nbconvert_exporter": "python",
   "pygments_lexer": "ipython3",
   "version": "3.10.6"
  }
 },
 "nbformat": 4,
 "nbformat_minor": 5
}
