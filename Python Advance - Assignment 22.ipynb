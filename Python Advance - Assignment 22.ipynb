{
 "cells": [
  {
   "cell_type": "code",
   "execution_count": 1,
   "id": "2627345a",
   "metadata": {},
   "outputs": [
    {
     "name": "stdout",
     "output_type": "stream",
     "text": [
      "Ans-: Benefits:\n",
      "      Arrays are similar to lists. \n",
      "      The size of the array is not fixed in Python.\n"
     ]
    }
   ],
   "source": [
    "# Q1. What are the benefits of the built-in array package, if any?\n",
    "\n",
    "print('''Ans-: Benefits:\n",
    "      Arrays are similar to lists. \n",
    "      The size of the array is not fixed in Python.''')\n",
    "\n"
   ]
  },
  {
   "cell_type": "code",
   "execution_count": 2,
   "id": "3feed5d1",
   "metadata": {},
   "outputs": [
    {
     "name": "stdout",
     "output_type": "stream",
     "text": [
      "Ans-: Insertion and deletion operations are costly in arrays as elements\n",
      "      are stored in contiguous memory.\n"
     ]
    }
   ],
   "source": [
    "# Q2. What are some of the array package's limitations?\n",
    "\n",
    "print('''Ans-: Insertion and deletion operations are costly in arrays as elements\n",
    "      are stored in contiguous memory.''')\n",
    "\n"
   ]
  },
  {
   "cell_type": "code",
   "execution_count": 3,
   "id": "72f0bb20",
   "metadata": {},
   "outputs": [
    {
     "name": "stdout",
     "output_type": "stream",
     "text": [
      "Ans-: NumPy arrays have a fixed size at creation, unlike Python lists\n"
     ]
    }
   ],
   "source": [
    "# Q3. Describe the main differences between the array and numpy packages.\n",
    "\n",
    "print('Ans-: NumPy arrays have a fixed size at creation, unlike Python lists')\n",
    "\n"
   ]
  },
  {
   "cell_type": "code",
   "execution_count": 4,
   "id": "f683017f",
   "metadata": {},
   "outputs": [
    {
     "name": "stdout",
     "output_type": "stream",
     "text": [
      "Ans-: empty, unlike zeros, does not set the array values to zero, and may \n",
      "      therefore be marginally faster.\n"
     ]
    }
   ],
   "source": [
    "# Q4. Explain the distinctions between the empty, ones, and zeros functions.\n",
    "\n",
    "print('''Ans-: empty, unlike zeros, does not set the array values to zero, and may \n",
    "      therefore be marginally faster.''')\n",
    "\n"
   ]
  },
  {
   "cell_type": "code",
   "execution_count": 5,
   "id": "b3c1dc19",
   "metadata": {},
   "outputs": [
    {
     "name": "stdout",
     "output_type": "stream",
     "text": [
      "Ans-: Each parameter represents the coordinates of the array varying along\n",
      "      a specific axis. \n"
     ]
    }
   ],
   "source": [
    "# Q5. In the fromfunction function, which is used to construct new arrays, what is the role of the callable argument?\n",
    "\n",
    "print('''Ans-: Each parameter represents the coordinates of the array varying along\n",
    "      a specific axis. ''')\n",
    "\n"
   ]
  },
  {
   "cell_type": "code",
   "execution_count": 6,
   "id": "c36e9602",
   "metadata": {},
   "outputs": [
    {
     "name": "stdout",
     "output_type": "stream",
     "text": [
      "[0 1 2 3 4 5 6 7]\n",
      "[ 0  1  4  9 16 25 36 49]\n"
     ]
    }
   ],
   "source": [
    "# Q6. What happens when a numpy array is combined with a single-value operand (a scalar, such as an int or a floating-point value) through addition, as in the expression A + n?\n",
    "\n",
    "import numpy as np\n",
    "a = np.arange(8)\n",
    "print(a)\n",
    "print(np.power(a,2))\n",
    "\n"
   ]
  },
  {
   "cell_type": "code",
   "execution_count": 7,
   "id": "9b19b7ed",
   "metadata": {},
   "outputs": [
    {
     "name": "stdout",
     "output_type": "stream",
     "text": [
      "Array1 = [15 20 25 30]\n",
      "Array2 = [65 75 85 95]\n",
      "Array1 (updated)  [ 75 100 125 150]\n",
      "Array2 (updated)  [ 70  80  90 100]\n"
     ]
    }
   ],
   "source": [
    "# Q7. Can array-to-scalar operations use combined operation-assign operators (such as += or *=)? What is the outcome?\n",
    "\n",
    "import numpy as np\n",
    "\n",
    "n1 = np.array([15, 20, 25, 30])\n",
    "n2 = np.array([65, 75, 85, 95])\n",
    " \n",
    "print(\"Array1 =\", n1)\n",
    "print(\"Array2 =\", n2)\n",
    " \n",
    "n1 = n1 * 5\n",
    "n2 = n2 + 5\n",
    " \n",
    "print(\"Array1 (updated) \", n1)\n",
    "print(\"Array2 (updated) \", n2)\n",
    " \n",
    "\n",
    "\n"
   ]
  },
  {
   "cell_type": "code",
   "execution_count": 8,
   "id": "b92ec278",
   "metadata": {},
   "outputs": [
    {
     "name": "stdout",
     "output_type": "stream",
     "text": [
      "Ans-: It will only be able to store new string having length not more than \n",
      "      the maximum length at the time of the creation. \n"
     ]
    }
   ],
   "source": [
    "# Q8. Does a numpy array contain fixed-length strings? What happens if you allocate a longer string to one of these arrays?\n",
    "\n",
    "print('''Ans-: It will only be able to store new string having length not more than \n",
    "      the maximum length at the time of the creation. ''')\n",
    "\n"
   ]
  },
  {
   "cell_type": "code",
   "execution_count": 9,
   "id": "f8b16f23",
   "metadata": {},
   "outputs": [
    {
     "name": "stdout",
     "output_type": "stream",
     "text": [
      "Array1 = [15 20 25 30]\n",
      "Array2 = [65 75 85 95]\n",
      "Array1 (updated)  [ 975 1500 2125 2850]\n",
      "Array2 (updated)  [130 150 170 190]\n"
     ]
    }
   ],
   "source": [
    "# Q9. What happens when you combine two numpy arrays using an operation like addition (+) or multiplication (*)? What are the conditions for combining two numpy arrays?\n",
    "\n",
    "import numpy as np\n",
    "\n",
    "n1 = np.array([15, 20, 25, 30])\n",
    "n2 = np.array([65, 75, 85, 95])\n",
    " \n",
    "print(\"Array1 =\", n1)\n",
    "print(\"Array2 =\", n2)\n",
    " \n",
    "n3 = n1 * n2\n",
    "n4 = n2 + n2\n",
    " \n",
    "print(\"Array1 (updated) \", n3)\n",
    "print(\"Array2 (updated) \", n4)\n",
    "\n",
    "\n"
   ]
  },
  {
   "cell_type": "code",
   "execution_count": 10,
   "id": "02826ac9",
   "metadata": {},
   "outputs": [
    {
     "name": "stdout",
     "output_type": "stream",
     "text": [
      "An-: Using masked_where() function \n"
     ]
    }
   ],
   "source": [
    "# Q10. What is the best way to use a Boolean array to mask another array?\n",
    "\n",
    "print('An-: Using masked_where() function ')\n",
    "\n"
   ]
  },
  {
   "cell_type": "code",
   "execution_count": 11,
   "id": "bf3203ec",
   "metadata": {},
   "outputs": [
    {
     "name": "stdout",
     "output_type": "stream",
     "text": [
      "Ans-: Using custom python method as shown in the previous section.\n",
      "      Using statistics library method such as stdev and pstdev.\n",
      "      Using numpy library method such as stdev.\n"
     ]
    }
   ],
   "source": [
    "# Q11. What are three different ways to get the standard deviation of a wide collection of data using both standard Python and its packages? Sort the three of them by how quickly they execute.\n",
    "\n",
    "print('''Ans-: Using custom python method as shown in the previous section.\n",
    "      Using statistics library method such as stdev and pstdev.\n",
    "      Using numpy library method such as stdev.''')\n",
    "\n"
   ]
  },
  {
   "cell_type": "code",
   "execution_count": 12,
   "id": "8f95f44f",
   "metadata": {},
   "outputs": [
    {
     "name": "stdout",
     "output_type": "stream",
     "text": [
      "Ans-: One-dimensional array\n"
     ]
    }
   ],
   "source": [
    "# Q12. What is the dimensionality of a Boolean mask-generated array?\n",
    "\n",
    "print('Ans-: One-dimensional array')"
   ]
  },
  {
   "cell_type": "code",
   "execution_count": null,
   "id": "c62a846c",
   "metadata": {},
   "outputs": [],
   "source": []
  }
 ],
 "metadata": {
  "kernelspec": {
   "display_name": "Python 3 (ipykernel)",
   "language": "python",
   "name": "python3"
  },
  "language_info": {
   "codemirror_mode": {
    "name": "ipython",
    "version": 3
   },
   "file_extension": ".py",
   "mimetype": "text/x-python",
   "name": "python",
   "nbconvert_exporter": "python",
   "pygments_lexer": "ipython3",
   "version": "3.10.6"
  }
 },
 "nbformat": 4,
 "nbformat_minor": 5
}
