{
 "cells": [
  {
   "cell_type": "code",
   "execution_count": 1,
   "id": "cb0cf495",
   "metadata": {},
   "outputs": [
    {
     "name": "stdout",
     "output_type": "stream",
     "text": [
      "Ans-: A module in python is simply a way to organize the code, and it contains either python\n",
      "      classes or just functions.\n"
     ]
    }
   ],
   "source": [
    "# Q1. What is the relationship between classes and modules?\n",
    "\n",
    "print('''Ans-: A module in python is simply a way to organize the code, and it contains either python\n",
    "      classes or just functions.''')\n",
    "\n"
   ]
  },
  {
   "cell_type": "code",
   "execution_count": 2,
   "id": "5f45cfd8",
   "metadata": {},
   "outputs": [
    {
     "name": "stdout",
     "output_type": "stream",
     "text": [
      "Ans-: call the class using class name and pass in whatever arguments its __init__ method accepts.\n"
     ]
    }
   ],
   "source": [
    "# Q2. How do you make instances and classes?\n",
    "\n",
    "print('''Ans-: call the class using class name and pass in whatever arguments its __init__ method accepts.''')\n",
    "\n"
   ]
  },
  {
   "cell_type": "code",
   "execution_count": 3,
   "id": "0371b8b4",
   "metadata": {},
   "outputs": [
    {
     "name": "stdout",
     "output_type": "stream",
     "text": [
      "Ans-: To define a class attribute, you place it outside of the __init__() method. Use class_name.\n",
      "      class_attribute or object_name. class_attribute to access the value of the class_attribute.\n"
     ]
    }
   ],
   "source": [
    "# Q3. Where and how should be class attributes created?\n",
    "\n",
    "print('''Ans-: To define a class attribute, you place it outside of the __init__() method. Use class_name.\n",
    "      class_attribute or object_name. class_attribute to access the value of the class_attribute.''')\n",
    "\n"
   ]
  },
  {
   "cell_type": "code",
   "execution_count": 4,
   "id": "4d21a321",
   "metadata": {},
   "outputs": [
    {
     "name": "stdout",
     "output_type": "stream",
     "text": [
      "Ans-: Instance attributes are defined in the __init__() function.\n"
     ]
    }
   ],
   "source": [
    "# Q4. Where and how are instance attributes created?\n",
    "\n",
    "print('''Ans-: Instance attributes are defined in the __init__() function.''')\n",
    "\n"
   ]
  },
  {
   "cell_type": "code",
   "execution_count": 5,
   "id": "144ba1bf",
   "metadata": {},
   "outputs": [
    {
     "name": "stdout",
     "output_type": "stream",
     "text": [
      "Ans-: self : self represents the instance of the class. By using the \"self\" keyword all the \n",
      "      attributes and methods of the python class can be accessed. __init__ : \"__init__\" is a \n",
      "      reserved method in python classes. It is known as a constructor in object oriented \n",
      "      concepts.\n"
     ]
    }
   ],
   "source": [
    "# Q5. What does the term \"self\" in a Python class mean?\n",
    "\n",
    "print('''Ans-: self : self represents the instance of the class. By using the \"self\" keyword all the \n",
    "      attributes and methods of the python class can be accessed. __init__ : \"__init__\" is a \n",
    "      reserved method in python classes. It is known as a constructor in object oriented \n",
    "      concepts.''')\n",
    "\n"
   ]
  },
  {
   "cell_type": "code",
   "execution_count": 6,
   "id": "2bfe7029",
   "metadata": {},
   "outputs": [
    {
     "name": "stdout",
     "output_type": "stream",
     "text": [
      "Ans-: In Python, overloading is achieved by overriding the method which is specifically\n",
      "      for that operator, in the user-defined class. For example, __add__(self, x) is a method\n",
      "      reserved for overloading + operator, and __eq__(self, x) is for overloading == .\n"
     ]
    }
   ],
   "source": [
    "# Q6. How does a Python class handle operator overloading?\n",
    "\n",
    "print('''Ans-: In Python, overloading is achieved by overriding the method which is specifically\n",
    "      for that operator, in the user-defined class. For example, __add__(self, x) is a method\n",
    "      reserved for overloading + operator, and __eq__(self, x) is for overloading == .''')\n",
    "\n"
   ]
  },
  {
   "cell_type": "code",
   "execution_count": 7,
   "id": "5d6c819b",
   "metadata": {},
   "outputs": [
    {
     "name": "stdout",
     "output_type": "stream",
     "text": [
      "Ans-: Consider that we have two objects which are a physical representation of a class (user-defined \n",
      "      data type) and we have to add two objects with binary '+' operator it throws an error, because\n",
      "      compiler don't know how to add two objects. So we define a method for an operator and that \n",
      "      process is called operator overloading.\n"
     ]
    }
   ],
   "source": [
    "# Q7. When do you consider allowing operator overloading of your classes?\n",
    "\n",
    "print('''Ans-: Consider that we have two objects which are a physical representation of a class (user-defined \n",
    "      data type) and we have to add two objects with binary '+' operator it throws an error, because\n",
    "      compiler don't know how to add two objects. So we define a method for an operator and that \n",
    "      process is called operator overloading.''')\n",
    "\n"
   ]
  },
  {
   "cell_type": "code",
   "execution_count": 8,
   "id": "6c350a83",
   "metadata": {},
   "outputs": [
    {
     "name": "stdout",
     "output_type": "stream",
     "text": [
      "Ans-: is the Addition (+) operator. \n"
     ]
    }
   ],
   "source": [
    "# Q8. What is the most popular form of operator overloading?\n",
    "\n",
    "print('Ans-: is the Addition (+) operator. ')\n",
    "\n",
    "  "
   ]
  },
  {
   "cell_type": "code",
   "execution_count": 9,
   "id": "4e144a01",
   "metadata": {},
   "outputs": [
    {
     "name": "stdout",
     "output_type": "stream",
     "text": [
      "Ans-: Both inheritance and polymorphism are fundamental concepts of object oriented programming.\n",
      "      These concepts help us to create code that can be extended and easily maintainable.\n"
     ]
    }
   ],
   "source": [
    "# Q9. What are the two most important concepts to grasp in order to comprehend Python OOP code?\n",
    "\n",
    "print('''Ans-: Both inheritance and polymorphism are fundamental concepts of object oriented programming.\n",
    "      These concepts help us to create code that can be extended and easily maintainable.''')"
   ]
  },
  {
   "cell_type": "code",
   "execution_count": null,
   "id": "022820d9",
   "metadata": {},
   "outputs": [],
   "source": []
  }
 ],
 "metadata": {
  "kernelspec": {
   "display_name": "Python 3 (ipykernel)",
   "language": "python",
   "name": "python3"
  },
  "language_info": {
   "codemirror_mode": {
    "name": "ipython",
    "version": 3
   },
   "file_extension": ".py",
   "mimetype": "text/x-python",
   "name": "python",
   "nbconvert_exporter": "python",
   "pygments_lexer": "ipython3",
   "version": "3.10.6"
  }
 },
 "nbformat": 4,
 "nbformat_minor": 5
}
