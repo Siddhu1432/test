{
 "cells": [
  {
   "cell_type": "code",
   "execution_count": 1,
   "id": "d1f64e92",
   "metadata": {},
   "outputs": [
    {
     "name": "stdout",
     "output_type": "stream",
     "text": [
      "Ans-: Yes, this type of operators are helpful to faster result at the runtime\n"
     ]
    }
   ],
   "source": [
    "# Q1. Is an assignment operator like += only for show? Is it possible that it would lead to faster results at the runtime?\n",
    "\n",
    "print('Ans-: Yes, this type of operators are helpful to faster result at the runtime')\n",
    "\n"
   ]
  },
  {
   "cell_type": "code",
   "execution_count": 2,
   "id": "c98a8a24",
   "metadata": {},
   "outputs": [
    {
     "name": "stdout",
     "output_type": "stream",
     "text": [
      "a - 30\n",
      "b - 20\n"
     ]
    }
   ],
   "source": [
    "# Q2. What is the smallest number of statements you'd have to write in most programming languages to replace the Python expression a, b = a + b, a?\n",
    "\n",
    "a=10 \n",
    "b=20 \n",
    "a,b = a+b,b\n",
    "print ('a -',a) \n",
    "print ('b -',b)\n",
    "\n",
    "\n"
   ]
  },
  {
   "cell_type": "code",
   "execution_count": 3,
   "id": "f0321435",
   "metadata": {},
   "outputs": [
    {
     "name": "stdout",
     "output_type": "stream",
     "text": [
      "Ans-: list(range(0, 101)) function call. \n"
     ]
    }
   ],
   "source": [
    "# Q3. In Python, what is the most effective way to set a list of 100 integers to 0?\n",
    "\n",
    "print('Ans-: list(range(0, 101)) function call. ')\n",
    "\n"
   ]
  },
  {
   "cell_type": "code",
   "execution_count": 4,
   "id": "40d2e706",
   "metadata": {},
   "outputs": [
    {
     "name": "stdout",
     "output_type": "stream",
     "text": [
      "[[1, 2, 3], [1, 2, 3], [1, 2, 3], [1, 2, 3], [1, 2, 3], [1, 2, 3], [1, 2, 3], [1, 2, 3], [1, 2, 3], [1, 2, 3], [1, 2, 3], [1, 2, 3], [1, 2, 3], [1, 2, 3], [1, 2, 3], [1, 2, 3], [1, 2, 3], [1, 2, 3], [1, 2, 3], [1, 2, 3], [1, 2, 3], [1, 2, 3], [1, 2, 3], [1, 2, 3], [1, 2, 3], [1, 2, 3], [1, 2, 3], [1, 2, 3], [1, 2, 3], [1, 2, 3], [1, 2, 3], [1, 2, 3], [1, 2, 3], [1, 2, 3], [1, 2, 3], [1, 2, 3], [1, 2, 3], [1, 2, 3], [1, 2, 3], [1, 2, 3], [1, 2, 3], [1, 2, 3], [1, 2, 3], [1, 2, 3], [1, 2, 3], [1, 2, 3], [1, 2, 3], [1, 2, 3], [1, 2, 3], [1, 2, 3], [1, 2, 3], [1, 2, 3], [1, 2, 3], [1, 2, 3], [1, 2, 3], [1, 2, 3], [1, 2, 3], [1, 2, 3], [1, 2, 3], [1, 2, 3], [1, 2, 3], [1, 2, 3], [1, 2, 3], [1, 2, 3], [1, 2, 3], [1, 2, 3], [1, 2, 3], [1, 2, 3], [1, 2, 3], [1, 2, 3], [1, 2, 3], [1, 2, 3], [1, 2, 3], [1, 2, 3], [1, 2, 3], [1, 2, 3], [1, 2, 3], [1, 2, 3], [1, 2, 3], [1, 2, 3], [1, 2, 3], [1, 2, 3], [1, 2, 3], [1, 2, 3], [1, 2, 3], [1, 2, 3], [1, 2, 3], [1, 2, 3], [1, 2, 3], [1, 2, 3], [1, 2, 3], [1, 2, 3], [1, 2, 3], [1, 2, 3], [1, 2, 3], [1, 2, 3], [1, 2, 3], [1, 2, 3], [1, 2, 3]]\n"
     ]
    }
   ],
   "source": [
    "# Q4. What is the most effective way to initialise a list of 99 integers that repeats the sequence 1, 2, 3? S If necessary, show step-by-step instructions on how to accomplish this.\n",
    "\n",
    "num = []\n",
    "\n",
    "for i in range(1,100):\n",
    "    a = [1,2,3]\n",
    "    num.append(a)\n",
    "print(num)\n",
    "    \n"
   ]
  },
  {
   "cell_type": "code",
   "execution_count": 5,
   "id": "17546c16",
   "metadata": {},
   "outputs": [
    {
     "name": "stdout",
     "output_type": "stream",
     "text": [
      "Ans-: Fitting in a list function inside another list function.\n"
     ]
    }
   ],
   "source": [
    "# Q5. If you are using IDLE to run a Python application, explain how to print a multidimensional list as efficiently?\n",
    "\n",
    "print('Ans-: Fitting in a list function inside another list function.')\n",
    "\n",
    "\n"
   ]
  },
  {
   "cell_type": "code",
   "execution_count": 6,
   "id": "0e7978ea",
   "metadata": {},
   "outputs": [
    {
     "name": "stdout",
     "output_type": "stream",
     "text": [
      "Ans-: List comprehension in Python is an easy and compact syntax for creating a list from a string or another list.\n"
     ]
    }
   ],
   "source": [
    "# Q6. Is it possible to use list comprehension with a string? If so, how can you go about doing it?\n",
    "\n",
    "print('''Ans-: List comprehension in Python is an easy and compact syntax for creating a list from a string or another list.''')\n",
    "\n"
   ]
  },
  {
   "cell_type": "code",
   "execution_count": 7,
   "id": "0e89ba58",
   "metadata": {},
   "outputs": [
    {
     "name": "stdout",
     "output_type": "stream",
     "text": [
      "Ans-: You can also open IDLE directly from your Python script file. Right click the file, then choose\n",
      "      \"Edit with IDLE\". Rather than going through the \"Run...\" menu, learn to use F5 (on some systems, Fn + F5)\n",
      "      to run your script.\n"
     ]
    }
   ],
   "source": [
    "# Q7. From the command line, how do you get support with a user-written Python programme? Is this possible from inside IDLE?\n",
    "\n",
    "print('''Ans-: You can also open IDLE directly from your Python script file. Right click the file, then choose\n",
    "      \"Edit with IDLE\". Rather than going through the \"Run...\" menu, learn to use F5 (on some systems, Fn + F5)\n",
    "      to run your script.''')\n",
    "\n"
   ]
  },
  {
   "cell_type": "code",
   "execution_count": 8,
   "id": "a0bbe57f",
   "metadata": {},
   "outputs": [
    {
     "name": "stdout",
     "output_type": "stream",
     "text": [
      "Ans-: The callable(object) method takes only one argument, an object and returns one of the two values:\n",
      "      returns True, if the object appears to be callable.\n",
      "      returns False, if the object is not callable.\n"
     ]
    }
   ],
   "source": [
    "# Q8. Functions are said to be “first-class objects” in Python but not in most other languages, such as C++ or Java. What can you do in Python with a function (callable object) that you can't do in C or C++?\n",
    "\n",
    "print('''Ans-: The callable(object) method takes only one argument, an object and returns one of the two values:\n",
    "      returns True, if the object appears to be callable.\n",
    "      returns False, if the object is not callable.''')\n",
    "\n"
   ]
  },
  {
   "cell_type": "code",
   "execution_count": 9,
   "id": "d445a6b3",
   "metadata": {},
   "outputs": [
    {
     "name": "stdout",
     "output_type": "stream",
     "text": [
      "Ans-: Decorators allow us to wrap another function in order to extend the behavior of the wrapped function,\n",
      "      without permanently modifying it. \n"
     ]
    }
   ],
   "source": [
    "# Q9. How do you distinguish between a wrapper, a wrapped feature, and a decorator?\n",
    "\n",
    "print('''Ans-: Decorators allow us to wrap another function in order to extend the behavior of the wrapped function,\n",
    "      without permanently modifying it. ''')\n",
    "\n"
   ]
  },
  {
   "cell_type": "code",
   "execution_count": 10,
   "id": "74d87ab4",
   "metadata": {},
   "outputs": [
    {
     "name": "stdout",
     "output_type": "stream",
     "text": [
      "Ans-: A generator is a special type of function which does not return a single value, instead,\n",
      "      it returns an iterator object with a sequence of values. \n"
     ]
    }
   ],
   "source": [
    "# Q10. If a function is a generator function, what does it return?\n",
    "\n",
    "print('''Ans-: A generator is a special type of function which does not return a single value, instead,\n",
    "      it returns an iterator object with a sequence of values. ''')\n",
    "\n"
   ]
  },
  {
   "cell_type": "code",
   "execution_count": 11,
   "id": "0175f62d",
   "metadata": {},
   "outputs": [
    {
     "name": "stdout",
     "output_type": "stream",
     "text": [
      "Ans-: allow you to declare a function that behaves likes an iterator, allowing programmers to make\n",
      "      an iterator in a fast, easy, and clean way. \n"
     ]
    }
   ],
   "source": [
    "# Q11. What is the one improvement that must be made to a function in order for it to become a generator function in the Python language?\n",
    "\n",
    "print('''Ans-: allow you to declare a function that behaves likes an iterator, allowing programmers to make\n",
    "      an iterator in a fast, easy, and clean way. ''')\n",
    "\n"
   ]
  },
  {
   "cell_type": "code",
   "execution_count": 12,
   "id": "6dad8053",
   "metadata": {},
   "outputs": [
    {
     "name": "stdout",
     "output_type": "stream",
     "text": [
      "Ans-:  allow you to create iterators in a very pythonic manner\n"
     ]
    }
   ],
   "source": [
    "# Q12. Identify at least one benefit of generators.\n",
    "\n",
    "print('Ans-:  allow you to create iterators in a very pythonic manner')"
   ]
  },
  {
   "cell_type": "code",
   "execution_count": null,
   "id": "9eec6481",
   "metadata": {},
   "outputs": [],
   "source": []
  }
 ],
 "metadata": {
  "kernelspec": {
   "display_name": "Python 3 (ipykernel)",
   "language": "python",
   "name": "python3"
  },
  "language_info": {
   "codemirror_mode": {
    "name": "ipython",
    "version": 3
   },
   "file_extension": ".py",
   "mimetype": "text/x-python",
   "name": "python",
   "nbconvert_exporter": "python",
   "pygments_lexer": "ipython3",
   "version": "3.10.6"
  }
 },
 "nbformat": 4,
 "nbformat_minor": 5
}
