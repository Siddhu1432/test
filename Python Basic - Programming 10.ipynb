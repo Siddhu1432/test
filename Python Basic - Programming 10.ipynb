{
 "cells": [
  {
   "cell_type": "code",
   "execution_count": 1,
   "id": "5ff6c1b6",
   "metadata": {},
   "outputs": [
    {
     "name": "stdout",
     "output_type": "stream",
     "text": [
      "[10, 9, 7, 5]\n",
      "sum of list:  31\n"
     ]
    }
   ],
   "source": [
    "# 1.Write a Python program to find sum of elements in list?\n",
    "\n",
    "def sumlist(list):\n",
    "    sum=0\n",
    "    for i in range(len(list)):\n",
    "        sum = sum+list[i]\n",
    "    return sum\n",
    "\n",
    "list = [10, 9, 7, 5]\n",
    "print(list)\n",
    "print(\"sum of list: \",sumlist(list))\n"
   ]
  },
  {
   "cell_type": "code",
   "execution_count": 2,
   "id": "8d95c23e",
   "metadata": {},
   "outputs": [
    {
     "name": "stdout",
     "output_type": "stream",
     "text": [
      "-336\n"
     ]
    }
   ],
   "source": [
    "# 2.Write a Python program to  Multiply all numbers in the list?\n",
    "\n",
    "def multiply(numbers):  \n",
    "    total = 1\n",
    "    for x in numbers:\n",
    "        total *= x  \n",
    "    return total  \n",
    "print(multiply((8, 2, 3, -1, 7)))"
   ]
  },
  {
   "cell_type": "code",
   "execution_count": 3,
   "id": "21d9d8d5",
   "metadata": {},
   "outputs": [
    {
     "name": "stdout",
     "output_type": "stream",
     "text": [
      "smallest in  [3, 9, 7, 3, 6, 5, 7, 24, 6] is\n",
      "3\n"
     ]
    }
   ],
   "source": [
    "# 3.Write a Python program to find smallest number in a list?\n",
    "\n",
    "def smallest(list):\n",
    "    small= list[0]\n",
    "    for i in list:\n",
    "        if i<small:\n",
    "            small=i\n",
    "    return small\n",
    "\n",
    "list=[3, 9, 7, 3, 6, 5, 7, 24, 6]\n",
    "print(\"smallest in \",list,\"is\")\n",
    "print(smallest(list))"
   ]
  },
  {
   "cell_type": "code",
   "execution_count": 8,
   "id": "3065daeb",
   "metadata": {},
   "outputs": [
    {
     "name": "stdout",
     "output_type": "stream",
     "text": [
      "largest in  [3, 9, 7, 3, 6, 5, 7, 24, 6] is\n",
      "24\n"
     ]
    }
   ],
   "source": [
    "# 4.Write a Python program to find largest number in a list?\n",
    "\n",
    "def largest(list):\n",
    "    large= list[0]\n",
    "    for i in list:\n",
    "        if i>large:\n",
    "            large=i\n",
    "    return large\n",
    "\n",
    "list=[3, 9, 7, 3, 6, 5, 7, 24, 6]\n",
    "print(\"largest in \",list,\"is\")\n",
    "print(largest(list))"
   ]
  },
  {
   "cell_type": "code",
   "execution_count": 12,
   "id": "6226eb60",
   "metadata": {},
   "outputs": [
    {
     "name": "stdout",
     "output_type": "stream",
     "text": [
      "45\n"
     ]
    }
   ],
   "source": [
    "# 5.Write a Python program to find second largest number in a list?\n",
    "\n",
    "list1 = [10, 20, 4, 45, 99]\n",
    " \n",
    "new_list = set(list1)\n",
    " \n",
    "new_list.remove(max(new_list))\n",
    " \n",
    "print(max(new_list))"
   ]
  },
  {
   "cell_type": "code",
   "execution_count": 13,
   "id": "623bed9b",
   "metadata": {},
   "outputs": [
    {
     "name": "stdout",
     "output_type": "stream",
     "text": [
      "2 max elements in  [2, 6, 41, 85, 0, 3, 7, 6, 10]\n",
      "[85, 41]\n"
     ]
    }
   ],
   "source": [
    "# 6.Write a Python program to find N largest elements from a list?\n",
    "\n",
    "def N_max_elements(list, N):\n",
    "    result_list = []\n",
    "  \n",
    "    for i in range(0, N): \n",
    "        maximum = 0\n",
    "          \n",
    "        for j in range(len(list)):     \n",
    "            if list[j] > maximum:\n",
    "                maximum = list[j]\n",
    "                  \n",
    "        list.remove(maximum)\n",
    "        result_list.append(maximum)\n",
    "          \n",
    "    return result_list\n",
    "  \n",
    "\n",
    "list1 = [2, 6, 41, 85, 0, 3, 7, 6, 10]\n",
    "N = 2\n",
    "\n",
    "print(N, \"max elements in \",list1)\n",
    "  \n",
    "print(N_max_elements(list1, N))"
   ]
  },
  {
   "cell_type": "code",
   "execution_count": 15,
   "id": "573719d0",
   "metadata": {},
   "outputs": [
    {
     "name": "stdout",
     "output_type": "stream",
     "text": [
      "20 58 "
     ]
    }
   ],
   "source": [
    "#7.Write a Python program to print even numbers in a list?\n",
    "\n",
    "def evens(nums_list):\n",
    "   # iteration\n",
    "   for num in nums_list:\n",
    "\n",
    "      # check for remainder\n",
    "         if num % 2 == 0:\n",
    "            print(num, end=' ')\n",
    "\n",
    "evens([5, 20, 21, 58, 3])\n"
   ]
  },
  {
   "cell_type": "code",
   "execution_count": 16,
   "id": "6f47b21f",
   "metadata": {},
   "outputs": [
    {
     "name": "stdout",
     "output_type": "stream",
     "text": [
      "11 23 45 23 11 "
     ]
    }
   ],
   "source": [
    "#8.Write a Python program to print odd numbers in a List?\n",
    "\n",
    "list1 = [11,23,45,23,64,22,11,24]\n",
    "\n",
    "for num in list1:\n",
    "   # check\n",
    "   if num % 2 != 0:\n",
    "        print(num, end = \" \")\n"
   ]
  },
  {
   "cell_type": "code",
   "execution_count": 17,
   "id": "85f12d67",
   "metadata": {},
   "outputs": [
    {
     "name": "stdout",
     "output_type": "stream",
     "text": [
      "['A', 'B', 'C']\n",
      "[1, 6, 3, 9]\n"
     ]
    }
   ],
   "source": [
    "#9.Write a Python program to Remove empty List from List?\n",
    "\n",
    "list1 = ['A', '   ', ' ', 'B', '            ', 'C']\n",
    "res = [ele for ele in list1 if ele.strip()]\n",
    "print(res)\n",
    "\n",
    "list2 = [1, 6, [], 3, [], [], 9]\n",
    "res = [ele for ele in list2 if ele != []]\n",
    "print(res)\n"
   ]
  },
  {
   "cell_type": "code",
   "execution_count": 18,
   "id": "4d8f9e41",
   "metadata": {},
   "outputs": [
    {
     "name": "stdout",
     "output_type": "stream",
     "text": [
      "Enter size of list 5\n",
      "Enter element of list 3\n",
      "Enter element of list 6\n",
      "Enter element of list 2\n",
      "Enter element of list 1\n",
      "Enter element of list 5\n",
      "Original list:  [3, 6, 2, 1, 5]\n",
      "After cloning:  [3, 6, 2, 1, 5]\n"
     ]
    }
   ],
   "source": [
    "#10.Write a Python program to Cloning or Copying a list?\n",
    "\n",
    "li=[]\n",
    "n=int(input(\"Enter size of list \"))\n",
    "for i in range(0,n):\n",
    "    e=int(input(\"Enter element of list \"))\n",
    "    li.append(e)\n",
    "print(\"Original list: \",li)\n",
    "\n",
    "list_copy = li[:]\n",
    "print(\"After cloning: \",list_copy)"
   ]
  },
  {
   "cell_type": "code",
   "execution_count": 19,
   "id": "2f9399fd",
   "metadata": {},
   "outputs": [
    {
     "name": "stdout",
     "output_type": "stream",
     "text": [
      "Given list:\n",
      " ['Mon', 'Wed', 'Mon', 'Tue', 'Thu']\n",
      "Given element:\n",
      " Mon\n",
      "Number of times the element is present in list:\n",
      " 2\n"
     ]
    }
   ],
   "source": [
    "#11.Write a Python program to Count occurrences of an element in a list?\n",
    "\n",
    "from collections import Counter\n",
    "Alist = ['Mon', 'Wed', 'Mon', 'Tue', 'Thu']\n",
    "elem = 'Mon'\n",
    "print(\"Given list:\\n\", Alist)\n",
    "print(\"Given element:\\n\",elem)\n",
    "cnt = Counter(Alist)\n",
    "print(\"Number of times the element is present in list:\\n\",cnt[elem])\n"
   ]
  },
  {
   "cell_type": "code",
   "execution_count": null,
   "id": "fcdb411e",
   "metadata": {},
   "outputs": [],
   "source": []
  }
 ],
 "metadata": {
  "kernelspec": {
   "display_name": "Python 3 (ipykernel)",
   "language": "python",
   "name": "python3"
  },
  "language_info": {
   "codemirror_mode": {
    "name": "ipython",
    "version": 3
   },
   "file_extension": ".py",
   "mimetype": "text/x-python",
   "name": "python",
   "nbconvert_exporter": "python",
   "pygments_lexer": "ipython3",
   "version": "3.10.6"
  }
 },
 "nbformat": 4,
 "nbformat_minor": 5
}
